{
 "cells": [
  {
   "cell_type": "markdown",
   "metadata": {},
   "source": [
    "# 準備"
   ]
  },
  {
   "cell_type": "code",
   "execution_count": null,
   "metadata": {
    "ExecuteTime": {
     "end_time": "2020-01-16T03:23:54.670636Z",
     "start_time": "2020-01-16T03:23:32.787718Z"
    },
    "collapsed": true
   },
   "outputs": [],
   "source": [
    "import sys\n",
    "import codecs\n",
    "import re\n",
    "import pandas as pd\n",
    "import numpy as np\n",
    "import jaconv"
   ]
  },
  {
   "cell_type": "code",
   "execution_count": null,
   "metadata": {
    "ExecuteTime": {
     "end_time": "2020-01-16T03:23:57.210404Z",
     "start_time": "2020-01-16T03:23:57.205401Z"
    },
    "collapsed": true
   },
   "outputs": [],
   "source": [
    "# pandas の最大表示列数を設定 (max_rows で表示行数の設定も可能)\n",
    "pd.set_option('display.max_columns', 30)"
   ]
  },
  {
   "cell_type": "code",
   "execution_count": null,
   "metadata": {
    "ExecuteTime": {
     "end_time": "2020-01-16T03:23:58.353273Z",
     "start_time": "2020-01-16T03:23:58.350272Z"
    },
    "collapsed": true,
    "scrolled": true
   },
   "outputs": [],
   "source": [
    "# ファイルパス\n",
    "path = r'C:\\Users\\BestecAudioTecHH\\Documents\\GitHub\\BAC\\DO_NOT_PUSH'"
   ]
  },
  {
   "cell_type": "markdown",
   "metadata": {},
   "source": [
    "# excel ファイルの読み込み、作業用テーブルの作成"
   ]
  },
  {
   "cell_type": "markdown",
   "metadata": {
    "heading_collapsed": true
   },
   "source": [
    "## 住所データ結合版"
   ]
  },
  {
   "cell_type": "code",
   "execution_count": null,
   "metadata": {
    "ExecuteTime": {
     "end_time": "2017-12-20T04:48:41.404375Z",
     "start_time": "2017-12-20T04:48:40.347708Z"
    },
    "collapsed": true,
    "hidden": true
   },
   "outputs": [],
   "source": [
    "bestec_excel = pd.read_excel(r'{0}\\Bestecaudio得意先リスト20170728更新_local_171214.xlsx'.format(path))"
   ]
  },
  {
   "cell_type": "code",
   "execution_count": null,
   "metadata": {
    "ExecuteTime": {
     "end_time": "2017-12-20T04:48:49.182863Z",
     "start_time": "2017-12-20T04:48:49.165851Z"
    },
    "collapsed": true,
    "hidden": true
   },
   "outputs": [],
   "source": [
    "# 作業用テーブルの作成\n",
    "bestec_table = bestec_excel[['担当者コード', '担当者名', '得意先', '名カナ', '得意先名1', '得意先名2', '郵便番号', '住所1', '住所2',\n",
    "       '住所3', '電話番号', 'FAX番号']]"
   ]
  },
  {
   "cell_type": "code",
   "execution_count": null,
   "metadata": {
    "ExecuteTime": {
     "end_time": "2017-12-21T08:00:33.401530Z",
     "start_time": "2017-12-21T08:00:33.291465Z"
    },
    "collapsed": true,
    "hidden": true
   },
   "outputs": [],
   "source": [
    "# str 型を明示\n",
    "bestec_table = bestec_table.astype({'担当者コード':str, '担当者名': str, '得意先': str, '名カナ': str, '得意先名1': str, '得意先名2': str, '郵便番号': str,\n",
    "                                        '住所1': str, '住所2': str, '住所3': str, '電話番号': str, 'FAX番号': str})"
   ]
  },
  {
   "cell_type": "code",
   "execution_count": null,
   "metadata": {
    "ExecuteTime": {
     "end_time": "2017-12-20T04:49:24.040357Z",
     "start_time": "2017-12-20T04:49:24.027348Z"
    },
    "collapsed": true,
    "hidden": true
   },
   "outputs": [],
   "source": [
    "# 住所列結合\n",
    "bestec_table['住所'] = bestec_table['住所1'] + bestec_table['住所2'] + bestec_table['住所3']"
   ]
  },
  {
   "cell_type": "code",
   "execution_count": null,
   "metadata": {
    "ExecuteTime": {
     "end_time": "2017-12-20T04:49:28.232203Z",
     "start_time": "2017-12-20T04:49:28.226187Z"
    },
    "collapsed": true,
    "hidden": true
   },
   "outputs": [],
   "source": [
    "# 結合済み住所列削除\n",
    "bestec_table = bestec_table[['担当者コード', '担当者名', '得意先', '名カナ', '得意先名1', '得意先名2', '郵便番号', '住所', '電話番号', 'FAX番号']]"
   ]
  },
  {
   "cell_type": "markdown",
   "metadata": {},
   "source": [
    "## 住所データ現状維持版"
   ]
  },
  {
   "cell_type": "code",
   "execution_count": null,
   "metadata": {
    "ExecuteTime": {
     "end_time": "2018-01-22T03:50:04.365389Z",
     "start_time": "2018-01-22T03:50:04.362399Z"
    },
    "collapsed": true
   },
   "outputs": [],
   "source": [
    "# version = 180111"
   ]
  },
  {
   "cell_type": "code",
   "execution_count": null,
   "metadata": {
    "ExecuteTime": {
     "end_time": "2018-01-22T03:34:38.985398Z",
     "start_time": "2018-01-22T03:34:38.981395Z"
    },
    "collapsed": true
   },
   "outputs": [],
   "source": [
    "# file_name = r'{0}\\Bestecaudio得意先リスト20170728更新_{1}.xlsx'.format(path, version)"
   ]
  },
  {
   "cell_type": "code",
   "execution_count": null,
   "metadata": {
    "ExecuteTime": {
     "end_time": "2018-01-22T03:50:13.685689Z",
     "start_time": "2018-01-22T03:50:13.682687Z"
    },
    "collapsed": true
   },
   "outputs": [],
   "source": [
    "# file_name = r'{0}\\得意先リスト20180109更新_{1}.xlsx'.format(path, version)"
   ]
  },
  {
   "cell_type": "code",
   "execution_count": null,
   "metadata": {
    "ExecuteTime": {
     "end_time": "2020-01-16T03:25:27.474397Z",
     "start_time": "2020-01-16T03:25:27.470396Z"
    },
    "collapsed": true
   },
   "outputs": [],
   "source": [
    "file_name = r'{0}\\得意先リスト20181227更新.xlsx'.format(path)"
   ]
  },
  {
   "cell_type": "markdown",
   "metadata": {},
   "source": [
    "### bestec"
   ]
  },
  {
   "cell_type": "code",
   "execution_count": null,
   "metadata": {
    "ExecuteTime": {
     "end_time": "2020-01-16T03:29:36.194858Z",
     "start_time": "2020-01-16T03:29:36.189856Z"
    },
    "collapsed": true
   },
   "outputs": [],
   "source": [
    "# sheet_1 = 'Bestec得意先リスト'\n",
    "# sheet_1 = 'ベステック得意先リスト'\n",
    "sheet_1 = 'べステックオーディオ得意先リスト'"
   ]
  },
  {
   "cell_type": "code",
   "execution_count": null,
   "metadata": {
    "ExecuteTime": {
     "end_time": "2020-01-16T03:29:41.928727Z",
     "start_time": "2020-01-16T03:29:41.068682Z"
    },
    "scrolled": true
   },
   "outputs": [],
   "source": [
    "# 読み込み (列の追加や削減、列名の変更があった場合にはこのままでは対応できないので要注意)\n",
    "# 先頭の不要行を削除してから実行のこと\n",
    "# 先頭に空白行があっても自動的にスキップしてくれる?\n",
    "bestec_excel = pd.read_excel(file_name, sheet_1, keep_default_na=False)"
   ]
  },
  {
   "cell_type": "code",
   "execution_count": null,
   "metadata": {
    "ExecuteTime": {
     "end_time": "2020-01-16T03:29:47.275434Z",
     "start_time": "2020-01-16T03:29:47.180389Z"
    },
    "collapsed": true
   },
   "outputs": [],
   "source": [
    "# 不要列の削除と並び替え (2017年の元ファイルに揃える)\n",
    "# (列の追加や削減、列名の変更があった場合にはこのままでは対応できないので要注意)\n",
    "bestec_excel = bestec_excel[['担当者コード',\n",
    "                             '担当者名',\n",
    "                             '得意先',\n",
    "                             '名カナ',\n",
    "                             '得意先名1',\n",
    "                             '得意先名2',\n",
    "                             '郵便番号',\n",
    "                             '住所1',\n",
    "                             '住所2',\n",
    "                             '住所3',\n",
    "                             '電話番号',\n",
    "                             'FAX番号',\n",
    "                             ]]"
   ]
  },
  {
   "cell_type": "code",
   "execution_count": null,
   "metadata": {
    "ExecuteTime": {
     "end_time": "2020-01-16T03:29:48.203427Z",
     "start_time": "2020-01-16T03:29:48.187416Z"
    }
   },
   "outputs": [],
   "source": [
    "bestec_excel.columns"
   ]
  },
  {
   "cell_type": "code",
   "execution_count": null,
   "metadata": {
    "ExecuteTime": {
     "end_time": "2020-01-16T03:30:00.809705Z",
     "start_time": "2020-01-16T03:30:00.804702Z"
    }
   },
   "outputs": [],
   "source": [
    "len(bestec_excel.columns)"
   ]
  },
  {
   "cell_type": "code",
   "execution_count": null,
   "metadata": {
    "ExecuteTime": {
     "end_time": "2020-01-16T03:30:06.856005Z",
     "start_time": "2020-01-16T03:30:06.795975Z"
    }
   },
   "outputs": [],
   "source": [
    "bestec_excel"
   ]
  },
  {
   "cell_type": "code",
   "execution_count": null,
   "metadata": {
    "ExecuteTime": {
     "end_time": "2020-01-16T03:30:30.578229Z",
     "start_time": "2020-01-16T03:30:30.572224Z"
    }
   },
   "outputs": [],
   "source": [
    "len(bestec_excel)\n",
    "# 2018-07-31 914\n",
    "# 2019-01-07 948\n",
    "# 2019-08-19 975\n",
    "# 2019-08-26 977\n",
    "# 2020-01-16 997"
   ]
  },
  {
   "cell_type": "code",
   "execution_count": null,
   "metadata": {
    "ExecuteTime": {
     "end_time": "2020-01-16T03:30:54.331635Z",
     "start_time": "2020-01-16T03:30:54.323629Z"
    }
   },
   "outputs": [],
   "source": [
    "bestec_excel.dtypes"
   ]
  },
  {
   "cell_type": "code",
   "execution_count": null,
   "metadata": {
    "ExecuteTime": {
     "end_time": "2020-01-16T03:30:52.143244Z",
     "start_time": "2020-01-16T03:30:52.100213Z"
    },
    "collapsed": true
   },
   "outputs": [],
   "source": [
    "# 作業用テーブルの作成\n",
    "bestec_table = bestec_excel.copy()"
   ]
  },
  {
   "cell_type": "code",
   "execution_count": null,
   "metadata": {
    "ExecuteTime": {
     "end_time": "2020-01-16T03:30:52.810289Z",
     "start_time": "2020-01-16T03:30:52.755248Z"
    }
   },
   "outputs": [],
   "source": [
    "bestec_table"
   ]
  },
  {
   "cell_type": "markdown",
   "metadata": {},
   "source": [
    "### beetech"
   ]
  },
  {
   "cell_type": "code",
   "execution_count": null,
   "metadata": {
    "ExecuteTime": {
     "end_time": "2020-01-16T03:31:05.831601Z",
     "start_time": "2020-01-16T03:31:05.827599Z"
    },
    "collapsed": true
   },
   "outputs": [],
   "source": [
    "sheet_2 = 'ビーテック得意先リスト'"
   ]
  },
  {
   "cell_type": "code",
   "execution_count": null,
   "metadata": {
    "ExecuteTime": {
     "end_time": "2020-01-16T03:39:47.380286Z",
     "start_time": "2020-01-16T03:39:46.818893Z"
    },
    "collapsed": true
   },
   "outputs": [],
   "source": [
    "# 読み込み (列の追加や削減、列名の変更があった場合にはこのままでは対応できないので要注意)\n",
    "# 先頭の不要行を削除してから実行のこと\n",
    "# 先頭に空白行があっても自動的にスキップしてくれる?\n",
    "beetech_excel = pd.read_excel(file_name, sheet_2, keep_default_na=False)"
   ]
  },
  {
   "cell_type": "code",
   "execution_count": null,
   "metadata": {
    "ExecuteTime": {
     "end_time": "2020-01-16T03:39:48.263911Z",
     "start_time": "2020-01-16T03:39:48.255906Z"
    },
    "scrolled": true
   },
   "outputs": [],
   "source": [
    "# 不要列の削除と並び替え (2017年の元ファイルに揃える)\n",
    "# (列の追加や削減、列名の変更があった場合にはこのままでは対応できないので要注意)\n",
    "beetech_excel = beetech_excel[['担当者名',\n",
    "                               'コード',\n",
    "                               '名カナ',\n",
    "                               '得意先名1',\n",
    "                               '得意先名2',\n",
    "                               '郵便番号',\n",
    "                               '住所1',\n",
    "                               '住所2',\n",
    "                               '住所3',\n",
    "                               '電話番号',\n",
    "                               'FAX番号',\n",
    "                               '修理料金',\n",
    "                              ]]"
   ]
  },
  {
   "cell_type": "code",
   "execution_count": null,
   "metadata": {
    "ExecuteTime": {
     "end_time": "2020-01-16T03:39:50.742442Z",
     "start_time": "2020-01-16T03:39:50.738440Z"
    },
    "collapsed": true
   },
   "outputs": [],
   "source": [
    "# 列名 'コード' を '得意先' に戻す\n",
    "beetech_excel.columns = ['担当者名', '得意先', '名カナ', '得意先名1', '得意先名2', '郵便番号', \n",
    "                         '住所1', '住所2', '住所3', '電話番号', 'FAX番号', '修理料金']"
   ]
  },
  {
   "cell_type": "code",
   "execution_count": null,
   "metadata": {
    "ExecuteTime": {
     "end_time": "2020-01-16T03:39:55.063689Z",
     "start_time": "2020-01-16T03:39:55.057685Z"
    },
    "scrolled": false
   },
   "outputs": [],
   "source": [
    "beetech_excel.columns"
   ]
  },
  {
   "cell_type": "code",
   "execution_count": null,
   "metadata": {
    "ExecuteTime": {
     "end_time": "2020-01-16T03:39:55.924296Z",
     "start_time": "2020-01-16T03:39:55.916291Z"
    }
   },
   "outputs": [],
   "source": [
    "len(beetech_excel.columns)"
   ]
  },
  {
   "cell_type": "code",
   "execution_count": null,
   "metadata": {
    "ExecuteTime": {
     "end_time": "2020-01-16T03:39:57.470095Z",
     "start_time": "2020-01-16T03:39:57.398045Z"
    }
   },
   "outputs": [],
   "source": [
    "beetech_excel"
   ]
  },
  {
   "cell_type": "code",
   "execution_count": null,
   "metadata": {
    "ExecuteTime": {
     "end_time": "2020-01-16T03:39:59.641039Z",
     "start_time": "2020-01-16T03:39:59.634035Z"
    }
   },
   "outputs": [],
   "source": [
    "len(beetech_excel)\n",
    "# 2018-07-31 914\n",
    "# 2019-01-07 945\n",
    "# 2019-08-19 1000 元ファイルはKEY渋谷の旧住所分が重複登録されているので削除, 999\n",
    "# 2016-08-26 1000 元ファイルはKEY渋谷の旧住所分が重複登録されているので削除, 999\n",
    "# 2020-01-16 1016 元ファイルはKEY渋谷の旧住所分が重複登録されているので削除, 1015"
   ]
  },
  {
   "cell_type": "code",
   "execution_count": null,
   "metadata": {
    "ExecuteTime": {
     "end_time": "2020-01-16T03:40:23.937380Z",
     "start_time": "2020-01-16T03:40:23.931375Z"
    }
   },
   "outputs": [],
   "source": [
    "beetech_excel.dtypes"
   ]
  },
  {
   "cell_type": "code",
   "execution_count": null,
   "metadata": {
    "ExecuteTime": {
     "end_time": "2020-01-16T03:40:26.902108Z",
     "start_time": "2020-01-16T03:40:26.897104Z"
    },
    "collapsed": true
   },
   "outputs": [],
   "source": [
    "# 作業用テーブルの作成\n",
    "beetech_table = beetech_excel.copy()"
   ]
  },
  {
   "cell_type": "code",
   "execution_count": null,
   "metadata": {
    "ExecuteTime": {
     "end_time": "2020-01-16T03:40:27.494526Z",
     "start_time": "2020-01-16T03:40:27.422474Z"
    }
   },
   "outputs": [],
   "source": [
    "beetech_table"
   ]
  },
  {
   "cell_type": "markdown",
   "metadata": {},
   "source": [
    "# 内容確認"
   ]
  },
  {
   "cell_type": "markdown",
   "metadata": {},
   "source": [
    "## bestec"
   ]
  },
  {
   "cell_type": "code",
   "execution_count": null,
   "metadata": {
    "ExecuteTime": {
     "end_time": "2020-01-16T03:32:30.281346Z",
     "start_time": "2020-01-16T03:32:30.146927Z"
    }
   },
   "outputs": [],
   "source": [
    "bestec_table.loc[0, '名カナ']"
   ]
  },
  {
   "cell_type": "code",
   "execution_count": null,
   "metadata": {
    "ExecuteTime": {
     "end_time": "2020-01-16T03:32:31.457631Z",
     "start_time": "2020-01-16T03:32:31.451627Z"
    }
   },
   "outputs": [],
   "source": [
    "bestec_table.loc[0, '得意先名2']"
   ]
  },
  {
   "cell_type": "code",
   "execution_count": null,
   "metadata": {
    "ExecuteTime": {
     "end_time": "2020-01-16T03:32:32.297282Z",
     "start_time": "2020-01-16T03:32:32.290279Z"
    }
   },
   "outputs": [],
   "source": [
    "bestec_table.loc[0, '住所1']"
   ]
  },
  {
   "cell_type": "code",
   "execution_count": null,
   "metadata": {
    "ExecuteTime": {
     "end_time": "2020-01-16T03:32:34.744540Z",
     "start_time": "2020-01-16T03:32:34.738536Z"
    }
   },
   "outputs": [],
   "source": [
    "bestec_table.loc[0, '得意先']"
   ]
  },
  {
   "cell_type": "code",
   "execution_count": null,
   "metadata": {
    "ExecuteTime": {
     "end_time": "2020-01-16T03:32:36.466467Z",
     "start_time": "2020-01-16T03:32:36.426455Z"
    }
   },
   "outputs": [],
   "source": [
    "bestec_table['名カナ'].values"
   ]
  },
  {
   "cell_type": "code",
   "execution_count": null,
   "metadata": {
    "ExecuteTime": {
     "end_time": "2020-01-16T03:32:40.837937Z",
     "start_time": "2020-01-16T03:32:40.826929Z"
    },
    "scrolled": true
   },
   "outputs": [],
   "source": [
    "bestec_table['得意先名2'].values"
   ]
  },
  {
   "cell_type": "code",
   "execution_count": null,
   "metadata": {
    "ExecuteTime": {
     "end_time": "2020-01-16T03:32:45.648274Z",
     "start_time": "2020-01-16T03:32:45.643270Z"
    }
   },
   "outputs": [],
   "source": [
    "len(bestec_table)"
   ]
  },
  {
   "cell_type": "markdown",
   "metadata": {},
   "source": [
    "## beetech"
   ]
  },
  {
   "cell_type": "code",
   "execution_count": null,
   "metadata": {
    "ExecuteTime": {
     "end_time": "2020-01-16T03:32:48.666673Z",
     "start_time": "2020-01-16T03:32:48.660639Z"
    }
   },
   "outputs": [],
   "source": [
    "beetech_table.loc[0, '名カナ']"
   ]
  },
  {
   "cell_type": "code",
   "execution_count": null,
   "metadata": {
    "ExecuteTime": {
     "end_time": "2020-01-16T03:32:49.467035Z",
     "start_time": "2020-01-16T03:32:49.460031Z"
    }
   },
   "outputs": [],
   "source": [
    "beetech_table.loc[0, '得意先名2']"
   ]
  },
  {
   "cell_type": "code",
   "execution_count": null,
   "metadata": {
    "ExecuteTime": {
     "end_time": "2020-01-16T03:32:50.066082Z",
     "start_time": "2020-01-16T03:32:50.060076Z"
    }
   },
   "outputs": [],
   "source": [
    "beetech_table.loc[0, '住所1']"
   ]
  },
  {
   "cell_type": "code",
   "execution_count": null,
   "metadata": {
    "ExecuteTime": {
     "end_time": "2020-01-16T03:32:50.664728Z",
     "start_time": "2020-01-16T03:32:50.658721Z"
    }
   },
   "outputs": [],
   "source": [
    "beetech_table.loc[0, '得意先']"
   ]
  },
  {
   "cell_type": "code",
   "execution_count": null,
   "metadata": {
    "ExecuteTime": {
     "end_time": "2020-01-16T03:32:51.457082Z",
     "start_time": "2020-01-16T03:32:51.451077Z"
    }
   },
   "outputs": [],
   "source": [
    "beetech_table['名カナ'].values"
   ]
  },
  {
   "cell_type": "code",
   "execution_count": null,
   "metadata": {
    "ExecuteTime": {
     "end_time": "2020-01-16T03:32:54.920655Z",
     "start_time": "2020-01-16T03:32:54.914652Z"
    }
   },
   "outputs": [],
   "source": [
    "beetech_table['得意先名2'].values"
   ]
  },
  {
   "cell_type": "code",
   "execution_count": null,
   "metadata": {
    "ExecuteTime": {
     "end_time": "2020-01-16T03:32:56.552535Z",
     "start_time": "2020-01-16T03:32:56.546544Z"
    }
   },
   "outputs": [],
   "source": [
    "# % 表記の値は読み込み時に自動的に数値に変換されているっぽい\n",
    "beetech_table['修理料金'].values"
   ]
  },
  {
   "cell_type": "code",
   "execution_count": null,
   "metadata": {
    "ExecuteTime": {
     "end_time": "2020-01-16T03:33:00.848692Z",
     "start_time": "2020-01-16T03:33:00.843689Z"
    }
   },
   "outputs": [],
   "source": [
    "len(beetech_table)"
   ]
  },
  {
   "cell_type": "markdown",
   "metadata": {},
   "source": [
    "# 整形処理"
   ]
  },
  {
   "cell_type": "markdown",
   "metadata": {},
   "source": [
    "## bestec"
   ]
  },
  {
   "cell_type": "code",
   "execution_count": null,
   "metadata": {
    "ExecuteTime": {
     "end_time": "2020-01-16T03:33:04.183453Z",
     "start_time": "2020-01-16T03:33:04.148429Z"
    },
    "collapsed": true
   },
   "outputs": [],
   "source": [
    "# 数値が混入している場合の型変換\n",
    "bestec_table['得意先'] = bestec_table['得意先'].astype(str)"
   ]
  },
  {
   "cell_type": "code",
   "execution_count": null,
   "metadata": {
    "ExecuteTime": {
     "end_time": "2020-01-16T03:33:06.017907Z",
     "start_time": "2020-01-16T03:33:05.651023Z"
    },
    "collapsed": true,
    "scrolled": true
   },
   "outputs": [],
   "source": [
    "# 'x1f' (ユニット区切り) を除去\n",
    "bestec_table = bestec_table.applymap(lambda x: re.sub('\\x1f', '', x))"
   ]
  },
  {
   "cell_type": "code",
   "execution_count": null,
   "metadata": {
    "ExecuteTime": {
     "end_time": "2020-01-16T03:33:06.911410Z",
     "start_time": "2020-01-16T03:33:06.818306Z"
    },
    "collapsed": true
   },
   "outputs": [],
   "source": [
    "# 半角カナを全角カナに\n",
    "bestec_table = bestec_table.applymap(lambda x: jaconv.h2z(x, kana=True, ascii=False, digit=False))"
   ]
  },
  {
   "cell_type": "code",
   "execution_count": null,
   "metadata": {
    "ExecuteTime": {
     "end_time": "2020-01-16T03:33:07.720735Z",
     "start_time": "2020-01-16T03:33:07.683708Z"
    },
    "collapsed": true
   },
   "outputs": [],
   "source": [
    "# 全角英数を半角英数に\n",
    "bestec_table = bestec_table.applymap(lambda x: jaconv.z2h(x, kana=False, ascii=True, digit=True))"
   ]
  },
  {
   "cell_type": "code",
   "execution_count": null,
   "metadata": {
    "ExecuteTime": {
     "end_time": "2020-01-16T03:33:08.658714Z",
     "start_time": "2020-01-16T03:33:08.626693Z"
    },
    "collapsed": true
   },
   "outputs": [],
   "source": [
    "# 'nan' を除去\n",
    "bestec_table = bestec_table.applymap(lambda x: re.sub('nan', '', x))"
   ]
  },
  {
   "cell_type": "code",
   "execution_count": null,
   "metadata": {
    "ExecuteTime": {
     "end_time": "2020-01-16T03:33:11.821782Z",
     "start_time": "2020-01-16T03:33:11.634753Z"
    }
   },
   "outputs": [],
   "source": [
    "# 確認\n",
    "bestec_table.applymap(lambda x: re.match('\\x1f', x)).any()"
   ]
  },
  {
   "cell_type": "code",
   "execution_count": null,
   "metadata": {
    "ExecuteTime": {
     "end_time": "2020-01-16T03:33:15.304667Z",
     "start_time": "2020-01-16T03:33:15.274649Z"
    }
   },
   "outputs": [],
   "source": [
    "# 確認\n",
    "bestec_table.applymap(lambda x: re.match('nan', x)).any()"
   ]
  },
  {
   "cell_type": "raw",
   "metadata": {
    "ExecuteTime": {
     "end_time": "2017-12-21T08:11:13.207560Z",
     "start_time": "2017-12-21T08:11:13.202559Z"
    },
    "collapsed": true
   },
   "source": [
    "# 列名変更\n",
    "bestec_table = bestec_table.rename(columns={'得意先': '得意先ID'})"
   ]
  },
  {
   "cell_type": "code",
   "execution_count": null,
   "metadata": {
    "ExecuteTime": {
     "end_time": "2020-01-16T03:33:22.518179Z",
     "start_time": "2020-01-16T03:33:22.458137Z"
    }
   },
   "outputs": [],
   "source": [
    "bestec_table"
   ]
  },
  {
   "cell_type": "code",
   "execution_count": null,
   "metadata": {
    "ExecuteTime": {
     "end_time": "2020-01-16T03:33:29.729960Z",
     "start_time": "2020-01-16T03:33:29.634476Z"
    }
   },
   "outputs": [],
   "source": [
    "# 得意先コードの重複を確認\n",
    "bestec_table['得意先'].duplicated().any()"
   ]
  },
  {
   "cell_type": "code",
   "execution_count": null,
   "metadata": {
    "ExecuteTime": {
     "end_time": "2020-01-16T03:33:31.008210Z",
     "start_time": "2020-01-16T03:33:30.610513Z"
    }
   },
   "outputs": [],
   "source": [
    "# 得意先コードの重複を確認\n",
    "bestec_table['得意先'][bestec_table['得意先'].duplicated()]"
   ]
  },
  {
   "cell_type": "code",
   "execution_count": null,
   "metadata": {
    "ExecuteTime": {
     "end_time": "2020-01-16T03:33:36.035551Z",
     "start_time": "2020-01-16T03:33:35.882694Z"
    }
   },
   "outputs": [],
   "source": [
    "# 得意先コードの桁数を確認\n",
    "bestec_table['得意先'].apply(lambda x: len(x)).min()"
   ]
  },
  {
   "cell_type": "code",
   "execution_count": null,
   "metadata": {
    "ExecuteTime": {
     "end_time": "2020-01-16T03:33:36.739193Z",
     "start_time": "2020-01-16T03:33:36.714176Z"
    }
   },
   "outputs": [],
   "source": [
    "# 得意先コードの桁数を確認\n",
    "bestec_table['得意先'].apply(lambda x: len(x)).max()"
   ]
  },
  {
   "cell_type": "markdown",
   "metadata": {},
   "source": [
    "## beetech"
   ]
  },
  {
   "cell_type": "code",
   "execution_count": null,
   "metadata": {
    "ExecuteTime": {
     "end_time": "2020-01-16T03:40:39.295497Z",
     "start_time": "2020-01-16T03:40:39.289494Z"
    },
    "collapsed": true
   },
   "outputs": [],
   "source": [
    "# 数値が混入している場合の型変換\n",
    "beetech_table['修理料金'] = beetech_table['修理料金'].astype(str)"
   ]
  },
  {
   "cell_type": "code",
   "execution_count": null,
   "metadata": {
    "ExecuteTime": {
     "end_time": "2020-01-16T03:40:40.065043Z",
     "start_time": "2020-01-16T03:40:40.025013Z"
    },
    "collapsed": true,
    "scrolled": true
   },
   "outputs": [],
   "source": [
    "# 'x1f' (ユニット区切り) を除去\n",
    "beetech_table = beetech_table.applymap(lambda x: re.sub('\\x1f', '', x))"
   ]
  },
  {
   "cell_type": "code",
   "execution_count": null,
   "metadata": {
    "ExecuteTime": {
     "end_time": "2020-01-16T03:40:40.810567Z",
     "start_time": "2020-01-16T03:40:40.705493Z"
    },
    "collapsed": true
   },
   "outputs": [],
   "source": [
    "# 半角カナを全角カナに\n",
    "beetech_table = beetech_table.applymap(lambda x: jaconv.h2z(x, kana=True, ascii=False, digit=False))"
   ]
  },
  {
   "cell_type": "code",
   "execution_count": null,
   "metadata": {
    "ExecuteTime": {
     "end_time": "2020-01-16T03:40:41.620138Z",
     "start_time": "2020-01-16T03:40:41.578110Z"
    },
    "collapsed": true
   },
   "outputs": [],
   "source": [
    "# 全角英数を半角英数に\n",
    "beetech_table = beetech_table.applymap(lambda x: jaconv.z2h(x, kana=False, ascii=True, digit=True))"
   ]
  },
  {
   "cell_type": "code",
   "execution_count": null,
   "metadata": {
    "ExecuteTime": {
     "end_time": "2020-01-16T03:40:42.343597Z",
     "start_time": "2020-01-16T03:40:42.314579Z"
    },
    "collapsed": true
   },
   "outputs": [],
   "source": [
    "# 'nan' を除去\n",
    "beetech_table = beetech_table.applymap(lambda x: re.sub('nan', '', x))"
   ]
  },
  {
   "cell_type": "code",
   "execution_count": null,
   "metadata": {
    "ExecuteTime": {
     "end_time": "2020-01-16T03:40:43.116145Z",
     "start_time": "2020-01-16T03:40:43.082121Z"
    }
   },
   "outputs": [],
   "source": [
    "# 確認\n",
    "beetech_table.applymap(lambda x: re.match('\\x1f', x)).any()"
   ]
  },
  {
   "cell_type": "code",
   "execution_count": null,
   "metadata": {
    "ExecuteTime": {
     "end_time": "2020-01-16T03:40:46.265286Z",
     "start_time": "2020-01-16T03:40:46.225257Z"
    }
   },
   "outputs": [],
   "source": [
    "# 確認\n",
    "beetech_table.applymap(lambda x: re.match('nan', x)).any()"
   ]
  },
  {
   "cell_type": "raw",
   "metadata": {
    "ExecuteTime": {
     "end_time": "2017-12-21T08:11:13.207560Z",
     "start_time": "2017-12-21T08:11:13.202559Z"
    },
    "collapsed": true
   },
   "source": [
    "# 列名変更\n",
    "beetech_table = beetech_table.rename(columns={'得意先': '得意先ID'})"
   ]
  },
  {
   "cell_type": "code",
   "execution_count": null,
   "metadata": {
    "ExecuteTime": {
     "end_time": "2020-01-16T03:40:49.030689Z",
     "start_time": "2020-01-16T03:40:48.966643Z"
    }
   },
   "outputs": [],
   "source": [
    "beetech_table"
   ]
  },
  {
   "cell_type": "code",
   "execution_count": null,
   "metadata": {
    "ExecuteTime": {
     "end_time": "2020-01-16T03:40:53.367236Z",
     "start_time": "2020-01-16T03:40:53.360232Z"
    }
   },
   "outputs": [],
   "source": [
    "# 得意先コードの重複を確認\n",
    "beetech_table['得意先'].duplicated().any()"
   ]
  },
  {
   "cell_type": "code",
   "execution_count": null,
   "metadata": {
    "ExecuteTime": {
     "end_time": "2020-01-16T03:40:56.129296Z",
     "start_time": "2020-01-16T03:40:56.122291Z"
    }
   },
   "outputs": [],
   "source": [
    "# 得意先コードの重複を確認\n",
    "beetech_table['得意先'][beetech_table['得意先'].duplicated()]"
   ]
  },
  {
   "cell_type": "code",
   "execution_count": null,
   "metadata": {
    "ExecuteTime": {
     "end_time": "2020-01-16T03:40:58.616026Z",
     "start_time": "2020-01-16T03:40:58.609024Z"
    }
   },
   "outputs": [],
   "source": [
    "# 得意先コードの桁数を確認\n",
    "beetech_table['得意先'].apply(lambda x: len(x)).min()"
   ]
  },
  {
   "cell_type": "code",
   "execution_count": null,
   "metadata": {
    "ExecuteTime": {
     "end_time": "2020-01-16T03:40:59.624035Z",
     "start_time": "2020-01-16T03:40:59.616030Z"
    }
   },
   "outputs": [],
   "source": [
    "# 得意先コードの桁数を確認\n",
    "beetech_table['得意先'].apply(lambda x: len(x)).max()"
   ]
  },
  {
   "cell_type": "markdown",
   "metadata": {},
   "source": [
    "# Excel 保存、再読み込み"
   ]
  },
  {
   "cell_type": "code",
   "execution_count": null,
   "metadata": {
    "ExecuteTime": {
     "end_time": "2020-01-16T03:41:14.172213Z",
     "start_time": "2020-01-16T03:41:14.168211Z"
    },
    "collapsed": true
   },
   "outputs": [],
   "source": [
    "output_name = r'{0}\\Bestecaudio得意先リスト.xlsx'.format(path)"
   ]
  },
  {
   "cell_type": "code",
   "execution_count": null,
   "metadata": {
    "ExecuteTime": {
     "end_time": "2020-01-16T03:41:15.779054Z",
     "start_time": "2020-01-16T03:41:15.296229Z"
    },
    "collapsed": true
   },
   "outputs": [],
   "source": [
    "# シート名を旧版に揃える\n",
    "sheet_1 = 'Bestec得意先リスト'"
   ]
  },
  {
   "cell_type": "code",
   "execution_count": null,
   "metadata": {
    "ExecuteTime": {
     "end_time": "2020-01-16T03:41:20.309165Z",
     "start_time": "2020-01-16T03:41:17.480130Z"
    },
    "collapsed": true
   },
   "outputs": [],
   "source": [
    "# エンコード指定なしで Excel 保存\n",
    "# 出力後に全セルの書式設定を文字列に変更しておいた方がよさそう\n",
    "writer = pd.ExcelWriter(output_name)\n",
    "bestec_table.to_excel(writer, sheet_name=sheet_1, index=False)\n",
    "beetech_table.to_excel(writer, sheet_name=sheet_2, index=False)\n",
    "writer.save()"
   ]
  },
  {
   "cell_type": "code",
   "execution_count": null,
   "metadata": {
    "ExecuteTime": {
     "end_time": "2020-01-16T03:41:32.518521Z",
     "start_time": "2020-01-16T03:41:32.305371Z"
    },
    "collapsed": true
   },
   "outputs": [],
   "source": [
    "# bestec 確認\n",
    "df = pd.read_excel(output_name, sheet_1, keep_default_na=False,\n",
    "                   dtype={'FAX番号': str,\n",
    "                          '住所1': str,\n",
    "                          '住所2': str,\n",
    "                          '住所3': str,\n",
    "                          '名カナ': str,\n",
    "                          '得意先': str,\n",
    "                          '得意先名1': str,\n",
    "                          '得意先名2': str,\n",
    "                          '担当者コード': str,\n",
    "                          '担当者名': str,\n",
    "                          '郵便番号': str,\n",
    "                          '電話番号': str})"
   ]
  },
  {
   "cell_type": "code",
   "execution_count": null,
   "metadata": {
    "ExecuteTime": {
     "end_time": "2020-01-16T03:41:33.382328Z",
     "start_time": "2020-01-16T03:41:33.328289Z"
    },
    "scrolled": true
   },
   "outputs": [],
   "source": [
    "df"
   ]
  },
  {
   "cell_type": "code",
   "execution_count": null,
   "metadata": {
    "ExecuteTime": {
     "end_time": "2020-01-16T03:41:38.736381Z",
     "start_time": "2020-01-16T03:41:38.728388Z"
    }
   },
   "outputs": [],
   "source": [
    "df.dtypes"
   ]
  },
  {
   "cell_type": "code",
   "execution_count": null,
   "metadata": {
    "ExecuteTime": {
     "end_time": "2020-01-16T03:42:01.062025Z",
     "start_time": "2020-01-16T03:42:01.056021Z"
    }
   },
   "outputs": [],
   "source": [
    "len(df)"
   ]
  },
  {
   "cell_type": "code",
   "execution_count": null,
   "metadata": {
    "ExecuteTime": {
     "end_time": "2020-01-16T03:42:02.514075Z",
     "start_time": "2020-01-16T03:42:02.474048Z"
    }
   },
   "outputs": [],
   "source": [
    "df.applymap(lambda x: re.match('\\x1f', x)).any()"
   ]
  },
  {
   "cell_type": "code",
   "execution_count": null,
   "metadata": {
    "ExecuteTime": {
     "end_time": "2020-01-16T03:42:05.776360Z",
     "start_time": "2020-01-16T03:42:05.737333Z"
    },
    "scrolled": true
   },
   "outputs": [],
   "source": [
    "df.applymap(lambda x: re.match('nan', x)).any()"
   ]
  },
  {
   "cell_type": "code",
   "execution_count": null,
   "metadata": {
    "ExecuteTime": {
     "end_time": "2020-01-16T03:42:09.902143Z",
     "start_time": "2020-01-16T03:42:09.896139Z"
    }
   },
   "outputs": [],
   "source": [
    "df['電話番号'].values"
   ]
  },
  {
   "cell_type": "code",
   "execution_count": null,
   "metadata": {
    "ExecuteTime": {
     "end_time": "2020-01-16T03:42:17.887023Z",
     "start_time": "2020-01-16T03:42:17.881018Z"
    }
   },
   "outputs": [],
   "source": [
    "df['名カナ'].values"
   ]
  },
  {
   "cell_type": "code",
   "execution_count": null,
   "metadata": {
    "ExecuteTime": {
     "end_time": "2020-01-16T03:42:20.854450Z",
     "start_time": "2020-01-16T03:42:20.848445Z"
    },
    "scrolled": true
   },
   "outputs": [],
   "source": [
    "df['得意先名2'].values"
   ]
  },
  {
   "cell_type": "code",
   "execution_count": null,
   "metadata": {
    "ExecuteTime": {
     "end_time": "2020-01-16T03:41:55.168636Z",
     "start_time": "2020-01-16T03:41:54.921426Z"
    },
    "collapsed": true
   },
   "outputs": [],
   "source": [
    "# beetech 確認\n",
    "df = pd.read_excel(output_name, sheet_2, keep_default_na=False,\n",
    "                   dtype={'FAX番号': str,\n",
    "                          '住所1': str,\n",
    "                          '住所2': str,\n",
    "                          '住所3': str,\n",
    "                          '名カナ': str,\n",
    "                          '得意先': str,\n",
    "                          '得意先名1': str,\n",
    "                          '得意先名2': str,\n",
    "                          '担当者名': str,\n",
    "                          '郵便番号': str,\n",
    "                          '修理料金': str,\n",
    "                          '電話番号': str})"
   ]
  },
  {
   "cell_type": "markdown",
   "metadata": {},
   "source": [
    "# CSV 保存、確認"
   ]
  },
  {
   "cell_type": "code",
   "execution_count": null,
   "metadata": {
    "ExecuteTime": {
     "end_time": "2017-12-18T06:20:01.885855Z",
     "start_time": "2017-12-18T06:20:01.854592Z"
    },
    "collapsed": true,
    "scrolled": true
   },
   "outputs": [],
   "source": [
    "# utf-8 で CSV 保存 (Excel で文字化けする)\n",
    "bestec_table.to_csv(r'{0}\\bestec_table_utf8.csv'.format(path), encoding='utf-8')"
   ]
  },
  {
   "cell_type": "code",
   "execution_count": null,
   "metadata": {
    "ExecuteTime": {
     "end_time": "2017-12-18T06:20:02.620231Z",
     "start_time": "2017-12-18T06:20:02.604601Z"
    },
    "collapsed": true,
    "scrolled": true
   },
   "outputs": [],
   "source": [
    "# エンコード指定なしで CSV 保存 (そのままでは pandas で読み込めなくなる)\n",
    "bestec_table.to_csv(r'{0}\\bestec_table.csv'.format(path))"
   ]
  },
  {
   "cell_type": "code",
   "execution_count": null,
   "metadata": {
    "ExecuteTime": {
     "end_time": "2017-12-18T06:20:05.323690Z",
     "start_time": "2017-12-18T06:20:05.292425Z"
    },
    "collapsed": true
   },
   "outputs": [],
   "source": [
    "# bestec_table_utf8.csv\n",
    "df = pd.read_csv(r'{0}\\bestec_table_utf8.csv'.format(path), index_col=0)"
   ]
  },
  {
   "cell_type": "code",
   "execution_count": null,
   "metadata": {
    "ExecuteTime": {
     "end_time": "2017-12-18T06:08:02.948071Z",
     "start_time": "2017-12-18T06:08:02.932433Z"
    },
    "collapsed": true
   },
   "outputs": [],
   "source": [
    "# bestec_table.csv\n",
    "with codecs.open(r'{0}\\bestec_table.csv'.format(path), mode=\"r\", encoding=\"Shift-JIS\", errors=\"ignore\") as file:\n",
    "    df = pd.read_table(file, delimiter=\",\", index_col=0)"
   ]
  },
  {
   "cell_type": "code",
   "execution_count": null,
   "metadata": {
    "ExecuteTime": {
     "end_time": "2017-12-18T06:20:09.183827Z",
     "start_time": "2017-12-18T06:20:09.121326Z"
    },
    "collapsed": true
   },
   "outputs": [],
   "source": [
    "df"
   ]
  },
  {
   "cell_type": "code",
   "execution_count": null,
   "metadata": {
    "ExecuteTime": {
     "end_time": "2017-12-18T06:20:18.529576Z",
     "start_time": "2017-12-18T06:20:18.498368Z"
    },
    "collapsed": true,
    "scrolled": true
   },
   "outputs": [],
   "source": [
    "df.dtypes"
   ]
  },
  {
   "cell_type": "code",
   "execution_count": null,
   "metadata": {
    "collapsed": true
   },
   "outputs": [],
   "source": []
  }
 ],
 "metadata": {
  "kernelspec": {
   "display_name": "Python 3",
   "language": "python",
   "name": "python3"
  },
  "language_info": {
   "codemirror_mode": {
    "name": "ipython",
    "version": 3
   },
   "file_extension": ".py",
   "mimetype": "text/x-python",
   "name": "python",
   "nbconvert_exporter": "python",
   "pygments_lexer": "ipython3",
   "version": "3.6.1"
  },
  "toc": {
   "nav_menu": {},
   "number_sections": true,
   "sideBar": true,
   "skip_h1_title": false,
   "title_cell": "Table of Contents",
   "title_sidebar": "Contents",
   "toc_cell": false,
   "toc_position": {},
   "toc_section_display": true,
   "toc_window_display": false
  },
  "varInspector": {
   "cols": {
    "lenName": 16,
    "lenType": 16,
    "lenVar": 40
   },
   "kernels_config": {
    "python": {
     "delete_cmd_postfix": "",
     "delete_cmd_prefix": "del ",
     "library": "var_list.py",
     "varRefreshCmd": "print(var_dic_list())"
    },
    "r": {
     "delete_cmd_postfix": ") ",
     "delete_cmd_prefix": "rm(",
     "library": "var_list.r",
     "varRefreshCmd": "cat(var_dic_list()) "
    }
   },
   "types_to_exclude": [
    "module",
    "function",
    "builtin_function_or_method",
    "instance",
    "_Feature"
   ],
   "window_display": false
  }
 },
 "nbformat": 4,
 "nbformat_minor": 2
}
