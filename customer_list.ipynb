{
 "cells": [
  {
   "cell_type": "markdown",
   "metadata": {},
   "source": [
    "# 準備"
   ]
  },
  {
   "cell_type": "code",
   "execution_count": null,
   "metadata": {
    "ExecuteTime": {
     "end_time": "2018-07-31T01:29:07.036221Z",
     "start_time": "2018-07-31T01:28:50.596108Z"
    },
    "collapsed": true
   },
   "outputs": [],
   "source": [
    "import sys\n",
    "import codecs\n",
    "import re\n",
    "import pandas as pd\n",
    "import numpy as np\n",
    "import jaconv"
   ]
  },
  {
   "cell_type": "code",
   "execution_count": null,
   "metadata": {
    "ExecuteTime": {
     "end_time": "2018-07-31T01:29:08.520563Z",
     "start_time": "2018-07-31T01:29:08.504925Z"
    },
    "collapsed": true
   },
   "outputs": [],
   "source": [
    "# pandas の最大表示列数を設定 (max_rows で表示行数の設定も可能)\n",
    "pd.set_option('display.max_columns', 30)"
   ]
  },
  {
   "cell_type": "code",
   "execution_count": null,
   "metadata": {
    "ExecuteTime": {
     "end_time": "2018-07-31T01:29:09.583627Z",
     "start_time": "2018-07-31T01:29:09.568046Z"
    },
    "collapsed": true,
    "scrolled": true
   },
   "outputs": [],
   "source": [
    "# ファイルパス\n",
    "path = r'C:\\Users\\BestecAudioTecHH\\Documents\\GitHub\\BAC\\DO_NOT_PUSH'"
   ]
  },
  {
   "cell_type": "markdown",
   "metadata": {},
   "source": [
    "# excel ファイルの読み込み、作業用テーブルの作成"
   ]
  },
  {
   "cell_type": "markdown",
   "metadata": {
    "heading_collapsed": true
   },
   "source": [
    "## 住所データ結合版"
   ]
  },
  {
   "cell_type": "code",
   "execution_count": null,
   "metadata": {
    "ExecuteTime": {
     "end_time": "2017-12-20T04:48:41.404375Z",
     "start_time": "2017-12-20T04:48:40.347708Z"
    },
    "collapsed": true,
    "hidden": true
   },
   "outputs": [],
   "source": [
    "bestec_excel = pd.read_excel(r'{0}\\Bestecaudio得意先リスト20170728更新_local_171214.xlsx'.format(path))"
   ]
  },
  {
   "cell_type": "code",
   "execution_count": null,
   "metadata": {
    "ExecuteTime": {
     "end_time": "2017-12-20T04:48:49.182863Z",
     "start_time": "2017-12-20T04:48:49.165851Z"
    },
    "collapsed": true,
    "hidden": true
   },
   "outputs": [],
   "source": [
    "# 作業用テーブルの作成\n",
    "bestec_table = bestec_excel[['担当者コード', '担当者名', '得意先', '名カナ', '得意先名1', '得意先名2', '郵便番号', '住所1', '住所2',\n",
    "       '住所3', '電話番号', 'FAX番号']]"
   ]
  },
  {
   "cell_type": "code",
   "execution_count": null,
   "metadata": {
    "ExecuteTime": {
     "end_time": "2017-12-21T08:00:33.401530Z",
     "start_time": "2017-12-21T08:00:33.291465Z"
    },
    "collapsed": true,
    "hidden": true
   },
   "outputs": [],
   "source": [
    "# str 型を明示\n",
    "bestec_table = bestec_table.astype({'担当者コード':str, '担当者名': str, '得意先': str, '名カナ': str, '得意先名1': str, '得意先名2': str, '郵便番号': str,\n",
    "                                        '住所1': str, '住所2': str, '住所3': str, '電話番号': str, 'FAX番号': str})"
   ]
  },
  {
   "cell_type": "code",
   "execution_count": null,
   "metadata": {
    "ExecuteTime": {
     "end_time": "2017-12-20T04:49:24.040357Z",
     "start_time": "2017-12-20T04:49:24.027348Z"
    },
    "collapsed": true,
    "hidden": true
   },
   "outputs": [],
   "source": [
    "# 住所列結合\n",
    "bestec_table['住所'] = bestec_table['住所1'] + bestec_table['住所2'] + bestec_table['住所3']"
   ]
  },
  {
   "cell_type": "code",
   "execution_count": null,
   "metadata": {
    "ExecuteTime": {
     "end_time": "2017-12-20T04:49:28.232203Z",
     "start_time": "2017-12-20T04:49:28.226187Z"
    },
    "collapsed": true,
    "hidden": true
   },
   "outputs": [],
   "source": [
    "# 結合済み住所列削除\n",
    "bestec_table = bestec_table[['担当者コード', '担当者名', '得意先', '名カナ', '得意先名1', '得意先名2', '郵便番号', '住所', '電話番号', 'FAX番号']]"
   ]
  },
  {
   "cell_type": "markdown",
   "metadata": {},
   "source": [
    "## 住所データ現状維持版"
   ]
  },
  {
   "cell_type": "code",
   "execution_count": null,
   "metadata": {
    "ExecuteTime": {
     "end_time": "2018-01-22T03:50:04.365389Z",
     "start_time": "2018-01-22T03:50:04.362399Z"
    },
    "collapsed": true
   },
   "outputs": [],
   "source": [
    "# version = 180111"
   ]
  },
  {
   "cell_type": "code",
   "execution_count": null,
   "metadata": {
    "ExecuteTime": {
     "end_time": "2018-01-22T03:34:38.985398Z",
     "start_time": "2018-01-22T03:34:38.981395Z"
    },
    "collapsed": true
   },
   "outputs": [],
   "source": [
    "# file_name = r'{0}\\Bestecaudio得意先リスト20170728更新_{1}.xlsx'.format(path, version)"
   ]
  },
  {
   "cell_type": "code",
   "execution_count": null,
   "metadata": {
    "ExecuteTime": {
     "end_time": "2018-01-22T03:50:13.685689Z",
     "start_time": "2018-01-22T03:50:13.682687Z"
    },
    "collapsed": true
   },
   "outputs": [],
   "source": [
    "# file_name = r'{0}\\得意先リスト20180109更新_{1}.xlsx'.format(path, version)"
   ]
  },
  {
   "cell_type": "code",
   "execution_count": null,
   "metadata": {
    "ExecuteTime": {
     "end_time": "2018-07-31T01:29:19.538442Z",
     "start_time": "2018-07-31T01:29:19.507180Z"
    },
    "collapsed": true
   },
   "outputs": [],
   "source": [
    "file_name = r'{0}\\得意先リスト20180316更新.xlsx'.format(path)"
   ]
  },
  {
   "cell_type": "markdown",
   "metadata": {},
   "source": [
    "### bestec"
   ]
  },
  {
   "cell_type": "code",
   "execution_count": null,
   "metadata": {
    "ExecuteTime": {
     "end_time": "2018-07-31T01:29:27.900197Z",
     "start_time": "2018-07-31T01:29:27.884559Z"
    },
    "collapsed": true
   },
   "outputs": [],
   "source": [
    "sheet_1 = 'Bestec得意先リスト'"
   ]
  },
  {
   "cell_type": "code",
   "execution_count": null,
   "metadata": {
    "ExecuteTime": {
     "end_time": "2018-07-31T03:39:42.647110Z",
     "start_time": "2018-07-31T03:39:42.216755Z"
    },
    "collapsed": true
   },
   "outputs": [],
   "source": [
    "# 読み込み (列の追加や削減、列名の変更があった場合にはこのままでは対応できないので要注意)\n",
    "# 先頭の不要行を削除してから実行のこと\n",
    "# 先頭に空白行があっても自動的にスキップしてくれる?\n",
    "bestec_excel = pd.read_excel(file_name, sheet_1, keep_default_na=False)"
   ]
  },
  {
   "cell_type": "code",
   "execution_count": null,
   "metadata": {
    "ExecuteTime": {
     "end_time": "2018-07-31T03:40:02.978254Z",
     "start_time": "2018-07-31T03:40:02.970250Z"
    },
    "collapsed": true
   },
   "outputs": [],
   "source": [
    "# 不要列の削除と並び替え (2017年の元ファイルに揃える)\n",
    "# (列の追加や削減、列名の変更があった場合にはこのままでは対応できないので要注意)\n",
    "bestec_excel = bestec_excel[['担当者コード',\n",
    "                             '担当者名',\n",
    "                             '得意先',\n",
    "                             '名カナ',\n",
    "                             '得意先名1',\n",
    "                             '得意先名2',\n",
    "                             '郵便番号',\n",
    "                             '住所1',\n",
    "                             '住所2',\n",
    "                             '住所3',\n",
    "                             '電話番号',\n",
    "                             'FAX番号',\n",
    "                             ]]"
   ]
  },
  {
   "cell_type": "code",
   "execution_count": null,
   "metadata": {
    "ExecuteTime": {
     "end_time": "2018-07-31T03:40:04.873355Z",
     "start_time": "2018-07-31T03:40:04.866352Z"
    }
   },
   "outputs": [],
   "source": [
    "bestec_excel.columns"
   ]
  },
  {
   "cell_type": "code",
   "execution_count": null,
   "metadata": {
    "ExecuteTime": {
     "end_time": "2018-07-31T03:40:08.114213Z",
     "start_time": "2018-07-31T03:40:08.109209Z"
    }
   },
   "outputs": [],
   "source": [
    "len(bestec_excel.columns)"
   ]
  },
  {
   "cell_type": "code",
   "execution_count": null,
   "metadata": {
    "ExecuteTime": {
     "end_time": "2018-07-31T02:16:59.541176Z",
     "start_time": "2018-07-31T02:16:59.463049Z"
    }
   },
   "outputs": [],
   "source": [
    "bestec_excel"
   ]
  },
  {
   "cell_type": "code",
   "execution_count": null,
   "metadata": {
    "ExecuteTime": {
     "end_time": "2018-07-31T03:30:47.587303Z",
     "start_time": "2018-07-31T03:30:47.581315Z"
    }
   },
   "outputs": [],
   "source": [
    "len(bestec_excel)\n",
    "# 2018-07-31 924"
   ]
  },
  {
   "cell_type": "code",
   "execution_count": null,
   "metadata": {
    "ExecuteTime": {
     "end_time": "2018-07-31T02:57:25.684837Z",
     "start_time": "2018-07-31T02:57:25.653646Z"
    },
    "collapsed": true
   },
   "outputs": [],
   "source": [
    "bestec_excel.dtypes"
   ]
  },
  {
   "cell_type": "code",
   "execution_count": null,
   "metadata": {
    "ExecuteTime": {
     "end_time": "2018-07-31T03:40:22.913660Z",
     "start_time": "2018-07-31T03:40:22.909659Z"
    },
    "collapsed": true
   },
   "outputs": [],
   "source": [
    "# 作業用テーブルの作成\n",
    "bestec_table = bestec_excel.copy()"
   ]
  },
  {
   "cell_type": "code",
   "execution_count": null,
   "metadata": {
    "ExecuteTime": {
     "end_time": "2018-07-31T03:40:24.914197Z",
     "start_time": "2018-07-31T03:40:24.851154Z"
    }
   },
   "outputs": [],
   "source": [
    "bestec_table"
   ]
  },
  {
   "cell_type": "markdown",
   "metadata": {},
   "source": [
    "### beetech"
   ]
  },
  {
   "cell_type": "code",
   "execution_count": null,
   "metadata": {
    "ExecuteTime": {
     "end_time": "2018-07-31T01:38:34.764785Z",
     "start_time": "2018-07-31T01:38:34.749171Z"
    },
    "collapsed": true
   },
   "outputs": [],
   "source": [
    "sheet_2 = 'ビーテック得意先リスト'"
   ]
  },
  {
   "cell_type": "code",
   "execution_count": null,
   "metadata": {
    "ExecuteTime": {
     "end_time": "2018-07-31T01:37:29.812123Z",
     "start_time": "2018-07-31T01:37:29.796496Z"
    },
    "collapsed": true
   },
   "outputs": [],
   "source": [
    "# sheet_2 = 'Beetech得意先リスト'"
   ]
  },
  {
   "cell_type": "code",
   "execution_count": null,
   "metadata": {
    "ExecuteTime": {
     "end_time": "2018-07-31T02:49:37.649456Z",
     "start_time": "2018-07-31T02:49:37.243162Z"
    },
    "collapsed": true
   },
   "outputs": [],
   "source": [
    "# 読み込み (列の追加や削減、列名の変更があった場合にはこのままでは対応できないので要注意)\n",
    "# 先頭の不要行を削除してから実行のこと\n",
    "# 先頭に空白行があっても自動的にスキップしてくれる?\n",
    "beetech_excel = pd.read_excel(file_name, sheet_2, keep_default_na=False)"
   ]
  },
  {
   "cell_type": "code",
   "execution_count": null,
   "metadata": {
    "ExecuteTime": {
     "end_time": "2018-07-31T02:53:23.189320Z",
     "start_time": "2018-07-31T02:53:23.158116Z"
    },
    "collapsed": true
   },
   "outputs": [],
   "source": [
    "# 不要列の削除と並び替え (2017年の元ファイルに揃える)\n",
    "# (列の追加や削減、列名の変更があった場合にはこのままでは対応できないので要注意)\n",
    "beetech_excel = beetech_excel[['担当者名',\n",
    "                               'コード',\n",
    "                               '名カナ',\n",
    "                               '得意先名1',\n",
    "                               '得意先名2',\n",
    "                               '郵便番号',\n",
    "                               '住所1',\n",
    "                               '住所2',\n",
    "                               '住所3',\n",
    "                               '電話番号',\n",
    "                               'FAX番号',\n",
    "                               '修理料金',\n",
    "                              ]]"
   ]
  },
  {
   "cell_type": "code",
   "execution_count": null,
   "metadata": {
    "ExecuteTime": {
     "end_time": "2018-07-31T02:53:57.023262Z",
     "start_time": "2018-07-31T02:53:57.007636Z"
    },
    "collapsed": true
   },
   "outputs": [],
   "source": [
    "# 列名 'コード' を '得意先' に戻す\n",
    "beetech_excel.columns = ['担当者名', '得意先', '名カナ', '得意先名1', '得意先名2', '郵便番号', \n",
    "                         '住所1', '住所2', '住所3', '電話番号', 'FAX番号', '修理料金']"
   ]
  },
  {
   "cell_type": "code",
   "execution_count": null,
   "metadata": {
    "ExecuteTime": {
     "end_time": "2018-07-31T02:58:21.828760Z",
     "start_time": "2018-07-31T02:58:21.813133Z"
    },
    "scrolled": false
   },
   "outputs": [],
   "source": [
    "beetech_excel.columns"
   ]
  },
  {
   "cell_type": "code",
   "execution_count": null,
   "metadata": {
    "ExecuteTime": {
     "end_time": "2018-07-31T02:58:28.893170Z",
     "start_time": "2018-07-31T02:58:28.861984Z"
    }
   },
   "outputs": [],
   "source": [
    "len(beetech_excel.columns)"
   ]
  },
  {
   "cell_type": "code",
   "execution_count": null,
   "metadata": {
    "ExecuteTime": {
     "end_time": "2018-07-31T02:58:33.206786Z",
     "start_time": "2018-07-31T02:58:33.135474Z"
    }
   },
   "outputs": [],
   "source": [
    "beetech_excel"
   ]
  },
  {
   "cell_type": "code",
   "execution_count": null,
   "metadata": {
    "ExecuteTime": {
     "end_time": "2018-07-31T02:59:09.200781Z",
     "start_time": "2018-07-31T02:59:09.185142Z"
    }
   },
   "outputs": [],
   "source": [
    "len(beetech_excel)\n",
    "# 2018-07-31 914"
   ]
  },
  {
   "cell_type": "code",
   "execution_count": null,
   "metadata": {
    "ExecuteTime": {
     "end_time": "2018-07-31T02:59:12.248251Z",
     "start_time": "2018-07-31T02:59:12.232625Z"
    }
   },
   "outputs": [],
   "source": [
    "beetech_excel.dtypes"
   ]
  },
  {
   "cell_type": "code",
   "execution_count": null,
   "metadata": {
    "ExecuteTime": {
     "end_time": "2018-07-31T02:59:28.283644Z",
     "start_time": "2018-07-31T02:59:28.268021Z"
    },
    "collapsed": true
   },
   "outputs": [],
   "source": [
    "# 作業用テーブルの作成\n",
    "beetech_table = beetech_excel.copy()"
   ]
  },
  {
   "cell_type": "code",
   "execution_count": null,
   "metadata": {
    "ExecuteTime": {
     "end_time": "2018-07-31T02:59:29.346152Z",
     "start_time": "2018-07-31T02:59:29.268029Z"
    }
   },
   "outputs": [],
   "source": [
    "beetech_table"
   ]
  },
  {
   "cell_type": "markdown",
   "metadata": {},
   "source": [
    "# 内容確認"
   ]
  },
  {
   "cell_type": "markdown",
   "metadata": {},
   "source": [
    "## bestec"
   ]
  },
  {
   "cell_type": "code",
   "execution_count": null,
   "metadata": {
    "ExecuteTime": {
     "end_time": "2018-07-31T03:00:15.582387Z",
     "start_time": "2018-07-31T03:00:15.551183Z"
    }
   },
   "outputs": [],
   "source": [
    "bestec_table.loc[0, '名カナ']"
   ]
  },
  {
   "cell_type": "code",
   "execution_count": null,
   "metadata": {
    "ExecuteTime": {
     "end_time": "2018-07-31T03:00:17.020311Z",
     "start_time": "2018-07-31T03:00:17.004742Z"
    }
   },
   "outputs": [],
   "source": [
    "bestec_table.loc[0, '得意先名2']"
   ]
  },
  {
   "cell_type": "code",
   "execution_count": null,
   "metadata": {
    "ExecuteTime": {
     "end_time": "2018-07-31T03:00:20.990059Z",
     "start_time": "2018-07-31T03:00:20.974490Z"
    }
   },
   "outputs": [],
   "source": [
    "bestec_table.loc[0, '住所1']"
   ]
  },
  {
   "cell_type": "code",
   "execution_count": null,
   "metadata": {
    "ExecuteTime": {
     "end_time": "2018-07-31T03:00:22.708822Z",
     "start_time": "2018-07-31T03:00:22.693254Z"
    }
   },
   "outputs": [],
   "source": [
    "bestec_table.loc[0, '得意先']"
   ]
  },
  {
   "cell_type": "code",
   "execution_count": null,
   "metadata": {
    "ExecuteTime": {
     "end_time": "2018-07-31T03:00:24.225241Z",
     "start_time": "2018-07-31T03:00:24.194037Z"
    },
    "collapsed": true
   },
   "outputs": [],
   "source": [
    "bestec_table['名カナ'].values"
   ]
  },
  {
   "cell_type": "code",
   "execution_count": null,
   "metadata": {
    "ExecuteTime": {
     "end_time": "2018-07-31T03:00:32.930775Z",
     "start_time": "2018-07-31T03:00:32.899584Z"
    },
    "collapsed": true
   },
   "outputs": [],
   "source": [
    "bestec_table['得意先名2'].values"
   ]
  },
  {
   "cell_type": "code",
   "execution_count": null,
   "metadata": {
    "ExecuteTime": {
     "end_time": "2018-07-31T03:00:36.758753Z",
     "start_time": "2018-07-31T03:00:36.743187Z"
    }
   },
   "outputs": [],
   "source": [
    "len(bestec_table)"
   ]
  },
  {
   "cell_type": "markdown",
   "metadata": {},
   "source": [
    "## beetech"
   ]
  },
  {
   "cell_type": "code",
   "execution_count": null,
   "metadata": {
    "ExecuteTime": {
     "end_time": "2018-07-31T03:00:39.478123Z",
     "start_time": "2018-07-31T03:00:39.446930Z"
    }
   },
   "outputs": [],
   "source": [
    "beetech_table.loc[0, '名カナ']"
   ]
  },
  {
   "cell_type": "code",
   "execution_count": null,
   "metadata": {
    "ExecuteTime": {
     "end_time": "2018-07-31T03:00:40.509380Z",
     "start_time": "2018-07-31T03:00:40.478190Z"
    }
   },
   "outputs": [],
   "source": [
    "beetech_table.loc[0, '得意先名2']"
   ]
  },
  {
   "cell_type": "code",
   "execution_count": null,
   "metadata": {
    "ExecuteTime": {
     "end_time": "2018-07-31T03:00:44.151448Z",
     "start_time": "2018-07-31T03:00:44.120257Z"
    }
   },
   "outputs": [],
   "source": [
    "beetech_table.loc[0, '住所1']"
   ]
  },
  {
   "cell_type": "code",
   "execution_count": null,
   "metadata": {
    "ExecuteTime": {
     "end_time": "2018-07-31T03:00:52.997062Z",
     "start_time": "2018-07-31T03:00:52.981496Z"
    }
   },
   "outputs": [],
   "source": [
    "beetech_table.loc[0, '得意先']"
   ]
  },
  {
   "cell_type": "code",
   "execution_count": null,
   "metadata": {
    "ExecuteTime": {
     "end_time": "2018-07-31T03:01:17.410150Z",
     "start_time": "2018-07-31T03:01:17.378973Z"
    },
    "collapsed": true
   },
   "outputs": [],
   "source": [
    "beetech_table['名カナ'].values"
   ]
  },
  {
   "cell_type": "code",
   "execution_count": null,
   "metadata": {
    "ExecuteTime": {
     "end_time": "2018-07-31T03:01:28.678174Z",
     "start_time": "2018-07-31T03:01:28.662602Z"
    },
    "collapsed": true
   },
   "outputs": [],
   "source": [
    "beetech_table['得意先名2'].values"
   ]
  },
  {
   "cell_type": "code",
   "execution_count": null,
   "metadata": {
    "ExecuteTime": {
     "end_time": "2018-07-31T03:01:41.324825Z",
     "start_time": "2018-07-31T03:01:41.293628Z"
    },
    "collapsed": true
   },
   "outputs": [],
   "source": [
    "# % 表記の値は読み込み時に自動的に数値に変換されているっぽい\n",
    "beetech_table['修理料金'].values"
   ]
  },
  {
   "cell_type": "code",
   "execution_count": null,
   "metadata": {
    "ExecuteTime": {
     "end_time": "2018-07-31T03:02:29.669746Z",
     "start_time": "2018-07-31T03:02:29.638552Z"
    }
   },
   "outputs": [],
   "source": [
    "len(beetech_table)"
   ]
  },
  {
   "cell_type": "markdown",
   "metadata": {},
   "source": [
    "# 整形処理"
   ]
  },
  {
   "cell_type": "markdown",
   "metadata": {},
   "source": [
    "## bestec"
   ]
  },
  {
   "cell_type": "code",
   "execution_count": null,
   "metadata": {
    "ExecuteTime": {
     "end_time": "2018-07-31T03:40:38.534664Z",
     "start_time": "2018-07-31T03:40:38.529675Z"
    }
   },
   "outputs": [],
   "source": [
    "# 数値が混入している場合の型変換\n",
    "bestec_table['得意先'] = bestec_table['得意先'].astype(str)"
   ]
  },
  {
   "cell_type": "code",
   "execution_count": null,
   "metadata": {
    "ExecuteTime": {
     "end_time": "2018-07-31T03:40:44.474985Z",
     "start_time": "2018-07-31T03:40:44.448965Z"
    },
    "scrolled": true
   },
   "outputs": [],
   "source": [
    "# 'x1f' (ユニット区切り) を除去\n",
    "bestec_table = bestec_table.applymap(lambda x: re.sub('\\x1f', '', x))"
   ]
  },
  {
   "cell_type": "code",
   "execution_count": null,
   "metadata": {
    "ExecuteTime": {
     "end_time": "2018-07-31T03:40:45.166871Z",
     "start_time": "2018-07-31T03:40:45.080773Z"
    },
    "collapsed": true
   },
   "outputs": [],
   "source": [
    "# 半角カナを全角カナに\n",
    "bestec_table = bestec_table.applymap(lambda x: jaconv.h2z(x, kana=True, ascii=False, digit=False))"
   ]
  },
  {
   "cell_type": "code",
   "execution_count": null,
   "metadata": {
    "ExecuteTime": {
     "end_time": "2018-07-31T03:40:45.673658Z",
     "start_time": "2018-07-31T03:40:45.642636Z"
    },
    "collapsed": true
   },
   "outputs": [],
   "source": [
    "# 全角英数を半角英数に\n",
    "bestec_table = bestec_table.applymap(lambda x: jaconv.z2h(x, kana=False, ascii=True, digit=True))"
   ]
  },
  {
   "cell_type": "code",
   "execution_count": null,
   "metadata": {
    "ExecuteTime": {
     "end_time": "2018-07-31T03:40:46.309345Z",
     "start_time": "2018-07-31T03:40:46.280327Z"
    },
    "collapsed": true
   },
   "outputs": [],
   "source": [
    "# 'nan' を除去\n",
    "bestec_table = bestec_table.applymap(lambda x: re.sub('nan', '', x))"
   ]
  },
  {
   "cell_type": "code",
   "execution_count": null,
   "metadata": {
    "ExecuteTime": {
     "end_time": "2018-07-31T03:40:49.278571Z",
     "start_time": "2018-07-31T03:40:49.248539Z"
    }
   },
   "outputs": [],
   "source": [
    "# 確認\n",
    "bestec_table.applymap(lambda x: re.match('\\x1f', x)).any()"
   ]
  },
  {
   "cell_type": "code",
   "execution_count": null,
   "metadata": {
    "ExecuteTime": {
     "end_time": "2018-07-31T03:40:51.284663Z",
     "start_time": "2018-07-31T03:40:51.250624Z"
    }
   },
   "outputs": [],
   "source": [
    "# 確認\n",
    "bestec_table.applymap(lambda x: re.match('nan', x)).any()"
   ]
  },
  {
   "cell_type": "raw",
   "metadata": {
    "ExecuteTime": {
     "end_time": "2017-12-21T08:11:13.207560Z",
     "start_time": "2017-12-21T08:11:13.202559Z"
    },
    "collapsed": true
   },
   "source": [
    "# 列名変更\n",
    "bestec_table = bestec_table.rename(columns={'得意先': '得意先ID'})"
   ]
  },
  {
   "cell_type": "code",
   "execution_count": null,
   "metadata": {
    "ExecuteTime": {
     "end_time": "2018-07-31T03:31:50.027883Z",
     "start_time": "2018-07-31T03:31:49.939821Z"
    }
   },
   "outputs": [],
   "source": [
    "bestec_table"
   ]
  },
  {
   "cell_type": "code",
   "execution_count": null,
   "metadata": {
    "ExecuteTime": {
     "end_time": "2018-07-31T03:03:42.296816Z",
     "start_time": "2018-07-31T03:03:42.281176Z"
    }
   },
   "outputs": [],
   "source": [
    "# 得意先コードの重複を確認\n",
    "bestec_table['得意先'].duplicated().any()"
   ]
  },
  {
   "cell_type": "code",
   "execution_count": null,
   "metadata": {
    "ExecuteTime": {
     "end_time": "2018-07-31T02:45:26.845027Z",
     "start_time": "2018-07-31T02:45:26.813818Z"
    }
   },
   "outputs": [],
   "source": [
    "# 得意先コードの桁数を確認\n",
    "bestec_table['得意先'].apply(lambda x: len(x)).min()"
   ]
  },
  {
   "cell_type": "code",
   "execution_count": null,
   "metadata": {
    "ExecuteTime": {
     "end_time": "2018-07-31T02:45:27.376282Z",
     "start_time": "2018-07-31T02:45:27.360692Z"
    }
   },
   "outputs": [],
   "source": [
    "# 得意先コードの桁数を確認\n",
    "bestec_table['得意先'].apply(lambda x: len(x)).max()"
   ]
  },
  {
   "cell_type": "markdown",
   "metadata": {},
   "source": [
    "## beetech"
   ]
  },
  {
   "cell_type": "code",
   "execution_count": null,
   "metadata": {
    "ExecuteTime": {
     "end_time": "2018-07-31T03:05:56.126648Z",
     "start_time": "2018-07-31T03:05:56.111022Z"
    },
    "collapsed": true
   },
   "outputs": [],
   "source": [
    "# 数値が混入している場合の型変換\n",
    "beetech_table['修理料金'] = beetech_table['修理料金'].astype(str)"
   ]
  },
  {
   "cell_type": "code",
   "execution_count": null,
   "metadata": {
    "ExecuteTime": {
     "end_time": "2018-07-31T03:05:57.157895Z",
     "start_time": "2018-07-31T03:05:57.126642Z"
    },
    "scrolled": true
   },
   "outputs": [],
   "source": [
    "# 'x1f' (ユニット区切り) を除去\n",
    "beetech_table = beetech_table.applymap(lambda x: re.sub('\\x1f', '', x))"
   ]
  },
  {
   "cell_type": "code",
   "execution_count": null,
   "metadata": {
    "ExecuteTime": {
     "end_time": "2018-07-31T03:05:59.737574Z",
     "start_time": "2018-07-31T03:05:59.628204Z"
    },
    "collapsed": true
   },
   "outputs": [],
   "source": [
    "# 半角カナを全角カナに\n",
    "beetech_table = beetech_table.applymap(lambda x: jaconv.h2z(x, kana=True, ascii=False, digit=False))"
   ]
  },
  {
   "cell_type": "code",
   "execution_count": null,
   "metadata": {
    "ExecuteTime": {
     "end_time": "2018-07-31T03:06:00.784425Z",
     "start_time": "2018-07-31T03:06:00.737534Z"
    },
    "collapsed": true
   },
   "outputs": [],
   "source": [
    "# 全角英数を半角英数に\n",
    "beetech_table = beetech_table.applymap(lambda x: jaconv.z2h(x, kana=False, ascii=True, digit=True))"
   ]
  },
  {
   "cell_type": "code",
   "execution_count": null,
   "metadata": {
    "ExecuteTime": {
     "end_time": "2018-07-31T03:06:04.879862Z",
     "start_time": "2018-07-31T03:06:04.848612Z"
    },
    "collapsed": true
   },
   "outputs": [],
   "source": [
    "# 'nan' を除去\n",
    "beetech_table = beetech_table.applymap(lambda x: re.sub('nan', '', x))"
   ]
  },
  {
   "cell_type": "code",
   "execution_count": null,
   "metadata": {
    "ExecuteTime": {
     "end_time": "2018-07-31T03:06:05.974461Z",
     "start_time": "2018-07-31T03:06:05.927581Z"
    }
   },
   "outputs": [],
   "source": [
    "# 確認\n",
    "beetech_table.applymap(lambda x: re.match('\\x1f', x)).any()"
   ]
  },
  {
   "cell_type": "code",
   "execution_count": null,
   "metadata": {
    "ExecuteTime": {
     "end_time": "2018-07-31T03:06:10.506720Z",
     "start_time": "2018-07-31T03:06:10.459844Z"
    }
   },
   "outputs": [],
   "source": [
    "# 確認\n",
    "beetech_table.applymap(lambda x: re.match('nan', x)).any()"
   ]
  },
  {
   "cell_type": "raw",
   "metadata": {
    "ExecuteTime": {
     "end_time": "2017-12-21T08:11:13.207560Z",
     "start_time": "2017-12-21T08:11:13.202559Z"
    },
    "collapsed": true
   },
   "source": [
    "# 列名変更\n",
    "beetech_table = beetech_table.rename(columns={'得意先': '得意先ID'})"
   ]
  },
  {
   "cell_type": "code",
   "execution_count": null,
   "metadata": {
    "ExecuteTime": {
     "end_time": "2018-07-31T03:06:15.539018Z",
     "start_time": "2018-07-31T03:06:15.476518Z"
    }
   },
   "outputs": [],
   "source": [
    "beetech_table"
   ]
  },
  {
   "cell_type": "code",
   "execution_count": null,
   "metadata": {
    "ExecuteTime": {
     "end_time": "2018-07-31T03:06:26.869315Z",
     "start_time": "2018-07-31T03:06:26.853699Z"
    }
   },
   "outputs": [],
   "source": [
    "# 得意先コードの重複を確認\n",
    "beetech_table['得意先'].duplicated().any()"
   ]
  },
  {
   "cell_type": "code",
   "execution_count": null,
   "metadata": {
    "ExecuteTime": {
     "end_time": "2018-07-31T03:06:27.557356Z",
     "start_time": "2018-07-31T03:06:27.526161Z"
    }
   },
   "outputs": [],
   "source": [
    "# 得意先コードの桁数を確認\n",
    "beetech_table['得意先'].apply(lambda x: len(x)).min()"
   ]
  },
  {
   "cell_type": "code",
   "execution_count": null,
   "metadata": {
    "ExecuteTime": {
     "end_time": "2018-07-31T03:06:28.104246Z",
     "start_time": "2018-07-31T03:06:28.073033Z"
    }
   },
   "outputs": [],
   "source": [
    "# 得意先コードの桁数を確認\n",
    "beetech_table['得意先'].apply(lambda x: len(x)).max()"
   ]
  },
  {
   "cell_type": "markdown",
   "metadata": {},
   "source": [
    "# Excel 保存、再読み込み"
   ]
  },
  {
   "cell_type": "code",
   "execution_count": null,
   "metadata": {
    "ExecuteTime": {
     "end_time": "2018-07-31T03:06:33.152238Z",
     "start_time": "2018-07-31T03:06:33.136612Z"
    },
    "collapsed": true
   },
   "outputs": [],
   "source": [
    "output_name = r'{0}\\Bestecaudio得意先リスト.xlsx'.format(path)"
   ]
  },
  {
   "cell_type": "code",
   "execution_count": null,
   "metadata": {
    "ExecuteTime": {
     "end_time": "2018-07-31T03:41:02.430337Z",
     "start_time": "2018-07-31T03:41:01.784881Z"
    }
   },
   "outputs": [],
   "source": [
    "# エンコード指定なしで Excel 保存\n",
    "# 出力後に全セルの書式設定を文字列に変更しておいた方がよさそう\n",
    "writer = pd.ExcelWriter(output_name)\n",
    "bestec_table.to_excel(writer, sheet_name=sheet_1, index=False)\n",
    "beetech_table.to_excel(writer, sheet_name=sheet_2, index=False)\n",
    "writer.save()"
   ]
  },
  {
   "cell_type": "code",
   "execution_count": null,
   "metadata": {
    "ExecuteTime": {
     "end_time": "2018-07-31T05:20:17.692382Z",
     "start_time": "2018-07-31T05:20:17.485233Z"
    },
    "collapsed": true
   },
   "outputs": [],
   "source": [
    "# bestec 確認\n",
    "df = pd.read_excel(output_name, sheet_1, keep_default_na=False,\n",
    "                   dtype={'FAX番号': str,\n",
    "                          '住所1': str,\n",
    "                          '住所2': str,\n",
    "                          '住所3': str,\n",
    "                          '名カナ': str,\n",
    "                          '得意先': str,\n",
    "                          '得意先名1': str,\n",
    "                          '得意先名2': str,\n",
    "                          '担当者コード': str,\n",
    "                          '担当者名': str,\n",
    "                          '郵便番号': str,\n",
    "                          '電話番号': str})"
   ]
  },
  {
   "cell_type": "code",
   "execution_count": null,
   "metadata": {
    "ExecuteTime": {
     "end_time": "2018-07-31T03:11:44.142528Z",
     "start_time": "2018-07-31T03:11:44.082487Z"
    },
    "scrolled": true
   },
   "outputs": [],
   "source": [
    "df"
   ]
  },
  {
   "cell_type": "code",
   "execution_count": null,
   "metadata": {
    "ExecuteTime": {
     "end_time": "2018-07-31T03:11:45.395162Z",
     "start_time": "2018-07-31T03:11:45.386160Z"
    }
   },
   "outputs": [],
   "source": [
    "df.dtypes"
   ]
  },
  {
   "cell_type": "code",
   "execution_count": null,
   "metadata": {
    "ExecuteTime": {
     "end_time": "2018-07-31T05:20:40.294807Z",
     "start_time": "2018-07-31T05:20:40.290807Z"
    }
   },
   "outputs": [],
   "source": [
    "len(df)"
   ]
  },
  {
   "cell_type": "code",
   "execution_count": null,
   "metadata": {
    "ExecuteTime": {
     "end_time": "2018-07-31T05:20:41.046135Z",
     "start_time": "2018-07-31T05:20:41.019129Z"
    }
   },
   "outputs": [],
   "source": [
    "df.applymap(lambda x: re.match('\\x1f', x)).any()"
   ]
  },
  {
   "cell_type": "code",
   "execution_count": null,
   "metadata": {
    "ExecuteTime": {
     "end_time": "2018-07-31T05:20:42.278662Z",
     "start_time": "2018-07-31T05:20:42.251645Z"
    },
    "scrolled": true
   },
   "outputs": [],
   "source": [
    "df.applymap(lambda x: re.match('nan', x)).any()"
   ]
  },
  {
   "cell_type": "code",
   "execution_count": null,
   "metadata": {
    "ExecuteTime": {
     "end_time": "2018-07-31T05:20:25.261270Z",
     "start_time": "2018-07-31T05:20:25.253264Z"
    }
   },
   "outputs": [],
   "source": [
    "df['電話番号'].values"
   ]
  },
  {
   "cell_type": "code",
   "execution_count": null,
   "metadata": {
    "ExecuteTime": {
     "end_time": "2018-07-31T02:11:24.210713Z",
     "start_time": "2018-07-31T02:11:24.179460Z"
    }
   },
   "outputs": [],
   "source": [
    "df['名カナ'].values"
   ]
  },
  {
   "cell_type": "code",
   "execution_count": null,
   "metadata": {
    "ExecuteTime": {
     "end_time": "2018-07-31T05:20:27.190002Z",
     "start_time": "2018-07-31T05:20:27.180998Z"
    },
    "scrolled": true
   },
   "outputs": [],
   "source": [
    "df['得意先名2'].values"
   ]
  },
  {
   "cell_type": "code",
   "execution_count": null,
   "metadata": {
    "ExecuteTime": {
     "end_time": "2018-07-31T05:20:33.238867Z",
     "start_time": "2018-07-31T05:20:33.042715Z"
    },
    "collapsed": true
   },
   "outputs": [],
   "source": [
    "# beetech 確認\n",
    "df = pd.read_excel(output_name, sheet_2, keep_default_na=False,\n",
    "                   dtype={'FAX番号': str,\n",
    "                          '住所1': str,\n",
    "                          '住所2': str,\n",
    "                          '住所3': str,\n",
    "                          '名カナ': str,\n",
    "                          '得意先': str,\n",
    "                          '得意先名1': str,\n",
    "                          '得意先名2': str,\n",
    "                          '担当者名': str,\n",
    "                          '郵便番号': str,\n",
    "                          '修理料金': str,\n",
    "                          '電話番号': str})"
   ]
  },
  {
   "cell_type": "markdown",
   "metadata": {
    "heading_collapsed": true
   },
   "source": [
    "# CSV 保存、確認"
   ]
  },
  {
   "cell_type": "code",
   "execution_count": null,
   "metadata": {
    "ExecuteTime": {
     "end_time": "2017-12-18T06:20:01.885855Z",
     "start_time": "2017-12-18T06:20:01.854592Z"
    },
    "collapsed": true,
    "hidden": true,
    "scrolled": true
   },
   "outputs": [],
   "source": [
    "# utf-8 で CSV 保存 (Excel で文字化けする)\n",
    "bestec_table.to_csv(r'{0}\\bestec_table_utf8.csv'.format(path), encoding='utf-8')"
   ]
  },
  {
   "cell_type": "code",
   "execution_count": null,
   "metadata": {
    "ExecuteTime": {
     "end_time": "2017-12-18T06:20:02.620231Z",
     "start_time": "2017-12-18T06:20:02.604601Z"
    },
    "collapsed": true,
    "hidden": true,
    "scrolled": true
   },
   "outputs": [],
   "source": [
    "# エンコード指定なしで CSV 保存 (そのままでは pandas で読み込めなくなる)\n",
    "bestec_table.to_csv(r'{0}\\bestec_table.csv'.format(path))"
   ]
  },
  {
   "cell_type": "code",
   "execution_count": null,
   "metadata": {
    "ExecuteTime": {
     "end_time": "2017-12-18T06:20:05.323690Z",
     "start_time": "2017-12-18T06:20:05.292425Z"
    },
    "collapsed": true,
    "hidden": true
   },
   "outputs": [],
   "source": [
    "# bestec_table_utf8.csv\n",
    "df = pd.read_csv(r'{0}\\bestec_table_utf8.csv'.format(path), index_col=0)"
   ]
  },
  {
   "cell_type": "code",
   "execution_count": null,
   "metadata": {
    "ExecuteTime": {
     "end_time": "2017-12-18T06:08:02.948071Z",
     "start_time": "2017-12-18T06:08:02.932433Z"
    },
    "collapsed": true,
    "hidden": true
   },
   "outputs": [],
   "source": [
    "# bestec_table.csv\n",
    "with codecs.open(r'{0}\\bestec_table.csv'.format(path), mode=\"r\", encoding=\"Shift-JIS\", errors=\"ignore\") as file:\n",
    "    df = pd.read_table(file, delimiter=\",\", index_col=0)"
   ]
  },
  {
   "cell_type": "code",
   "execution_count": null,
   "metadata": {
    "ExecuteTime": {
     "end_time": "2017-12-18T06:20:09.183827Z",
     "start_time": "2017-12-18T06:20:09.121326Z"
    },
    "collapsed": true,
    "hidden": true
   },
   "outputs": [],
   "source": [
    "df"
   ]
  },
  {
   "cell_type": "code",
   "execution_count": null,
   "metadata": {
    "ExecuteTime": {
     "end_time": "2017-12-18T06:20:18.529576Z",
     "start_time": "2017-12-18T06:20:18.498368Z"
    },
    "collapsed": true,
    "hidden": true,
    "scrolled": true
   },
   "outputs": [],
   "source": [
    "df.dtypes"
   ]
  },
  {
   "cell_type": "code",
   "execution_count": null,
   "metadata": {
    "collapsed": true,
    "hidden": true
   },
   "outputs": [],
   "source": []
  }
 ],
 "metadata": {
  "kernelspec": {
   "display_name": "Python 3",
   "language": "python",
   "name": "python3"
  },
  "language_info": {
   "codemirror_mode": {
    "name": "ipython",
    "version": 3
   },
   "file_extension": ".py",
   "mimetype": "text/x-python",
   "name": "python",
   "nbconvert_exporter": "python",
   "pygments_lexer": "ipython3",
   "version": "3.6.1"
  },
  "toc": {
   "nav_menu": {},
   "number_sections": true,
   "sideBar": true,
   "skip_h1_title": false,
   "title_cell": "Table of Contents",
   "title_sidebar": "Contents",
   "toc_cell": false,
   "toc_position": {},
   "toc_section_display": true,
   "toc_window_display": false
  },
  "varInspector": {
   "cols": {
    "lenName": 16,
    "lenType": 16,
    "lenVar": 40
   },
   "kernels_config": {
    "python": {
     "delete_cmd_postfix": "",
     "delete_cmd_prefix": "del ",
     "library": "var_list.py",
     "varRefreshCmd": "print(var_dic_list())"
    },
    "r": {
     "delete_cmd_postfix": ") ",
     "delete_cmd_prefix": "rm(",
     "library": "var_list.r",
     "varRefreshCmd": "cat(var_dic_list()) "
    }
   },
   "types_to_exclude": [
    "module",
    "function",
    "builtin_function_or_method",
    "instance",
    "_Feature"
   ],
   "window_display": false
  }
 },
 "nbformat": 4,
 "nbformat_minor": 2
}
