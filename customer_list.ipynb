{
 "cells": [
  {
   "cell_type": "markdown",
   "metadata": {},
   "source": [
    "# 準備"
   ]
  },
  {
   "cell_type": "code",
   "execution_count": null,
   "metadata": {
    "ExecuteTime": {
     "end_time": "2019-01-07T02:32:53.990498Z",
     "start_time": "2019-01-07T02:32:37.363714Z"
    },
    "collapsed": true
   },
   "outputs": [],
   "source": [
    "import sys\n",
    "import codecs\n",
    "import re\n",
    "import pandas as pd\n",
    "import numpy as np\n",
    "import jaconv"
   ]
  },
  {
   "cell_type": "code",
   "execution_count": null,
   "metadata": {
    "ExecuteTime": {
     "end_time": "2019-01-07T02:32:56.446174Z",
     "start_time": "2019-01-07T02:32:56.424158Z"
    },
    "collapsed": true
   },
   "outputs": [],
   "source": [
    "# pandas の最大表示列数を設定 (max_rows で表示行数の設定も可能)\n",
    "pd.set_option('display.max_columns', 30)"
   ]
  },
  {
   "cell_type": "code",
   "execution_count": null,
   "metadata": {
    "ExecuteTime": {
     "end_time": "2019-01-07T02:32:58.768063Z",
     "start_time": "2019-01-07T02:32:58.764062Z"
    },
    "collapsed": true,
    "scrolled": true
   },
   "outputs": [],
   "source": [
    "# ファイルパス\n",
    "path = r'C:\\Users\\BestecAudioTecHH\\Documents\\GitHub\\BAC\\DO_NOT_PUSH'"
   ]
  },
  {
   "cell_type": "markdown",
   "metadata": {},
   "source": [
    "# excel ファイルの読み込み、作業用テーブルの作成"
   ]
  },
  {
   "cell_type": "markdown",
   "metadata": {
    "heading_collapsed": true
   },
   "source": [
    "## 住所データ結合版"
   ]
  },
  {
   "cell_type": "code",
   "execution_count": null,
   "metadata": {
    "ExecuteTime": {
     "end_time": "2017-12-20T04:48:41.404375Z",
     "start_time": "2017-12-20T04:48:40.347708Z"
    },
    "collapsed": true,
    "hidden": true
   },
   "outputs": [],
   "source": [
    "bestec_excel = pd.read_excel(r'{0}\\Bestecaudio得意先リスト20170728更新_local_171214.xlsx'.format(path))"
   ]
  },
  {
   "cell_type": "code",
   "execution_count": null,
   "metadata": {
    "ExecuteTime": {
     "end_time": "2017-12-20T04:48:49.182863Z",
     "start_time": "2017-12-20T04:48:49.165851Z"
    },
    "collapsed": true,
    "hidden": true
   },
   "outputs": [],
   "source": [
    "# 作業用テーブルの作成\n",
    "bestec_table = bestec_excel[['担当者コード', '担当者名', '得意先', '名カナ', '得意先名1', '得意先名2', '郵便番号', '住所1', '住所2',\n",
    "       '住所3', '電話番号', 'FAX番号']]"
   ]
  },
  {
   "cell_type": "code",
   "execution_count": null,
   "metadata": {
    "ExecuteTime": {
     "end_time": "2017-12-21T08:00:33.401530Z",
     "start_time": "2017-12-21T08:00:33.291465Z"
    },
    "collapsed": true,
    "hidden": true
   },
   "outputs": [],
   "source": [
    "# str 型を明示\n",
    "bestec_table = bestec_table.astype({'担当者コード':str, '担当者名': str, '得意先': str, '名カナ': str, '得意先名1': str, '得意先名2': str, '郵便番号': str,\n",
    "                                        '住所1': str, '住所2': str, '住所3': str, '電話番号': str, 'FAX番号': str})"
   ]
  },
  {
   "cell_type": "code",
   "execution_count": null,
   "metadata": {
    "ExecuteTime": {
     "end_time": "2017-12-20T04:49:24.040357Z",
     "start_time": "2017-12-20T04:49:24.027348Z"
    },
    "collapsed": true,
    "hidden": true
   },
   "outputs": [],
   "source": [
    "# 住所列結合\n",
    "bestec_table['住所'] = bestec_table['住所1'] + bestec_table['住所2'] + bestec_table['住所3']"
   ]
  },
  {
   "cell_type": "code",
   "execution_count": null,
   "metadata": {
    "ExecuteTime": {
     "end_time": "2017-12-20T04:49:28.232203Z",
     "start_time": "2017-12-20T04:49:28.226187Z"
    },
    "collapsed": true,
    "hidden": true
   },
   "outputs": [],
   "source": [
    "# 結合済み住所列削除\n",
    "bestec_table = bestec_table[['担当者コード', '担当者名', '得意先', '名カナ', '得意先名1', '得意先名2', '郵便番号', '住所', '電話番号', 'FAX番号']]"
   ]
  },
  {
   "cell_type": "markdown",
   "metadata": {},
   "source": [
    "## 住所データ現状維持版"
   ]
  },
  {
   "cell_type": "code",
   "execution_count": null,
   "metadata": {
    "ExecuteTime": {
     "end_time": "2018-01-22T03:50:04.365389Z",
     "start_time": "2018-01-22T03:50:04.362399Z"
    },
    "collapsed": true
   },
   "outputs": [],
   "source": [
    "# version = 180111"
   ]
  },
  {
   "cell_type": "code",
   "execution_count": null,
   "metadata": {
    "ExecuteTime": {
     "end_time": "2018-01-22T03:34:38.985398Z",
     "start_time": "2018-01-22T03:34:38.981395Z"
    },
    "collapsed": true
   },
   "outputs": [],
   "source": [
    "# file_name = r'{0}\\Bestecaudio得意先リスト20170728更新_{1}.xlsx'.format(path, version)"
   ]
  },
  {
   "cell_type": "code",
   "execution_count": null,
   "metadata": {
    "ExecuteTime": {
     "end_time": "2018-01-22T03:50:13.685689Z",
     "start_time": "2018-01-22T03:50:13.682687Z"
    },
    "collapsed": true
   },
   "outputs": [],
   "source": [
    "# file_name = r'{0}\\得意先リスト20180109更新_{1}.xlsx'.format(path, version)"
   ]
  },
  {
   "cell_type": "code",
   "execution_count": null,
   "metadata": {
    "ExecuteTime": {
     "end_time": "2019-01-07T02:34:32.103051Z",
     "start_time": "2019-01-07T02:34:32.099047Z"
    },
    "collapsed": true
   },
   "outputs": [],
   "source": [
    "file_name = r'{0}\\得意先リスト20181227更新.xlsx'.format(path)"
   ]
  },
  {
   "cell_type": "markdown",
   "metadata": {},
   "source": [
    "### bestec"
   ]
  },
  {
   "cell_type": "code",
   "execution_count": null,
   "metadata": {
    "ExecuteTime": {
     "end_time": "2019-01-07T02:36:43.533168Z",
     "start_time": "2019-01-07T02:36:43.529167Z"
    },
    "collapsed": true
   },
   "outputs": [],
   "source": [
    "# sheet_1 = 'Bestec得意先リスト'\n",
    "sheet_1 = 'ベステック得意先リスト'"
   ]
  },
  {
   "cell_type": "code",
   "execution_count": null,
   "metadata": {
    "ExecuteTime": {
     "end_time": "2019-01-07T02:36:46.837931Z",
     "start_time": "2019-01-07T02:36:46.195419Z"
    }
   },
   "outputs": [],
   "source": [
    "# 読み込み (列の追加や削減、列名の変更があった場合にはこのままでは対応できないので要注意)\n",
    "# 先頭の不要行を削除してから実行のこと\n",
    "# 先頭に空白行があっても自動的にスキップしてくれる?\n",
    "bestec_excel = pd.read_excel(file_name, sheet_1, keep_default_na=False)"
   ]
  },
  {
   "cell_type": "code",
   "execution_count": null,
   "metadata": {
    "ExecuteTime": {
     "end_time": "2019-01-07T02:37:16.958801Z",
     "start_time": "2019-01-07T02:37:16.825706Z"
    },
    "collapsed": true
   },
   "outputs": [],
   "source": [
    "# 不要列の削除と並び替え (2017年の元ファイルに揃える)\n",
    "# (列の追加や削減、列名の変更があった場合にはこのままでは対応できないので要注意)\n",
    "bestec_excel = bestec_excel[['担当者コード',\n",
    "                             '担当者名',\n",
    "                             '得意先',\n",
    "                             '名カナ',\n",
    "                             '得意先名1',\n",
    "                             '得意先名2',\n",
    "                             '郵便番号',\n",
    "                             '住所1',\n",
    "                             '住所2',\n",
    "                             '住所3',\n",
    "                             '電話番号',\n",
    "                             'FAX番号',\n",
    "                             ]]"
   ]
  },
  {
   "cell_type": "code",
   "execution_count": null,
   "metadata": {
    "ExecuteTime": {
     "end_time": "2019-01-07T02:36:59.152624Z",
     "start_time": "2019-01-07T02:36:59.137627Z"
    }
   },
   "outputs": [],
   "source": [
    "bestec_excel.columns"
   ]
  },
  {
   "cell_type": "code",
   "execution_count": null,
   "metadata": {
    "ExecuteTime": {
     "end_time": "2019-01-07T02:37:19.560772Z",
     "start_time": "2019-01-07T02:37:19.553768Z"
    }
   },
   "outputs": [],
   "source": [
    "len(bestec_excel.columns)"
   ]
  },
  {
   "cell_type": "code",
   "execution_count": null,
   "metadata": {
    "ExecuteTime": {
     "end_time": "2019-01-07T02:37:34.122510Z",
     "start_time": "2019-01-07T02:37:34.065469Z"
    }
   },
   "outputs": [],
   "source": [
    "bestec_excel"
   ]
  },
  {
   "cell_type": "code",
   "execution_count": null,
   "metadata": {
    "ExecuteTime": {
     "end_time": "2019-01-07T02:38:03.040042Z",
     "start_time": "2019-01-07T02:38:03.033037Z"
    }
   },
   "outputs": [],
   "source": [
    "len(bestec_excel)\n",
    "# 2018-07-31 914\n",
    "# 2019-01-07 948"
   ]
  },
  {
   "cell_type": "code",
   "execution_count": null,
   "metadata": {
    "ExecuteTime": {
     "end_time": "2019-01-07T02:38:44.583676Z",
     "start_time": "2019-01-07T02:38:44.576684Z"
    }
   },
   "outputs": [],
   "source": [
    "bestec_excel.dtypes"
   ]
  },
  {
   "cell_type": "code",
   "execution_count": null,
   "metadata": {
    "ExecuteTime": {
     "end_time": "2019-01-07T02:38:53.316320Z",
     "start_time": "2019-01-07T02:38:53.296308Z"
    },
    "collapsed": true
   },
   "outputs": [],
   "source": [
    "# 作業用テーブルの作成\n",
    "bestec_table = bestec_excel.copy()"
   ]
  },
  {
   "cell_type": "code",
   "execution_count": null,
   "metadata": {
    "ExecuteTime": {
     "end_time": "2019-01-07T02:38:56.313660Z",
     "start_time": "2019-01-07T02:38:56.261622Z"
    }
   },
   "outputs": [],
   "source": [
    "bestec_table"
   ]
  },
  {
   "cell_type": "markdown",
   "metadata": {},
   "source": [
    "### beetech"
   ]
  },
  {
   "cell_type": "code",
   "execution_count": null,
   "metadata": {
    "ExecuteTime": {
     "end_time": "2019-01-07T02:40:12.083445Z",
     "start_time": "2019-01-07T02:40:12.080446Z"
    },
    "collapsed": true
   },
   "outputs": [],
   "source": [
    "sheet_2 = 'ビーテック得意先リスト'"
   ]
  },
  {
   "cell_type": "code",
   "execution_count": null,
   "metadata": {
    "ExecuteTime": {
     "end_time": "2019-01-07T02:41:29.549997Z",
     "start_time": "2019-01-07T02:41:29.088670Z"
    },
    "collapsed": true
   },
   "outputs": [],
   "source": [
    "# 読み込み (列の追加や削減、列名の変更があった場合にはこのままでは対応できないので要注意)\n",
    "# 先頭の不要行を削除してから実行のこと\n",
    "# 先頭に空白行があっても自動的にスキップしてくれる?\n",
    "beetech_excel = pd.read_excel(file_name, sheet_2, keep_default_na=False)"
   ]
  },
  {
   "cell_type": "code",
   "execution_count": null,
   "metadata": {
    "ExecuteTime": {
     "end_time": "2019-01-07T02:42:21.038430Z",
     "start_time": "2019-01-07T02:42:21.032424Z"
    },
    "collapsed": true
   },
   "outputs": [],
   "source": [
    "# 不要列の削除と並び替え (2017年の元ファイルに揃える)\n",
    "# (列の追加や削減、列名の変更があった場合にはこのままでは対応できないので要注意)\n",
    "beetech_excel = beetech_excel[['担当者名',\n",
    "                               'コード',\n",
    "                               '名カナ',\n",
    "                               '得意先名1',\n",
    "                               '得意先名2',\n",
    "                               '郵便番号',\n",
    "                               '住所1',\n",
    "                               '住所2',\n",
    "                               '住所3',\n",
    "                               '電話番号',\n",
    "                               'FAX番号',\n",
    "                               '修理料金',\n",
    "                              ]]"
   ]
  },
  {
   "cell_type": "code",
   "execution_count": null,
   "metadata": {
    "ExecuteTime": {
     "end_time": "2019-01-07T02:42:22.190315Z",
     "start_time": "2019-01-07T02:42:22.185312Z"
    },
    "collapsed": true
   },
   "outputs": [],
   "source": [
    "# 列名 'コード' を '得意先' に戻す\n",
    "beetech_excel.columns = ['担当者名', '得意先', '名カナ', '得意先名1', '得意先名2', '郵便番号', \n",
    "                         '住所1', '住所2', '住所3', '電話番号', 'FAX番号', '修理料金']"
   ]
  },
  {
   "cell_type": "code",
   "execution_count": null,
   "metadata": {
    "ExecuteTime": {
     "end_time": "2019-01-07T02:42:24.495215Z",
     "start_time": "2019-01-07T02:42:24.488210Z"
    },
    "scrolled": false
   },
   "outputs": [],
   "source": [
    "beetech_excel.columns"
   ]
  },
  {
   "cell_type": "code",
   "execution_count": null,
   "metadata": {
    "ExecuteTime": {
     "end_time": "2019-01-07T02:42:29.159090Z",
     "start_time": "2019-01-07T02:42:29.153086Z"
    }
   },
   "outputs": [],
   "source": [
    "len(beetech_excel.columns)"
   ]
  },
  {
   "cell_type": "code",
   "execution_count": null,
   "metadata": {
    "ExecuteTime": {
     "end_time": "2019-01-07T02:42:33.150215Z",
     "start_time": "2019-01-07T02:42:33.095184Z"
    }
   },
   "outputs": [],
   "source": [
    "beetech_excel"
   ]
  },
  {
   "cell_type": "code",
   "execution_count": null,
   "metadata": {
    "ExecuteTime": {
     "end_time": "2019-01-07T02:43:08.158760Z",
     "start_time": "2019-01-07T02:43:08.153756Z"
    }
   },
   "outputs": [],
   "source": [
    "len(beetech_excel)\n",
    "# 2018-07-31 914\n",
    "# 2018-01-07 945"
   ]
  },
  {
   "cell_type": "code",
   "execution_count": null,
   "metadata": {
    "ExecuteTime": {
     "end_time": "2019-01-07T02:48:08.416116Z",
     "start_time": "2019-01-07T02:48:08.408125Z"
    }
   },
   "outputs": [],
   "source": [
    "beetech_excel.dtypes"
   ]
  },
  {
   "cell_type": "code",
   "execution_count": null,
   "metadata": {
    "ExecuteTime": {
     "end_time": "2019-01-07T02:43:30.324372Z",
     "start_time": "2019-01-07T02:43:30.320369Z"
    },
    "collapsed": true
   },
   "outputs": [],
   "source": [
    "# 作業用テーブルの作成\n",
    "beetech_table = beetech_excel.copy()"
   ]
  },
  {
   "cell_type": "code",
   "execution_count": null,
   "metadata": {
    "ExecuteTime": {
     "end_time": "2019-01-07T02:43:31.452168Z",
     "start_time": "2019-01-07T02:43:31.391125Z"
    }
   },
   "outputs": [],
   "source": [
    "beetech_table"
   ]
  },
  {
   "cell_type": "markdown",
   "metadata": {},
   "source": [
    "# 内容確認"
   ]
  },
  {
   "cell_type": "markdown",
   "metadata": {},
   "source": [
    "## bestec"
   ]
  },
  {
   "cell_type": "code",
   "execution_count": null,
   "metadata": {
    "ExecuteTime": {
     "end_time": "2019-01-07T02:43:40.547196Z",
     "start_time": "2019-01-07T02:43:40.517174Z"
    }
   },
   "outputs": [],
   "source": [
    "bestec_table.loc[0, '名カナ']"
   ]
  },
  {
   "cell_type": "code",
   "execution_count": null,
   "metadata": {
    "ExecuteTime": {
     "end_time": "2019-01-07T02:43:42.028552Z",
     "start_time": "2019-01-07T02:43:42.023562Z"
    }
   },
   "outputs": [],
   "source": [
    "bestec_table.loc[0, '得意先名2']"
   ]
  },
  {
   "cell_type": "code",
   "execution_count": null,
   "metadata": {
    "ExecuteTime": {
     "end_time": "2019-01-07T02:43:43.301592Z",
     "start_time": "2019-01-07T02:43:43.295588Z"
    }
   },
   "outputs": [],
   "source": [
    "bestec_table.loc[0, '住所1']"
   ]
  },
  {
   "cell_type": "code",
   "execution_count": null,
   "metadata": {
    "ExecuteTime": {
     "end_time": "2019-01-07T02:43:44.604690Z",
     "start_time": "2019-01-07T02:43:44.599686Z"
    }
   },
   "outputs": [],
   "source": [
    "bestec_table.loc[0, '得意先']"
   ]
  },
  {
   "cell_type": "code",
   "execution_count": null,
   "metadata": {
    "ExecuteTime": {
     "end_time": "2019-01-07T02:45:54.635848Z",
     "start_time": "2019-01-07T02:45:54.625842Z"
    }
   },
   "outputs": [],
   "source": [
    "bestec_table['名カナ'].values"
   ]
  },
  {
   "cell_type": "code",
   "execution_count": null,
   "metadata": {
    "ExecuteTime": {
     "end_time": "2019-01-07T02:45:57.286721Z",
     "start_time": "2019-01-07T02:45:57.279717Z"
    },
    "scrolled": true
   },
   "outputs": [],
   "source": [
    "bestec_table['得意先名2'].values"
   ]
  },
  {
   "cell_type": "code",
   "execution_count": null,
   "metadata": {
    "ExecuteTime": {
     "end_time": "2019-01-07T02:43:57.900631Z",
     "start_time": "2019-01-07T02:43:57.895628Z"
    }
   },
   "outputs": [],
   "source": [
    "len(bestec_table)"
   ]
  },
  {
   "cell_type": "markdown",
   "metadata": {},
   "source": [
    "## beetech"
   ]
  },
  {
   "cell_type": "code",
   "execution_count": null,
   "metadata": {
    "ExecuteTime": {
     "end_time": "2019-01-07T02:47:23.806602Z",
     "start_time": "2019-01-07T02:47:23.800612Z"
    }
   },
   "outputs": [],
   "source": [
    "beetech_table.loc[0, '名カナ']"
   ]
  },
  {
   "cell_type": "code",
   "execution_count": null,
   "metadata": {
    "ExecuteTime": {
     "end_time": "2019-01-07T02:47:19.820584Z",
     "start_time": "2019-01-07T02:47:19.814593Z"
    }
   },
   "outputs": [],
   "source": [
    "beetech_table.loc[0, '得意先名2']"
   ]
  },
  {
   "cell_type": "code",
   "execution_count": null,
   "metadata": {
    "ExecuteTime": {
     "end_time": "2019-01-07T02:44:03.044922Z",
     "start_time": "2019-01-07T02:44:03.038932Z"
    }
   },
   "outputs": [],
   "source": [
    "beetech_table.loc[0, '住所1']"
   ]
  },
  {
   "cell_type": "code",
   "execution_count": null,
   "metadata": {
    "ExecuteTime": {
     "end_time": "2019-01-07T02:47:29.047607Z",
     "start_time": "2019-01-07T02:47:29.039616Z"
    }
   },
   "outputs": [],
   "source": [
    "beetech_table.loc[0, '得意先']"
   ]
  },
  {
   "cell_type": "code",
   "execution_count": null,
   "metadata": {
    "ExecuteTime": {
     "end_time": "2019-01-07T02:47:32.931513Z",
     "start_time": "2019-01-07T02:47:32.920506Z"
    }
   },
   "outputs": [],
   "source": [
    "beetech_table['名カナ'].values"
   ]
  },
  {
   "cell_type": "code",
   "execution_count": null,
   "metadata": {
    "ExecuteTime": {
     "end_time": "2019-01-07T02:44:09.882164Z",
     "start_time": "2019-01-07T02:44:09.872171Z"
    },
    "collapsed": true
   },
   "outputs": [],
   "source": [
    "beetech_table['得意先名2'].values"
   ]
  },
  {
   "cell_type": "code",
   "execution_count": null,
   "metadata": {
    "ExecuteTime": {
     "end_time": "2019-01-07T02:44:21.250320Z",
     "start_time": "2019-01-07T02:44:21.241314Z"
    },
    "collapsed": true
   },
   "outputs": [],
   "source": [
    "# % 表記の値は読み込み時に自動的に数値に変換されているっぽい\n",
    "beetech_table['修理料金'].values"
   ]
  },
  {
   "cell_type": "code",
   "execution_count": null,
   "metadata": {
    "ExecuteTime": {
     "end_time": "2019-01-07T02:44:28.312575Z",
     "start_time": "2019-01-07T02:44:28.306571Z"
    }
   },
   "outputs": [],
   "source": [
    "len(beetech_table)"
   ]
  },
  {
   "cell_type": "markdown",
   "metadata": {},
   "source": [
    "# 整形処理"
   ]
  },
  {
   "cell_type": "markdown",
   "metadata": {},
   "source": [
    "## bestec"
   ]
  },
  {
   "cell_type": "code",
   "execution_count": null,
   "metadata": {
    "ExecuteTime": {
     "end_time": "2019-01-07T02:44:34.451192Z",
     "start_time": "2019-01-07T02:44:34.415166Z"
    },
    "collapsed": true
   },
   "outputs": [],
   "source": [
    "# 数値が混入している場合の型変換\n",
    "bestec_table['得意先'] = bestec_table['得意先'].astype(str)"
   ]
  },
  {
   "cell_type": "code",
   "execution_count": null,
   "metadata": {
    "ExecuteTime": {
     "end_time": "2019-01-07T02:44:35.617159Z",
     "start_time": "2019-01-07T02:44:35.552075Z"
    },
    "collapsed": true,
    "scrolled": true
   },
   "outputs": [],
   "source": [
    "# 'x1f' (ユニット区切り) を除去\n",
    "bestec_table = bestec_table.applymap(lambda x: re.sub('\\x1f', '', x))"
   ]
  },
  {
   "cell_type": "code",
   "execution_count": null,
   "metadata": {
    "ExecuteTime": {
     "end_time": "2019-01-07T02:44:37.725676Z",
     "start_time": "2019-01-07T02:44:37.631587Z"
    },
    "collapsed": true
   },
   "outputs": [],
   "source": [
    "# 半角カナを全角カナに\n",
    "bestec_table = bestec_table.applymap(lambda x: jaconv.h2z(x, kana=True, ascii=False, digit=False))"
   ]
  },
  {
   "cell_type": "code",
   "execution_count": null,
   "metadata": {
    "ExecuteTime": {
     "end_time": "2019-01-07T02:44:38.715465Z",
     "start_time": "2019-01-07T02:44:38.680430Z"
    },
    "collapsed": true
   },
   "outputs": [],
   "source": [
    "# 全角英数を半角英数に\n",
    "bestec_table = bestec_table.applymap(lambda x: jaconv.z2h(x, kana=False, ascii=True, digit=True))"
   ]
  },
  {
   "cell_type": "code",
   "execution_count": null,
   "metadata": {
    "ExecuteTime": {
     "end_time": "2019-01-07T02:44:40.759897Z",
     "start_time": "2019-01-07T02:44:40.727875Z"
    },
    "collapsed": true
   },
   "outputs": [],
   "source": [
    "# 'nan' を除去\n",
    "bestec_table = bestec_table.applymap(lambda x: re.sub('nan', '', x))"
   ]
  },
  {
   "cell_type": "code",
   "execution_count": null,
   "metadata": {
    "ExecuteTime": {
     "end_time": "2019-01-07T02:44:43.084781Z",
     "start_time": "2019-01-07T02:44:43.039749Z"
    }
   },
   "outputs": [],
   "source": [
    "# 確認\n",
    "bestec_table.applymap(lambda x: re.match('\\x1f', x)).any()"
   ]
  },
  {
   "cell_type": "code",
   "execution_count": null,
   "metadata": {
    "ExecuteTime": {
     "end_time": "2019-01-07T02:44:53.807359Z",
     "start_time": "2019-01-07T02:44:53.775349Z"
    }
   },
   "outputs": [],
   "source": [
    "# 確認\n",
    "bestec_table.applymap(lambda x: re.match('nan', x)).any()"
   ]
  },
  {
   "cell_type": "raw",
   "metadata": {
    "ExecuteTime": {
     "end_time": "2017-12-21T08:11:13.207560Z",
     "start_time": "2017-12-21T08:11:13.202559Z"
    },
    "collapsed": true
   },
   "source": [
    "# 列名変更\n",
    "bestec_table = bestec_table.rename(columns={'得意先': '得意先ID'})"
   ]
  },
  {
   "cell_type": "code",
   "execution_count": null,
   "metadata": {
    "ExecuteTime": {
     "end_time": "2019-01-07T02:45:13.925038Z",
     "start_time": "2019-01-07T02:45:13.859992Z"
    }
   },
   "outputs": [],
   "source": [
    "bestec_table"
   ]
  },
  {
   "cell_type": "code",
   "execution_count": null,
   "metadata": {
    "ExecuteTime": {
     "end_time": "2019-01-07T02:46:10.965579Z",
     "start_time": "2019-01-07T02:46:10.926565Z"
    }
   },
   "outputs": [],
   "source": [
    "# 得意先コードの重複を確認\n",
    "bestec_table['得意先'].duplicated().any()"
   ]
  },
  {
   "cell_type": "code",
   "execution_count": null,
   "metadata": {
    "ExecuteTime": {
     "end_time": "2019-01-07T02:46:11.917393Z",
     "start_time": "2019-01-07T02:46:11.872364Z"
    }
   },
   "outputs": [],
   "source": [
    "# 得意先コードの桁数を確認\n",
    "bestec_table['得意先'].apply(lambda x: len(x)).min()"
   ]
  },
  {
   "cell_type": "code",
   "execution_count": null,
   "metadata": {
    "ExecuteTime": {
     "end_time": "2019-01-07T02:46:23.819907Z",
     "start_time": "2019-01-07T02:46:23.812914Z"
    }
   },
   "outputs": [],
   "source": [
    "# 得意先コードの桁数を確認\n",
    "bestec_table['得意先'].apply(lambda x: len(x)).max()"
   ]
  },
  {
   "cell_type": "markdown",
   "metadata": {},
   "source": [
    "## beetech"
   ]
  },
  {
   "cell_type": "code",
   "execution_count": null,
   "metadata": {
    "ExecuteTime": {
     "end_time": "2019-01-07T02:46:30.352991Z",
     "start_time": "2019-01-07T02:46:30.347988Z"
    },
    "collapsed": true
   },
   "outputs": [],
   "source": [
    "# 数値が混入している場合の型変換\n",
    "beetech_table['修理料金'] = beetech_table['修理料金'].astype(str)"
   ]
  },
  {
   "cell_type": "code",
   "execution_count": null,
   "metadata": {
    "ExecuteTime": {
     "end_time": "2019-01-07T02:46:31.269661Z",
     "start_time": "2019-01-07T02:46:31.238638Z"
    },
    "collapsed": true,
    "scrolled": true
   },
   "outputs": [],
   "source": [
    "# 'x1f' (ユニット区切り) を除去\n",
    "beetech_table = beetech_table.applymap(lambda x: re.sub('\\x1f', '', x))"
   ]
  },
  {
   "cell_type": "code",
   "execution_count": null,
   "metadata": {
    "ExecuteTime": {
     "end_time": "2019-01-07T02:46:32.081315Z",
     "start_time": "2019-01-07T02:46:31.992256Z"
    },
    "collapsed": true
   },
   "outputs": [],
   "source": [
    "# 半角カナを全角カナに\n",
    "beetech_table = beetech_table.applymap(lambda x: jaconv.h2z(x, kana=True, ascii=False, digit=False))"
   ]
  },
  {
   "cell_type": "code",
   "execution_count": null,
   "metadata": {
    "ExecuteTime": {
     "end_time": "2019-01-07T02:46:32.864869Z",
     "start_time": "2019-01-07T02:46:32.831845Z"
    },
    "collapsed": true
   },
   "outputs": [],
   "source": [
    "# 全角英数を半角英数に\n",
    "beetech_table = beetech_table.applymap(lambda x: jaconv.z2h(x, kana=False, ascii=True, digit=True))"
   ]
  },
  {
   "cell_type": "code",
   "execution_count": null,
   "metadata": {
    "ExecuteTime": {
     "end_time": "2019-01-07T02:46:34.048786Z",
     "start_time": "2019-01-07T02:46:34.014764Z"
    },
    "collapsed": true
   },
   "outputs": [],
   "source": [
    "# 'nan' を除去\n",
    "beetech_table = beetech_table.applymap(lambda x: re.sub('nan', '', x))"
   ]
  },
  {
   "cell_type": "code",
   "execution_count": null,
   "metadata": {
    "ExecuteTime": {
     "end_time": "2019-01-07T02:46:35.134615Z",
     "start_time": "2019-01-07T02:46:35.103608Z"
    }
   },
   "outputs": [],
   "source": [
    "# 確認\n",
    "beetech_table.applymap(lambda x: re.match('\\x1f', x)).any()"
   ]
  },
  {
   "cell_type": "code",
   "execution_count": null,
   "metadata": {
    "ExecuteTime": {
     "end_time": "2019-01-07T02:46:36.909982Z",
     "start_time": "2019-01-07T02:46:36.878972Z"
    }
   },
   "outputs": [],
   "source": [
    "# 確認\n",
    "beetech_table.applymap(lambda x: re.match('nan', x)).any()"
   ]
  },
  {
   "cell_type": "raw",
   "metadata": {
    "ExecuteTime": {
     "end_time": "2017-12-21T08:11:13.207560Z",
     "start_time": "2017-12-21T08:11:13.202559Z"
    },
    "collapsed": true
   },
   "source": [
    "# 列名変更\n",
    "beetech_table = beetech_table.rename(columns={'得意先': '得意先ID'})"
   ]
  },
  {
   "cell_type": "code",
   "execution_count": null,
   "metadata": {
    "ExecuteTime": {
     "end_time": "2019-01-07T02:46:43.323869Z",
     "start_time": "2019-01-07T02:46:43.263826Z"
    }
   },
   "outputs": [],
   "source": [
    "beetech_table"
   ]
  },
  {
   "cell_type": "code",
   "execution_count": null,
   "metadata": {
    "ExecuteTime": {
     "end_time": "2019-01-07T02:46:52.916785Z",
     "start_time": "2019-01-07T02:46:52.910795Z"
    }
   },
   "outputs": [],
   "source": [
    "# 得意先コードの重複を確認\n",
    "beetech_table['得意先'].duplicated().any()"
   ]
  },
  {
   "cell_type": "code",
   "execution_count": null,
   "metadata": {
    "ExecuteTime": {
     "end_time": "2019-01-07T02:46:53.823437Z",
     "start_time": "2019-01-07T02:46:53.815434Z"
    }
   },
   "outputs": [],
   "source": [
    "# 得意先コードの桁数を確認\n",
    "beetech_table['得意先'].apply(lambda x: len(x)).min()"
   ]
  },
  {
   "cell_type": "code",
   "execution_count": null,
   "metadata": {
    "ExecuteTime": {
     "end_time": "2019-01-07T02:46:54.855225Z",
     "start_time": "2019-01-07T02:46:54.847219Z"
    }
   },
   "outputs": [],
   "source": [
    "# 得意先コードの桁数を確認\n",
    "beetech_table['得意先'].apply(lambda x: len(x)).max()"
   ]
  },
  {
   "cell_type": "markdown",
   "metadata": {},
   "source": [
    "# Excel 保存、再読み込み"
   ]
  },
  {
   "cell_type": "code",
   "execution_count": null,
   "metadata": {
    "ExecuteTime": {
     "end_time": "2019-01-07T02:48:27.197188Z",
     "start_time": "2019-01-07T02:48:27.193186Z"
    },
    "collapsed": true
   },
   "outputs": [],
   "source": [
    "output_name = r'{0}\\Bestecaudio得意先リスト.xlsx'.format(path)"
   ]
  },
  {
   "cell_type": "code",
   "execution_count": null,
   "metadata": {
    "ExecuteTime": {
     "end_time": "2019-01-07T02:59:45.515590Z",
     "start_time": "2019-01-07T02:59:45.512603Z"
    },
    "collapsed": true
   },
   "outputs": [],
   "source": [
    "# シート名を旧版に揃える\n",
    "sheet_1 = 'Bestec得意先リスト'"
   ]
  },
  {
   "cell_type": "code",
   "execution_count": null,
   "metadata": {
    "ExecuteTime": {
     "end_time": "2019-01-07T02:59:48.953753Z",
     "start_time": "2019-01-07T02:59:48.300271Z"
    },
    "collapsed": true
   },
   "outputs": [],
   "source": [
    "# エンコード指定なしで Excel 保存\n",
    "# 出力後に全セルの書式設定を文字列に変更しておいた方がよさそう\n",
    "writer = pd.ExcelWriter(output_name)\n",
    "bestec_table.to_excel(writer, sheet_name=sheet_1, index=False)\n",
    "beetech_table.to_excel(writer, sheet_name=sheet_2, index=False)\n",
    "writer.save()"
   ]
  },
  {
   "cell_type": "code",
   "execution_count": null,
   "metadata": {
    "ExecuteTime": {
     "end_time": "2019-01-07T02:49:53.655601Z",
     "start_time": "2019-01-07T02:49:53.404410Z"
    },
    "collapsed": true
   },
   "outputs": [],
   "source": [
    "# bestec 確認\n",
    "df = pd.read_excel(output_name, sheet_1, keep_default_na=False,\n",
    "                   dtype={'FAX番号': str,\n",
    "                          '住所1': str,\n",
    "                          '住所2': str,\n",
    "                          '住所3': str,\n",
    "                          '名カナ': str,\n",
    "                          '得意先': str,\n",
    "                          '得意先名1': str,\n",
    "                          '得意先名2': str,\n",
    "                          '担当者コード': str,\n",
    "                          '担当者名': str,\n",
    "                          '郵便番号': str,\n",
    "                          '電話番号': str})"
   ]
  },
  {
   "cell_type": "code",
   "execution_count": null,
   "metadata": {
    "ExecuteTime": {
     "end_time": "2019-01-07T02:50:44.584044Z",
     "start_time": "2019-01-07T02:50:44.518000Z"
    },
    "scrolled": true
   },
   "outputs": [],
   "source": [
    "df"
   ]
  },
  {
   "cell_type": "code",
   "execution_count": null,
   "metadata": {
    "ExecuteTime": {
     "end_time": "2019-01-07T02:50:54.293519Z",
     "start_time": "2019-01-07T02:50:54.286530Z"
    }
   },
   "outputs": [],
   "source": [
    "df.dtypes"
   ]
  },
  {
   "cell_type": "code",
   "execution_count": null,
   "metadata": {
    "ExecuteTime": {
     "end_time": "2019-01-07T02:50:55.374283Z",
     "start_time": "2019-01-07T02:50:55.369279Z"
    }
   },
   "outputs": [],
   "source": [
    "len(df)"
   ]
  },
  {
   "cell_type": "code",
   "execution_count": null,
   "metadata": {
    "ExecuteTime": {
     "end_time": "2019-01-07T02:50:56.819508Z",
     "start_time": "2019-01-07T02:50:56.789485Z"
    }
   },
   "outputs": [],
   "source": [
    "df.applymap(lambda x: re.match('\\x1f', x)).any()"
   ]
  },
  {
   "cell_type": "code",
   "execution_count": null,
   "metadata": {
    "ExecuteTime": {
     "end_time": "2019-01-07T02:51:01.062662Z",
     "start_time": "2019-01-07T02:51:01.030637Z"
    },
    "scrolled": true
   },
   "outputs": [],
   "source": [
    "df.applymap(lambda x: re.match('nan', x)).any()"
   ]
  },
  {
   "cell_type": "code",
   "execution_count": null,
   "metadata": {
    "ExecuteTime": {
     "end_time": "2019-01-07T02:51:02.104495Z",
     "start_time": "2019-01-07T02:51:02.094488Z"
    }
   },
   "outputs": [],
   "source": [
    "df['電話番号'].values"
   ]
  },
  {
   "cell_type": "code",
   "execution_count": null,
   "metadata": {
    "ExecuteTime": {
     "end_time": "2019-01-07T02:51:06.270667Z",
     "start_time": "2019-01-07T02:51:06.261649Z"
    }
   },
   "outputs": [],
   "source": [
    "df['名カナ'].values"
   ]
  },
  {
   "cell_type": "code",
   "execution_count": null,
   "metadata": {
    "ExecuteTime": {
     "end_time": "2019-01-07T02:51:07.358484Z",
     "start_time": "2019-01-07T02:51:07.349479Z"
    },
    "scrolled": true
   },
   "outputs": [],
   "source": [
    "df['得意先名2'].values"
   ]
  },
  {
   "cell_type": "code",
   "execution_count": null,
   "metadata": {
    "ExecuteTime": {
     "end_time": "2019-01-07T02:50:33.689245Z",
     "start_time": "2019-01-07T02:50:33.454055Z"
    },
    "collapsed": true
   },
   "outputs": [],
   "source": [
    "# beetech 確認\n",
    "df = pd.read_excel(output_name, sheet_2, keep_default_na=False,\n",
    "                   dtype={'FAX番号': str,\n",
    "                          '住所1': str,\n",
    "                          '住所2': str,\n",
    "                          '住所3': str,\n",
    "                          '名カナ': str,\n",
    "                          '得意先': str,\n",
    "                          '得意先名1': str,\n",
    "                          '得意先名2': str,\n",
    "                          '担当者名': str,\n",
    "                          '郵便番号': str,\n",
    "                          '修理料金': str,\n",
    "                          '電話番号': str})"
   ]
  },
  {
   "cell_type": "markdown",
   "metadata": {
    "heading_collapsed": true
   },
   "source": [
    "# CSV 保存、確認"
   ]
  },
  {
   "cell_type": "code",
   "execution_count": null,
   "metadata": {
    "ExecuteTime": {
     "end_time": "2017-12-18T06:20:01.885855Z",
     "start_time": "2017-12-18T06:20:01.854592Z"
    },
    "collapsed": true,
    "hidden": true,
    "scrolled": true
   },
   "outputs": [],
   "source": [
    "# utf-8 で CSV 保存 (Excel で文字化けする)\n",
    "bestec_table.to_csv(r'{0}\\bestec_table_utf8.csv'.format(path), encoding='utf-8')"
   ]
  },
  {
   "cell_type": "code",
   "execution_count": null,
   "metadata": {
    "ExecuteTime": {
     "end_time": "2017-12-18T06:20:02.620231Z",
     "start_time": "2017-12-18T06:20:02.604601Z"
    },
    "collapsed": true,
    "hidden": true,
    "scrolled": true
   },
   "outputs": [],
   "source": [
    "# エンコード指定なしで CSV 保存 (そのままでは pandas で読み込めなくなる)\n",
    "bestec_table.to_csv(r'{0}\\bestec_table.csv'.format(path))"
   ]
  },
  {
   "cell_type": "code",
   "execution_count": null,
   "metadata": {
    "ExecuteTime": {
     "end_time": "2017-12-18T06:20:05.323690Z",
     "start_time": "2017-12-18T06:20:05.292425Z"
    },
    "collapsed": true,
    "hidden": true
   },
   "outputs": [],
   "source": [
    "# bestec_table_utf8.csv\n",
    "df = pd.read_csv(r'{0}\\bestec_table_utf8.csv'.format(path), index_col=0)"
   ]
  },
  {
   "cell_type": "code",
   "execution_count": null,
   "metadata": {
    "ExecuteTime": {
     "end_time": "2017-12-18T06:08:02.948071Z",
     "start_time": "2017-12-18T06:08:02.932433Z"
    },
    "collapsed": true,
    "hidden": true
   },
   "outputs": [],
   "source": [
    "# bestec_table.csv\n",
    "with codecs.open(r'{0}\\bestec_table.csv'.format(path), mode=\"r\", encoding=\"Shift-JIS\", errors=\"ignore\") as file:\n",
    "    df = pd.read_table(file, delimiter=\",\", index_col=0)"
   ]
  },
  {
   "cell_type": "code",
   "execution_count": null,
   "metadata": {
    "ExecuteTime": {
     "end_time": "2017-12-18T06:20:09.183827Z",
     "start_time": "2017-12-18T06:20:09.121326Z"
    },
    "collapsed": true,
    "hidden": true
   },
   "outputs": [],
   "source": [
    "df"
   ]
  },
  {
   "cell_type": "code",
   "execution_count": null,
   "metadata": {
    "ExecuteTime": {
     "end_time": "2017-12-18T06:20:18.529576Z",
     "start_time": "2017-12-18T06:20:18.498368Z"
    },
    "collapsed": true,
    "hidden": true,
    "scrolled": true
   },
   "outputs": [],
   "source": [
    "df.dtypes"
   ]
  },
  {
   "cell_type": "code",
   "execution_count": null,
   "metadata": {
    "collapsed": true,
    "hidden": true
   },
   "outputs": [],
   "source": []
  }
 ],
 "metadata": {
  "kernelspec": {
   "display_name": "Python 3",
   "language": "python",
   "name": "python3"
  },
  "language_info": {
   "codemirror_mode": {
    "name": "ipython",
    "version": 3
   },
   "file_extension": ".py",
   "mimetype": "text/x-python",
   "name": "python",
   "nbconvert_exporter": "python",
   "pygments_lexer": "ipython3",
   "version": "3.6.1"
  },
  "toc": {
   "nav_menu": {},
   "number_sections": true,
   "sideBar": true,
   "skip_h1_title": false,
   "title_cell": "Table of Contents",
   "title_sidebar": "Contents",
   "toc_cell": false,
   "toc_position": {},
   "toc_section_display": true,
   "toc_window_display": false
  },
  "varInspector": {
   "cols": {
    "lenName": 16,
    "lenType": 16,
    "lenVar": 40
   },
   "kernels_config": {
    "python": {
     "delete_cmd_postfix": "",
     "delete_cmd_prefix": "del ",
     "library": "var_list.py",
     "varRefreshCmd": "print(var_dic_list())"
    },
    "r": {
     "delete_cmd_postfix": ") ",
     "delete_cmd_prefix": "rm(",
     "library": "var_list.r",
     "varRefreshCmd": "cat(var_dic_list()) "
    }
   },
   "types_to_exclude": [
    "module",
    "function",
    "builtin_function_or_method",
    "instance",
    "_Feature"
   ],
   "window_display": false
  }
 },
 "nbformat": 4,
 "nbformat_minor": 2
}
