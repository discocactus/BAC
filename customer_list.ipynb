{
 "cells": [
  {
   "cell_type": "markdown",
   "metadata": {},
   "source": [
    "# 準備"
   ]
  },
  {
   "cell_type": "code",
   "execution_count": null,
   "metadata": {
    "ExecuteTime": {
     "end_time": "2018-03-29T08:26:55.519269Z",
     "start_time": "2018-03-29T08:26:42.610990Z"
    },
    "collapsed": true
   },
   "outputs": [],
   "source": [
    "import sys\n",
    "import codecs\n",
    "import re\n",
    "import pandas as pd\n",
    "import numpy as np\n",
    "import jaconv"
   ]
  },
  {
   "cell_type": "code",
   "execution_count": null,
   "metadata": {
    "ExecuteTime": {
     "end_time": "2018-03-29T08:26:56.769221Z",
     "start_time": "2018-03-29T08:26:56.753598Z"
    },
    "collapsed": true
   },
   "outputs": [],
   "source": [
    "# pandas の最大表示列数を設定 (max_rows で表示行数の設定も可能)\n",
    "pd.set_option('display.max_columns', 30)"
   ]
  },
  {
   "cell_type": "code",
   "execution_count": null,
   "metadata": {
    "ExecuteTime": {
     "end_time": "2018-03-29T08:26:58.488702Z",
     "start_time": "2018-03-29T08:26:58.473089Z"
    },
    "collapsed": true,
    "scrolled": true
   },
   "outputs": [],
   "source": [
    "# ファイルパス\n",
    "path = r'C:\\Users\\BestecAudioTecHH\\Documents\\GitHub\\BAC\\DO_NOT_PUSH'"
   ]
  },
  {
   "cell_type": "markdown",
   "metadata": {},
   "source": [
    "# excel ファイルの読み込み、作業用テーブルの作成"
   ]
  },
  {
   "cell_type": "markdown",
   "metadata": {
    "heading_collapsed": true
   },
   "source": [
    "## データ削減版"
   ]
  },
  {
   "cell_type": "code",
   "execution_count": null,
   "metadata": {
    "ExecuteTime": {
     "end_time": "2017-12-20T04:48:41.404375Z",
     "start_time": "2017-12-20T04:48:40.347708Z"
    },
    "collapsed": true,
    "hidden": true
   },
   "outputs": [],
   "source": [
    "bestec_excel = pd.read_excel(r'{0}\\Bestecaudio得意先リスト20170728更新_local_171214.xlsx'.format(path))"
   ]
  },
  {
   "cell_type": "code",
   "execution_count": null,
   "metadata": {
    "ExecuteTime": {
     "end_time": "2017-12-20T04:48:49.182863Z",
     "start_time": "2017-12-20T04:48:49.165851Z"
    },
    "collapsed": true,
    "hidden": true
   },
   "outputs": [],
   "source": [
    "# 作業用テーブルの作成\n",
    "bestec_table = bestec_excel[['担当者コード', '担当者名', '得意先', '名カナ', '得意先名1', '得意先名2', '郵便番号', '住所1', '住所2',\n",
    "       '住所3', '電話番号', 'FAX番号']]"
   ]
  },
  {
   "cell_type": "code",
   "execution_count": null,
   "metadata": {
    "ExecuteTime": {
     "end_time": "2017-12-21T08:00:33.401530Z",
     "start_time": "2017-12-21T08:00:33.291465Z"
    },
    "collapsed": true,
    "hidden": true
   },
   "outputs": [],
   "source": [
    "# str 型を明示\n",
    "bestec_table = bestec_table.astype({'担当者コード':str, '担当者名': str, '得意先': str, '名カナ': str, '得意先名1': str, '得意先名2': str, '郵便番号': str,\n",
    "                                        '住所1': str, '住所2': str, '住所3': str, '電話番号': str, 'FAX番号': str})"
   ]
  },
  {
   "cell_type": "code",
   "execution_count": null,
   "metadata": {
    "ExecuteTime": {
     "end_time": "2017-12-20T04:49:24.040357Z",
     "start_time": "2017-12-20T04:49:24.027348Z"
    },
    "collapsed": true,
    "hidden": true
   },
   "outputs": [],
   "source": [
    "# 住所列結合\n",
    "bestec_table['住所'] = bestec_table['住所1'] + bestec_table['住所2'] + bestec_table['住所3']"
   ]
  },
  {
   "cell_type": "code",
   "execution_count": null,
   "metadata": {
    "ExecuteTime": {
     "end_time": "2017-12-20T04:49:28.232203Z",
     "start_time": "2017-12-20T04:49:28.226187Z"
    },
    "collapsed": true,
    "hidden": true
   },
   "outputs": [],
   "source": [
    "# 結合済み住所列削除\n",
    "bestec_table = bestec_table[['担当者コード', '担当者名', '得意先', '名カナ', '得意先名1', '得意先名2', '郵便番号', '住所', '電話番号', 'FAX番号']]"
   ]
  },
  {
   "cell_type": "markdown",
   "metadata": {},
   "source": [
    "## データ現状維持版"
   ]
  },
  {
   "cell_type": "code",
   "execution_count": null,
   "metadata": {
    "ExecuteTime": {
     "end_time": "2018-01-22T03:34:25.563859Z",
     "start_time": "2018-01-22T03:34:25.559869Z"
    },
    "collapsed": true
   },
   "outputs": [],
   "source": [
    "# version = 171221"
   ]
  },
  {
   "cell_type": "code",
   "execution_count": null,
   "metadata": {
    "ExecuteTime": {
     "end_time": "2018-01-22T03:50:04.365389Z",
     "start_time": "2018-01-22T03:50:04.362399Z"
    },
    "collapsed": true
   },
   "outputs": [],
   "source": [
    "# version = 180111"
   ]
  },
  {
   "cell_type": "code",
   "execution_count": null,
   "metadata": {
    "ExecuteTime": {
     "end_time": "2018-01-22T03:34:38.985398Z",
     "start_time": "2018-01-22T03:34:38.981395Z"
    },
    "collapsed": true
   },
   "outputs": [],
   "source": [
    "# file_name = r'{0}\\Bestecaudio得意先リスト20170728更新_{1}.xlsx'.format(path, version)"
   ]
  },
  {
   "cell_type": "code",
   "execution_count": null,
   "metadata": {
    "ExecuteTime": {
     "end_time": "2018-01-22T03:50:13.685689Z",
     "start_time": "2018-01-22T03:50:13.682687Z"
    },
    "collapsed": true
   },
   "outputs": [],
   "source": [
    "# file_name = r'{0}\\得意先リスト20180109更新_{1}.xlsx'.format(path, version)"
   ]
  },
  {
   "cell_type": "code",
   "execution_count": null,
   "metadata": {
    "ExecuteTime": {
     "end_time": "2018-03-29T08:27:04.318466Z",
     "start_time": "2018-03-29T08:27:04.302829Z"
    },
    "collapsed": true
   },
   "outputs": [],
   "source": [
    "file_name = r'{0}\\得意先リスト20180316更新.xlsx'.format(path)"
   ]
  },
  {
   "cell_type": "markdown",
   "metadata": {},
   "source": [
    "### bestec"
   ]
  },
  {
   "cell_type": "code",
   "execution_count": null,
   "metadata": {
    "ExecuteTime": {
     "end_time": "2018-03-29T08:27:07.600213Z",
     "start_time": "2018-03-29T08:27:07.584644Z"
    },
    "collapsed": true
   },
   "outputs": [],
   "source": [
    "sheet_1 = 'Bestec得意先リスト'"
   ]
  },
  {
   "cell_type": "code",
   "execution_count": null,
   "metadata": {
    "ExecuteTime": {
     "end_time": "2018-03-29T08:27:13.164149Z",
     "start_time": "2018-03-29T08:27:11.882590Z"
    },
    "collapsed": true
   },
   "outputs": [],
   "source": [
    "# 読み込み (列の追加や削減、列名の変更があった場合にはこのままでは対応できないので要注意)\n",
    "bestec_excel = pd.read_excel(file_name, sheet_1,\n",
    "                               keep_default_na=False,\n",
    "                               dtype={'FAX番号': str,\n",
    "                                      '住所1': str,\n",
    "                                      '住所2': str,\n",
    "                                      '住所3': str,\n",
    "                                      '削除区分': str,\n",
    "                                      '名カナ': str,\n",
    "                                      '回収支払日1': str,\n",
    "                                      '回収支払月1': str,\n",
    "                                      '得意先': str,\n",
    "                                      '得意先名1': str,\n",
    "                                      '得意先名2': str,\n",
    "                                      '担当者コード': str,\n",
    "                                      '担当者名': str,\n",
    "                                      '業種': str,\n",
    "                                      '業種名': str,\n",
    "                                      '締日グループ名1': str,\n",
    "                                      '郵便番号': str,\n",
    "                                      '都道府県': str,\n",
    "                                      '都道府県名': str,\n",
    "                                      '電話番号': str})"
   ]
  },
  {
   "cell_type": "code",
   "execution_count": null,
   "metadata": {
    "ExecuteTime": {
     "end_time": "2018-03-29T08:48:41.416497Z",
     "start_time": "2018-03-29T08:48:41.369621Z"
    },
    "collapsed": true
   },
   "outputs": [],
   "source": [
    "# 列の並び替え (2017年の元ファイルに揃える)\n",
    "# (列の追加や削減、列名の変更があった場合にはこのままでは対応できないので要注意)\n",
    "bestec_excel = bestec_excel[['担当者コード',\n",
    "                             '担当者名',\n",
    "                             '得意先',\n",
    "                             '名カナ',\n",
    "                             '得意先名1',\n",
    "                             '得意先名2',\n",
    "                             '郵便番号',\n",
    "                             '住所1',\n",
    "                             '住所2',\n",
    "                             '住所3',\n",
    "                             '電話番号',\n",
    "                             'FAX番号',\n",
    "                             '締日グループ名1',\n",
    "                             '回収支払月1',\n",
    "                             '回収支払日1',\n",
    "                             # '回収種別名',\n",
    "                             '業種',\n",
    "                             '業種名',\n",
    "                             '都道府県',\n",
    "                             '都道府県名',\n",
    "                             '削除区分'\n",
    "                             ]]"
   ]
  },
  {
   "cell_type": "code",
   "execution_count": null,
   "metadata": {
    "ExecuteTime": {
     "end_time": "2018-03-29T08:48:44.104745Z",
     "start_time": "2018-03-29T08:48:44.073552Z"
    }
   },
   "outputs": [],
   "source": [
    "bestec_excel.columns"
   ]
  },
  {
   "cell_type": "code",
   "execution_count": null,
   "metadata": {
    "ExecuteTime": {
     "end_time": "2018-03-29T08:50:47.367826Z",
     "start_time": "2018-03-29T08:50:47.352255Z"
    }
   },
   "outputs": [],
   "source": [
    "len(bestec_excel.columns)"
   ]
  },
  {
   "cell_type": "code",
   "execution_count": null,
   "metadata": {
    "ExecuteTime": {
     "end_time": "2018-03-28T09:39:19.131578Z",
     "start_time": "2018-03-28T09:39:18.819017Z"
    },
    "collapsed": true
   },
   "outputs": [],
   "source": [
    "bestec_excel"
   ]
  },
  {
   "cell_type": "code",
   "execution_count": null,
   "metadata": {
    "ExecuteTime": {
     "end_time": "2018-03-29T08:55:51.759861Z",
     "start_time": "2018-03-29T08:55:51.744247Z"
    }
   },
   "outputs": [],
   "source": [
    "len(bestec_excel)"
   ]
  },
  {
   "cell_type": "code",
   "execution_count": null,
   "metadata": {
    "ExecuteTime": {
     "end_time": "2018-03-28T09:39:21.850999Z",
     "start_time": "2018-03-28T09:39:21.819806Z"
    },
    "collapsed": true
   },
   "outputs": [],
   "source": [
    "bestec_excel.dtypes"
   ]
  },
  {
   "cell_type": "code",
   "execution_count": null,
   "metadata": {
    "ExecuteTime": {
     "end_time": "2018-03-29T08:49:01.421019Z",
     "start_time": "2018-03-29T08:49:01.374140Z"
    },
    "collapsed": true
   },
   "outputs": [],
   "source": [
    "# 作業用テーブルの作成\n",
    "bestec_table = bestec_excel.copy()"
   ]
  },
  {
   "cell_type": "code",
   "execution_count": null,
   "metadata": {
    "ExecuteTime": {
     "end_time": "2018-03-28T09:39:28.872340Z",
     "start_time": "2018-03-28T09:39:28.778634Z"
    },
    "collapsed": true
   },
   "outputs": [],
   "source": [
    "bestec_table"
   ]
  },
  {
   "cell_type": "markdown",
   "metadata": {},
   "source": [
    "### beetech"
   ]
  },
  {
   "cell_type": "code",
   "execution_count": null,
   "metadata": {
    "ExecuteTime": {
     "end_time": "2018-03-28T09:39:34.326706Z",
     "start_time": "2018-03-28T09:39:34.311119Z"
    },
    "collapsed": true
   },
   "outputs": [],
   "source": [
    "# sheet_2 = 'ビーテック得意先リスト'"
   ]
  },
  {
   "cell_type": "code",
   "execution_count": null,
   "metadata": {
    "ExecuteTime": {
     "end_time": "2018-03-29T08:28:05.566271Z",
     "start_time": "2018-03-29T08:28:05.535077Z"
    },
    "collapsed": true
   },
   "outputs": [],
   "source": [
    "sheet_2 = 'Beetech得意先リスト'"
   ]
  },
  {
   "cell_type": "code",
   "execution_count": null,
   "metadata": {
    "ExecuteTime": {
     "end_time": "2018-03-29T08:40:25.653901Z",
     "start_time": "2018-03-29T08:40:25.310099Z"
    },
    "collapsed": true
   },
   "outputs": [],
   "source": [
    "# 読み込み (列の追加や削減、列名の変更があった場合にはこのままでは対応できないので要注意)\n",
    "beetech_table = pd.read_excel(file_name, sheet_2,\n",
    "                               keep_default_na=False,\n",
    "                               dtype={'FAX番号': str,\n",
    "                                      '住所1': str,\n",
    "                                      '住所2': str,\n",
    "                                      '住所3': str,\n",
    "                                      '削除区分': str,\n",
    "                                      '名カナ': str,\n",
    "                                      '回収支払日1': str,\n",
    "                                      '回収支払月1': str,\n",
    "                                      '回収種別名': str,\n",
    "                                      '得意先': str,\n",
    "                                      '得意先備考1': str,#\n",
    "                                      '得意先備考2': str,#\n",
    "                                      '得意先備考3': str,#\n",
    "                                      '得意先名1': str,\n",
    "                                      '得意先名2': str,\n",
    "                                      '担当者名': str,\n",
    "                                      '業種': str,#\n",
    "                                      '業種名': str,\n",
    "                                      '締日グループ名1': str,\n",
    "                                      '請求先コード': str,#\n",
    "                                      '請求先略称': str,#\n",
    "                                      '郵便番号': str,\n",
    "                                      '都道府県': str,\n",
    "                                      '都道府県名': str,\n",
    "                                      '電話番号': str})"
   ]
  },
  {
   "cell_type": "code",
   "execution_count": null,
   "metadata": {
    "ExecuteTime": {
     "end_time": "2018-03-29T08:49:54.294879Z",
     "start_time": "2018-03-29T08:49:54.279243Z"
    },
    "collapsed": true
   },
   "outputs": [],
   "source": [
    "# 列の並び替え (2017年の元ファイルに揃える)\n",
    "# (列の追加や削減、列名の変更があった場合にはこのままでは対応できないので要注意)\n",
    "beetech_excel = beetech_table[[# '担当者コード',\n",
    "                               '担当者名',\n",
    "                               '得意先',\n",
    "                               '名カナ',\n",
    "                               '得意先名1',\n",
    "                               '得意先名2',\n",
    "                               '郵便番号',\n",
    "                               '住所1',\n",
    "                               '住所2',\n",
    "                               '住所3',\n",
    "                               '電話番号',\n",
    "                               'FAX番号',\n",
    "                               '締日グループ名1',\n",
    "                               '回収支払月1',\n",
    "                               '回収支払日1',\n",
    "                               '回収種別名',\n",
    "                               '業種名',\n",
    "                               '都道府県',\n",
    "                               '都道府県名',\n",
    "                               '削除区分'\n",
    "                              ]]"
   ]
  },
  {
   "cell_type": "code",
   "execution_count": null,
   "metadata": {
    "ExecuteTime": {
     "end_time": "2018-03-29T08:50:36.412927Z",
     "start_time": "2018-03-29T08:50:36.397286Z"
    },
    "scrolled": false
   },
   "outputs": [],
   "source": [
    "beetech_excel.columns"
   ]
  },
  {
   "cell_type": "code",
   "execution_count": null,
   "metadata": {
    "ExecuteTime": {
     "end_time": "2018-03-29T08:50:38.569599Z",
     "start_time": "2018-03-29T08:50:38.538348Z"
    }
   },
   "outputs": [],
   "source": [
    "len(beetech_excel.columns)"
   ]
  },
  {
   "cell_type": "code",
   "execution_count": null,
   "metadata": {
    "ExecuteTime": {
     "end_time": "2018-03-28T09:52:07.596742Z",
     "start_time": "2018-03-28T09:52:07.502991Z"
    },
    "collapsed": true
   },
   "outputs": [],
   "source": [
    "beetech_excel"
   ]
  },
  {
   "cell_type": "code",
   "execution_count": null,
   "metadata": {
    "ExecuteTime": {
     "end_time": "2018-03-29T08:57:12.387007Z",
     "start_time": "2018-03-29T08:57:12.355799Z"
    }
   },
   "outputs": [],
   "source": [
    "len(beetech_excel)"
   ]
  },
  {
   "cell_type": "code",
   "execution_count": null,
   "metadata": {
    "ExecuteTime": {
     "end_time": "2018-03-28T09:52:10.457178Z",
     "start_time": "2018-03-28T09:52:10.441553Z"
    },
    "collapsed": true
   },
   "outputs": [],
   "source": [
    "beetech_excel.dtypes"
   ]
  },
  {
   "cell_type": "code",
   "execution_count": null,
   "metadata": {
    "ExecuteTime": {
     "end_time": "2018-03-29T08:50:40.913737Z",
     "start_time": "2018-03-29T08:50:40.898098Z"
    }
   },
   "outputs": [],
   "source": [
    "# 作業用テーブルの作成\n",
    "beetech_table = beetech_excel.copy()"
   ]
  },
  {
   "cell_type": "code",
   "execution_count": null,
   "metadata": {
    "ExecuteTime": {
     "end_time": "2018-03-28T09:52:17.646442Z",
     "start_time": "2018-03-28T09:52:17.552746Z"
    },
    "collapsed": true
   },
   "outputs": [],
   "source": [
    "beetech_table"
   ]
  },
  {
   "cell_type": "markdown",
   "metadata": {},
   "source": [
    "# 内容確認"
   ]
  },
  {
   "cell_type": "markdown",
   "metadata": {},
   "source": [
    "## bestec"
   ]
  },
  {
   "cell_type": "code",
   "execution_count": null,
   "metadata": {
    "ExecuteTime": {
     "end_time": "2018-03-28T09:52:25.258253Z",
     "start_time": "2018-03-28T09:52:25.211432Z"
    },
    "collapsed": true
   },
   "outputs": [],
   "source": [
    "bestec_table.loc[0, '名カナ']"
   ]
  },
  {
   "cell_type": "code",
   "execution_count": null,
   "metadata": {
    "ExecuteTime": {
     "end_time": "2018-01-11T09:30:22.894465Z",
     "start_time": "2018-01-11T09:30:22.856436Z"
    },
    "collapsed": true
   },
   "outputs": [],
   "source": [
    "bestec_table.loc[0, '得意先名2']"
   ]
  },
  {
   "cell_type": "code",
   "execution_count": null,
   "metadata": {
    "ExecuteTime": {
     "end_time": "2018-01-11T09:30:26.917789Z",
     "start_time": "2018-01-11T09:30:26.912785Z"
    },
    "collapsed": true
   },
   "outputs": [],
   "source": [
    "bestec_table.loc[0, '住所1']"
   ]
  },
  {
   "cell_type": "code",
   "execution_count": null,
   "metadata": {
    "ExecuteTime": {
     "end_time": "2018-01-11T09:30:37.304772Z",
     "start_time": "2018-01-11T09:30:37.297767Z"
    },
    "collapsed": true
   },
   "outputs": [],
   "source": [
    "bestec_table.loc[0, '得意先']"
   ]
  },
  {
   "cell_type": "code",
   "execution_count": null,
   "metadata": {
    "ExecuteTime": {
     "end_time": "2018-03-28T09:52:30.728470Z",
     "start_time": "2018-03-28T09:52:30.712839Z"
    },
    "collapsed": true
   },
   "outputs": [],
   "source": [
    "bestec_table['名カナ'].values"
   ]
  },
  {
   "cell_type": "code",
   "execution_count": null,
   "metadata": {
    "ExecuteTime": {
     "end_time": "2018-01-11T09:30:42.320257Z",
     "start_time": "2018-01-11T09:30:42.313252Z"
    },
    "collapsed": true
   },
   "outputs": [],
   "source": [
    "bestec_table['得意先名2'].values"
   ]
  },
  {
   "cell_type": "code",
   "execution_count": null,
   "metadata": {
    "ExecuteTime": {
     "end_time": "2018-01-11T09:30:46.630825Z",
     "start_time": "2018-01-11T09:30:46.624824Z"
    },
    "collapsed": true
   },
   "outputs": [],
   "source": [
    "len(bestec_table)"
   ]
  },
  {
   "cell_type": "markdown",
   "metadata": {},
   "source": [
    "## beetech"
   ]
  },
  {
   "cell_type": "code",
   "execution_count": null,
   "metadata": {
    "ExecuteTime": {
     "end_time": "2018-03-28T09:52:39.183534Z",
     "start_time": "2018-03-28T09:52:39.167896Z"
    },
    "collapsed": true
   },
   "outputs": [],
   "source": [
    "beetech_table.loc[0, '名カナ']"
   ]
  },
  {
   "cell_type": "code",
   "execution_count": null,
   "metadata": {
    "ExecuteTime": {
     "end_time": "2018-01-11T09:30:52.157437Z",
     "start_time": "2018-01-11T09:30:52.152436Z"
    },
    "collapsed": true
   },
   "outputs": [],
   "source": [
    "beetech_table.loc[0, '得意先名2']"
   ]
  },
  {
   "cell_type": "code",
   "execution_count": null,
   "metadata": {
    "ExecuteTime": {
     "end_time": "2018-01-11T09:30:52.747248Z",
     "start_time": "2018-01-11T09:30:52.742242Z"
    },
    "collapsed": true
   },
   "outputs": [],
   "source": [
    "beetech_table.loc[0, '住所1']"
   ]
  },
  {
   "cell_type": "code",
   "execution_count": null,
   "metadata": {
    "ExecuteTime": {
     "end_time": "2018-01-11T09:30:53.862351Z",
     "start_time": "2018-01-11T09:30:53.857361Z"
    },
    "collapsed": true
   },
   "outputs": [],
   "source": [
    "beetech_table.loc[0, '得意先']"
   ]
  },
  {
   "cell_type": "code",
   "execution_count": null,
   "metadata": {
    "ExecuteTime": {
     "end_time": "2018-03-28T09:52:46.966785Z",
     "start_time": "2018-03-28T09:52:46.951173Z"
    },
    "collapsed": true
   },
   "outputs": [],
   "source": [
    "beetech_table['名カナ'].values"
   ]
  },
  {
   "cell_type": "code",
   "execution_count": null,
   "metadata": {
    "ExecuteTime": {
     "end_time": "2018-01-11T09:30:57.915667Z",
     "start_time": "2018-01-11T09:30:57.907664Z"
    },
    "collapsed": true
   },
   "outputs": [],
   "source": [
    "beetech_table['得意先名2'].values"
   ]
  },
  {
   "cell_type": "code",
   "execution_count": null,
   "metadata": {
    "ExecuteTime": {
     "end_time": "2018-01-11T09:30:59.254231Z",
     "start_time": "2018-01-11T09:30:59.250229Z"
    },
    "collapsed": true
   },
   "outputs": [],
   "source": [
    "len(beetech_table)"
   ]
  },
  {
   "cell_type": "markdown",
   "metadata": {},
   "source": [
    "# 整形処理"
   ]
  },
  {
   "cell_type": "markdown",
   "metadata": {},
   "source": [
    "## bestec"
   ]
  },
  {
   "cell_type": "code",
   "execution_count": null,
   "metadata": {
    "ExecuteTime": {
     "end_time": "2018-03-29T08:50:55.963687Z",
     "start_time": "2018-03-29T08:50:55.838643Z"
    },
    "collapsed": true,
    "scrolled": true
   },
   "outputs": [],
   "source": [
    "# 'x1f' (ユニット区切り) を除去\n",
    "bestec_table = bestec_table.applymap(lambda x: re.sub('\\x1f', '', x))"
   ]
  },
  {
   "cell_type": "code",
   "execution_count": null,
   "metadata": {
    "ExecuteTime": {
     "end_time": "2018-03-29T08:50:57.120091Z",
     "start_time": "2018-03-29T08:50:56.963804Z"
    },
    "collapsed": true
   },
   "outputs": [],
   "source": [
    "# 半角カナを全角カナに\n",
    "bestec_table = bestec_table.applymap(lambda x: jaconv.h2z(x, kana=True, ascii=False, digit=False))"
   ]
  },
  {
   "cell_type": "code",
   "execution_count": null,
   "metadata": {
    "ExecuteTime": {
     "end_time": "2018-03-29T08:50:57.838809Z",
     "start_time": "2018-03-29T08:50:57.776310Z"
    },
    "collapsed": true
   },
   "outputs": [],
   "source": [
    "# 全角英数を半角英数に\n",
    "bestec_table = bestec_table.applymap(lambda x: jaconv.z2h(x, kana=False, ascii=True, digit=True))"
   ]
  },
  {
   "cell_type": "code",
   "execution_count": null,
   "metadata": {
    "ExecuteTime": {
     "end_time": "2018-03-29T08:50:58.682583Z",
     "start_time": "2018-03-29T08:50:58.635747Z"
    },
    "collapsed": true
   },
   "outputs": [],
   "source": [
    "# 'nan' を除去\n",
    "bestec_table = bestec_table.applymap(lambda x: re.sub('nan', '', x))"
   ]
  },
  {
   "cell_type": "code",
   "execution_count": null,
   "metadata": {
    "ExecuteTime": {
     "end_time": "2018-03-29T08:51:01.808500Z",
     "start_time": "2018-03-29T08:51:01.714807Z"
    }
   },
   "outputs": [],
   "source": [
    "# 確認\n",
    "bestec_table.applymap(lambda x: re.match('\\x1f', x)).any()"
   ]
  },
  {
   "cell_type": "code",
   "execution_count": null,
   "metadata": {
    "ExecuteTime": {
     "end_time": "2018-03-29T08:51:06.418668Z",
     "start_time": "2018-03-29T08:51:06.371487Z"
    }
   },
   "outputs": [],
   "source": [
    "# 確認\n",
    "bestec_table.applymap(lambda x: re.match('nan', x)).any()"
   ]
  },
  {
   "cell_type": "raw",
   "metadata": {
    "ExecuteTime": {
     "end_time": "2017-12-21T08:11:13.207560Z",
     "start_time": "2017-12-21T08:11:13.202559Z"
    },
    "collapsed": true
   },
   "source": [
    "# 列名変更\n",
    "bestec_table = bestec_table.rename(columns={'得意先': '得意先ID'})"
   ]
  },
  {
   "cell_type": "code",
   "execution_count": null,
   "metadata": {
    "ExecuteTime": {
     "end_time": "2018-03-28T09:53:41.743564Z",
     "start_time": "2018-03-28T09:53:41.634198Z"
    },
    "collapsed": true
   },
   "outputs": [],
   "source": [
    "bestec_table"
   ]
  },
  {
   "cell_type": "code",
   "execution_count": null,
   "metadata": {
    "ExecuteTime": {
     "end_time": "2018-03-29T08:51:16.467487Z",
     "start_time": "2018-03-29T08:51:16.420686Z"
    }
   },
   "outputs": [],
   "source": [
    "# 得意先コードの重複を確認\n",
    "bestec_table['得意先'].duplicated().any()"
   ]
  },
  {
   "cell_type": "code",
   "execution_count": null,
   "metadata": {
    "ExecuteTime": {
     "end_time": "2018-03-29T08:51:17.264368Z",
     "start_time": "2018-03-29T08:51:17.248758Z"
    }
   },
   "outputs": [],
   "source": [
    "# 得意先コードの桁数を確認\n",
    "bestec_table['得意先'].apply(lambda x: len(x)).min()"
   ]
  },
  {
   "cell_type": "code",
   "execution_count": null,
   "metadata": {
    "ExecuteTime": {
     "end_time": "2018-03-29T08:51:19.968179Z",
     "start_time": "2018-03-29T08:51:19.952554Z"
    }
   },
   "outputs": [],
   "source": [
    "# 得意先コードの桁数を確認\n",
    "bestec_table['得意先'].apply(lambda x: len(x)).max()"
   ]
  },
  {
   "cell_type": "markdown",
   "metadata": {},
   "source": [
    "## beetech"
   ]
  },
  {
   "cell_type": "code",
   "execution_count": null,
   "metadata": {
    "ExecuteTime": {
     "end_time": "2018-03-29T08:51:22.921499Z",
     "start_time": "2018-03-29T08:51:22.859056Z"
    },
    "collapsed": true,
    "scrolled": true
   },
   "outputs": [],
   "source": [
    "# 'x1f' (ユニット区切り) を除去\n",
    "beetech_table = beetech_table.applymap(lambda x: re.sub('\\x1f', '', x))"
   ]
  },
  {
   "cell_type": "code",
   "execution_count": null,
   "metadata": {
    "ExecuteTime": {
     "end_time": "2018-03-29T08:51:23.890663Z",
     "start_time": "2018-03-29T08:51:23.750058Z"
    },
    "collapsed": true
   },
   "outputs": [],
   "source": [
    "# 半角カナを全角カナに\n",
    "beetech_table = beetech_table.applymap(lambda x: jaconv.h2z(x, kana=True, ascii=False, digit=False))"
   ]
  },
  {
   "cell_type": "code",
   "execution_count": null,
   "metadata": {
    "ExecuteTime": {
     "end_time": "2018-03-29T08:51:24.656308Z",
     "start_time": "2018-03-29T08:51:24.609440Z"
    },
    "collapsed": true
   },
   "outputs": [],
   "source": [
    "# 全角英数を半角英数に\n",
    "beetech_table = beetech_table.applymap(lambda x: jaconv.z2h(x, kana=False, ascii=True, digit=True))"
   ]
  },
  {
   "cell_type": "code",
   "execution_count": null,
   "metadata": {
    "ExecuteTime": {
     "end_time": "2018-03-29T08:51:25.390640Z",
     "start_time": "2018-03-29T08:51:25.343764Z"
    },
    "collapsed": true
   },
   "outputs": [],
   "source": [
    "# 'nan' を除去\n",
    "beetech_table = beetech_table.applymap(lambda x: re.sub('nan', '', x))"
   ]
  },
  {
   "cell_type": "code",
   "execution_count": null,
   "metadata": {
    "ExecuteTime": {
     "end_time": "2018-03-29T08:51:27.047210Z",
     "start_time": "2018-03-29T08:51:26.984716Z"
    }
   },
   "outputs": [],
   "source": [
    "# 確認\n",
    "beetech_table.applymap(lambda x: re.match('\\x1f', x)).any()"
   ]
  },
  {
   "cell_type": "code",
   "execution_count": null,
   "metadata": {
    "ExecuteTime": {
     "end_time": "2018-03-29T08:51:32.048554Z",
     "start_time": "2018-03-29T08:51:31.986096Z"
    }
   },
   "outputs": [],
   "source": [
    "# 確認\n",
    "beetech_table.applymap(lambda x: re.match('nan', x)).any()"
   ]
  },
  {
   "cell_type": "raw",
   "metadata": {
    "ExecuteTime": {
     "end_time": "2017-12-21T08:11:13.207560Z",
     "start_time": "2017-12-21T08:11:13.202559Z"
    },
    "collapsed": true
   },
   "source": [
    "# 列名変更\n",
    "beetech_table = beetech_table.rename(columns={'得意先': '得意先ID'})"
   ]
  },
  {
   "cell_type": "code",
   "execution_count": null,
   "metadata": {
    "ExecuteTime": {
     "end_time": "2018-03-28T09:54:30.316034Z",
     "start_time": "2018-03-28T09:54:30.237921Z"
    },
    "collapsed": true
   },
   "outputs": [],
   "source": [
    "beetech_table"
   ]
  },
  {
   "cell_type": "code",
   "execution_count": null,
   "metadata": {
    "ExecuteTime": {
     "end_time": "2018-03-29T08:51:36.158460Z",
     "start_time": "2018-03-29T08:51:36.142892Z"
    }
   },
   "outputs": [],
   "source": [
    "# 得意先コードの重複を確認\n",
    "beetech_table['得意先'].duplicated().any()"
   ]
  },
  {
   "cell_type": "code",
   "execution_count": null,
   "metadata": {
    "ExecuteTime": {
     "end_time": "2018-03-29T08:51:36.986593Z",
     "start_time": "2018-03-29T08:51:36.970968Z"
    }
   },
   "outputs": [],
   "source": [
    "# 得意先コードの桁数を確認\n",
    "beetech_table['得意先'].apply(lambda x: len(x)).min()"
   ]
  },
  {
   "cell_type": "code",
   "execution_count": null,
   "metadata": {
    "ExecuteTime": {
     "end_time": "2018-03-29T08:51:38.893158Z",
     "start_time": "2018-03-29T08:51:38.861965Z"
    }
   },
   "outputs": [],
   "source": [
    "# 得意先コードの桁数を確認\n",
    "beetech_table['得意先'].apply(lambda x: len(x)).max()"
   ]
  },
  {
   "cell_type": "markdown",
   "metadata": {},
   "source": [
    "# Excel 保存、再読み込み"
   ]
  },
  {
   "cell_type": "code",
   "execution_count": null,
   "metadata": {
    "ExecuteTime": {
     "end_time": "2018-03-29T08:52:35.905086Z",
     "start_time": "2018-03-29T08:52:35.873832Z"
    },
    "collapsed": true
   },
   "outputs": [],
   "source": [
    "output_name = r'{0}\\Bestecaudio得意先リスト.xlsx'.format(path)"
   ]
  },
  {
   "cell_type": "code",
   "execution_count": null,
   "metadata": {
    "ExecuteTime": {
     "end_time": "2018-03-29T08:52:38.874504Z",
     "start_time": "2018-03-29T08:52:37.733542Z"
    },
    "collapsed": true
   },
   "outputs": [],
   "source": [
    "# エンコード指定なしで Excel 保存\n",
    "# 出力後に全セルの書式設定を文字列に変更しておいた方がよさそう\n",
    "writer = pd.ExcelWriter(output_name)\n",
    "bestec_table.to_excel(writer, sheet_name=sheet_1, index=False)\n",
    "beetech_table.to_excel(writer, sheet_name=sheet_2, index=False)\n",
    "writer.save()"
   ]
  },
  {
   "cell_type": "code",
   "execution_count": null,
   "metadata": {
    "ExecuteTime": {
     "end_time": "2018-03-29T08:58:00.167901Z",
     "start_time": "2018-03-29T08:57:59.855353Z"
    },
    "collapsed": true
   },
   "outputs": [],
   "source": [
    "# bestec 確認\n",
    "df = pd.read_excel(output_name, sheet_1, keep_default_na=False,\n",
    "                   dtype={'FAX番号': str,\n",
    "                          '住所1': str,\n",
    "                          '住所2': str,\n",
    "                          '住所3': str,\n",
    "                          '削除区分': str,\n",
    "                          '名カナ': str,\n",
    "                          '回収支払日1': str,\n",
    "                          '回収支払月1': str,\n",
    "                          '得意先': str,\n",
    "                          '得意先名1': str,\n",
    "                          '得意先名2': str,\n",
    "                          '担当者コード': str,\n",
    "                          '担当者名': str,\n",
    "                          '業種': str,\n",
    "                          '業種名': str,\n",
    "                          '締日グループ名1': str,\n",
    "                          '郵便番号': str,\n",
    "                          '都道府県': str,\n",
    "                          '都道府県名': str,\n",
    "                          '電話番号': str})"
   ]
  },
  {
   "cell_type": "code",
   "execution_count": null,
   "metadata": {
    "ExecuteTime": {
     "end_time": "2018-03-29T08:54:27.366413Z",
     "start_time": "2018-03-29T08:54:27.272661Z"
    },
    "scrolled": true
   },
   "outputs": [],
   "source": [
    "df"
   ]
  },
  {
   "cell_type": "code",
   "execution_count": null,
   "metadata": {
    "ExecuteTime": {
     "end_time": "2018-01-11T09:34:48.683691Z",
     "start_time": "2018-01-11T09:34:48.675688Z"
    },
    "collapsed": true
   },
   "outputs": [],
   "source": [
    "df.dtypes"
   ]
  },
  {
   "cell_type": "code",
   "execution_count": null,
   "metadata": {
    "ExecuteTime": {
     "end_time": "2018-03-29T08:58:03.590613Z",
     "start_time": "2018-03-29T08:58:03.575042Z"
    }
   },
   "outputs": [],
   "source": [
    "len(df)"
   ]
  },
  {
   "cell_type": "code",
   "execution_count": null,
   "metadata": {
    "ExecuteTime": {
     "end_time": "2018-03-28T09:55:08.919434Z",
     "start_time": "2018-03-28T09:55:08.872559Z"
    },
    "collapsed": true
   },
   "outputs": [],
   "source": [
    "df.applymap(lambda x: re.match('\\x1f', x)).any()"
   ]
  },
  {
   "cell_type": "code",
   "execution_count": null,
   "metadata": {
    "ExecuteTime": {
     "end_time": "2018-01-11T09:34:54.276399Z",
     "start_time": "2018-01-11T09:34:54.240373Z"
    },
    "collapsed": true
   },
   "outputs": [],
   "source": [
    "df.applymap(lambda x: re.match('nan', x)).any()"
   ]
  },
  {
   "cell_type": "code",
   "execution_count": null,
   "metadata": {
    "ExecuteTime": {
     "end_time": "2018-01-11T09:34:56.848004Z",
     "start_time": "2018-01-11T09:34:56.840999Z"
    },
    "collapsed": true
   },
   "outputs": [],
   "source": [
    "df['電話番号'].values"
   ]
  },
  {
   "cell_type": "code",
   "execution_count": null,
   "metadata": {
    "ExecuteTime": {
     "end_time": "2018-01-11T09:34:58.551611Z",
     "start_time": "2018-01-11T09:34:58.543605Z"
    },
    "collapsed": true
   },
   "outputs": [],
   "source": [
    "df['名カナ'].values"
   ]
  },
  {
   "cell_type": "code",
   "execution_count": null,
   "metadata": {
    "ExecuteTime": {
     "end_time": "2018-01-11T09:35:01.424583Z",
     "start_time": "2018-01-11T09:35:01.414574Z"
    },
    "collapsed": true,
    "scrolled": true
   },
   "outputs": [],
   "source": [
    "df['得意先名2'].values"
   ]
  },
  {
   "cell_type": "code",
   "execution_count": null,
   "metadata": {
    "ExecuteTime": {
     "end_time": "2018-03-29T08:54:11.815996Z",
     "start_time": "2018-03-29T08:54:11.550388Z"
    },
    "collapsed": true
   },
   "outputs": [],
   "source": [
    "# beetech 確認\n",
    "df = pd.read_excel(output_name, sheet_2, keep_default_na=False,\n",
    "                   dtype={'FAX番号': str,\n",
    "                          '住所1': str,\n",
    "                          '住所2': str,\n",
    "                          '住所3': str,\n",
    "                          '削除区分': str,\n",
    "                          '名カナ': str,\n",
    "                          '回収支払日1': str,\n",
    "                          '回収支払月1': str,\n",
    "                          '回収種別名': str,\n",
    "                          '得意先': str,\n",
    "                          '得意先備考1': str,#\n",
    "                          '得意先備考2': str,#\n",
    "                          '得意先備考3': str,#\n",
    "                          '得意先名1': str,\n",
    "                          '得意先名2': str,\n",
    "                          '担当者名': str,\n",
    "                          '業種': str,#\n",
    "                          '業種名': str,\n",
    "                          '締日グループ名1': str,\n",
    "                          '請求先コード': str,#\n",
    "                          '請求先略称': str,#\n",
    "                          '郵便番号': str,\n",
    "                          '都道府県': str,\n",
    "                          '都道府県名': str,\n",
    "                          '電話番号': str})"
   ]
  },
  {
   "cell_type": "markdown",
   "metadata": {},
   "source": [
    "# CSV 保存、確認"
   ]
  },
  {
   "cell_type": "code",
   "execution_count": null,
   "metadata": {
    "ExecuteTime": {
     "end_time": "2017-12-18T06:20:01.885855Z",
     "start_time": "2017-12-18T06:20:01.854592Z"
    },
    "collapsed": true,
    "scrolled": true
   },
   "outputs": [],
   "source": [
    "# utf-8 で CSV 保存 (Excel で文字化けする)\n",
    "bestec_table.to_csv(r'{0}\\bestec_table_utf8.csv'.format(path), encoding='utf-8')"
   ]
  },
  {
   "cell_type": "code",
   "execution_count": null,
   "metadata": {
    "ExecuteTime": {
     "end_time": "2017-12-18T06:20:02.620231Z",
     "start_time": "2017-12-18T06:20:02.604601Z"
    },
    "collapsed": true,
    "scrolled": true
   },
   "outputs": [],
   "source": [
    "# エンコード指定なしで CSV 保存 (そのままでは pandas で読み込めなくなる)\n",
    "bestec_table.to_csv(r'{0}\\bestec_table.csv'.format(path))"
   ]
  },
  {
   "cell_type": "code",
   "execution_count": null,
   "metadata": {
    "ExecuteTime": {
     "end_time": "2017-12-18T06:20:05.323690Z",
     "start_time": "2017-12-18T06:20:05.292425Z"
    },
    "collapsed": true
   },
   "outputs": [],
   "source": [
    "# bestec_table_utf8.csv\n",
    "df = pd.read_csv(r'{0}\\bestec_table_utf8.csv'.format(path), index_col=0)"
   ]
  },
  {
   "cell_type": "code",
   "execution_count": null,
   "metadata": {
    "ExecuteTime": {
     "end_time": "2017-12-18T06:08:02.948071Z",
     "start_time": "2017-12-18T06:08:02.932433Z"
    },
    "collapsed": true
   },
   "outputs": [],
   "source": [
    "# bestec_table.csv\n",
    "with codecs.open(r'{0}\\bestec_table.csv'.format(path), mode=\"r\", encoding=\"Shift-JIS\", errors=\"ignore\") as file:\n",
    "    df = pd.read_table(file, delimiter=\",\", index_col=0)"
   ]
  },
  {
   "cell_type": "code",
   "execution_count": null,
   "metadata": {
    "ExecuteTime": {
     "end_time": "2017-12-18T06:20:09.183827Z",
     "start_time": "2017-12-18T06:20:09.121326Z"
    },
    "collapsed": true
   },
   "outputs": [],
   "source": [
    "df"
   ]
  },
  {
   "cell_type": "code",
   "execution_count": null,
   "metadata": {
    "ExecuteTime": {
     "end_time": "2017-12-18T06:20:18.529576Z",
     "start_time": "2017-12-18T06:20:18.498368Z"
    },
    "collapsed": true,
    "scrolled": true
   },
   "outputs": [],
   "source": [
    "df.dtypes"
   ]
  },
  {
   "cell_type": "code",
   "execution_count": null,
   "metadata": {
    "collapsed": true
   },
   "outputs": [],
   "source": []
  }
 ],
 "metadata": {
  "kernelspec": {
   "display_name": "Python 3",
   "language": "python",
   "name": "python3"
  },
  "language_info": {
   "codemirror_mode": {
    "name": "ipython",
    "version": 3
   },
   "file_extension": ".py",
   "mimetype": "text/x-python",
   "name": "python",
   "nbconvert_exporter": "python",
   "pygments_lexer": "ipython3",
   "version": "3.6.1"
  },
  "toc": {
   "nav_menu": {},
   "number_sections": true,
   "sideBar": true,
   "skip_h1_title": false,
   "title_cell": "Table of Contents",
   "title_sidebar": "Contents",
   "toc_cell": false,
   "toc_position": {},
   "toc_section_display": true,
   "toc_window_display": false
  },
  "varInspector": {
   "cols": {
    "lenName": 16,
    "lenType": 16,
    "lenVar": 40
   },
   "kernels_config": {
    "python": {
     "delete_cmd_postfix": "",
     "delete_cmd_prefix": "del ",
     "library": "var_list.py",
     "varRefreshCmd": "print(var_dic_list())"
    },
    "r": {
     "delete_cmd_postfix": ") ",
     "delete_cmd_prefix": "rm(",
     "library": "var_list.r",
     "varRefreshCmd": "cat(var_dic_list()) "
    }
   },
   "types_to_exclude": [
    "module",
    "function",
    "builtin_function_or_method",
    "instance",
    "_Feature"
   ],
   "window_display": false
  }
 },
 "nbformat": 4,
 "nbformat_minor": 2
}
