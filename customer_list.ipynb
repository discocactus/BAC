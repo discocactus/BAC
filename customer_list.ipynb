{
 "cells": [
  {
   "cell_type": "markdown",
   "metadata": {},
   "source": [
    "# 準備"
   ]
  },
  {
   "cell_type": "code",
   "execution_count": null,
   "metadata": {
    "ExecuteTime": {
     "end_time": "2017-12-18T03:09:18.383297Z",
     "start_time": "2017-12-18T03:09:07.286027Z"
    },
    "collapsed": true
   },
   "outputs": [],
   "source": [
    "import sys\n",
    "import codecs\n",
    "import re\n",
    "import pandas as pd\n",
    "import numpy as np\n",
    "import jaconv"
   ]
  },
  {
   "cell_type": "code",
   "execution_count": null,
   "metadata": {
    "ExecuteTime": {
     "end_time": "2017-12-18T03:10:31.244796Z",
     "start_time": "2017-12-18T03:10:31.213604Z"
    },
    "collapsed": true
   },
   "outputs": [],
   "source": [
    "# pandas の最大表示列数を設定 (max_rows で表示行数の設定も可能)\n",
    "pd.set_option('display.max_columns', 30)"
   ]
  },
  {
   "cell_type": "code",
   "execution_count": null,
   "metadata": {
    "ExecuteTime": {
     "end_time": "2017-12-18T05:58:32.099780Z",
     "start_time": "2017-12-18T05:58:32.084142Z"
    },
    "collapsed": true,
    "scrolled": true
   },
   "outputs": [],
   "source": [
    "# ファイルパス\n",
    "path = r'C:\\Users\\BestecAudioTecHH\\Documents\\GitHub\\BAC\\DO_NOT_PUSH'"
   ]
  },
  {
   "cell_type": "markdown",
   "metadata": {},
   "source": [
    "# excel ファイルの読み込み、作業用テーブルの作成"
   ]
  },
  {
   "cell_type": "code",
   "execution_count": null,
   "metadata": {
    "ExecuteTime": {
     "end_time": "2017-12-18T06:11:56.858609Z",
     "start_time": "2017-12-18T06:11:56.295793Z"
    }
   },
   "outputs": [],
   "source": [
    "customer_excel = pd.read_excel(r'{0}\\Bestecaudio得意先リスト20170728更新_local_171214.xlsx'.format(path))"
   ]
  },
  {
   "cell_type": "code",
   "execution_count": null,
   "metadata": {
    "ExecuteTime": {
     "end_time": "2017-12-18T03:14:39.956832Z",
     "start_time": "2017-12-18T03:14:39.613054Z"
    },
    "collapsed": true
   },
   "outputs": [],
   "source": [
    "customer_excel"
   ]
  },
  {
   "cell_type": "code",
   "execution_count": null,
   "metadata": {
    "ExecuteTime": {
     "end_time": "2017-12-18T03:14:55.973006Z",
     "start_time": "2017-12-18T03:14:55.957435Z"
    },
    "collapsed": true
   },
   "outputs": [],
   "source": [
    "customer_excel.columns"
   ]
  },
  {
   "cell_type": "code",
   "execution_count": null,
   "metadata": {
    "ExecuteTime": {
     "end_time": "2017-12-18T04:06:48.058748Z",
     "start_time": "2017-12-18T04:06:48.043179Z"
    },
    "collapsed": true
   },
   "outputs": [],
   "source": [
    "# 作業用テーブルの作成\n",
    "customer_table = customer_excel[['担当者コード', '担当者名', '得意先', '名カナ', '得意先名1', '得意先名2', '郵便番号', '住所1', '住所2',\n",
    "       '住所3', '電話番号', 'FAX番号']]"
   ]
  },
  {
   "cell_type": "code",
   "execution_count": null,
   "metadata": {
    "ExecuteTime": {
     "end_time": "2017-12-18T03:17:02.211860Z",
     "start_time": "2017-12-18T03:17:02.133734Z"
    },
    "collapsed": true
   },
   "outputs": [],
   "source": [
    "customer_table"
   ]
  },
  {
   "cell_type": "markdown",
   "metadata": {
    "heading_collapsed": true
   },
   "source": [
    "# 内容確認"
   ]
  },
  {
   "cell_type": "code",
   "execution_count": null,
   "metadata": {
    "ExecuteTime": {
     "end_time": "2017-12-18T04:11:18.176138Z",
     "start_time": "2017-12-18T04:11:18.160526Z"
    },
    "hidden": true
   },
   "outputs": [],
   "source": [
    "customer_table.loc[0, '名カナ']"
   ]
  },
  {
   "cell_type": "code",
   "execution_count": null,
   "metadata": {
    "ExecuteTime": {
     "end_time": "2017-12-18T04:11:19.301152Z",
     "start_time": "2017-12-18T04:11:19.269930Z"
    },
    "hidden": true
   },
   "outputs": [],
   "source": [
    "customer_table.loc[0, '得意先名2']"
   ]
  },
  {
   "cell_type": "code",
   "execution_count": null,
   "metadata": {
    "ExecuteTime": {
     "end_time": "2017-12-18T04:11:21.176659Z",
     "start_time": "2017-12-18T04:11:21.161036Z"
    },
    "hidden": true
   },
   "outputs": [],
   "source": [
    "customer_table.loc[0, '住所1']"
   ]
  },
  {
   "cell_type": "code",
   "execution_count": null,
   "metadata": {
    "ExecuteTime": {
     "end_time": "2017-12-18T04:11:23.521178Z",
     "start_time": "2017-12-18T04:11:23.505552Z"
    },
    "hidden": true
   },
   "outputs": [],
   "source": [
    "customer_table.loc[0, '得意先']"
   ]
  },
  {
   "cell_type": "code",
   "execution_count": null,
   "metadata": {
    "ExecuteTime": {
     "end_time": "2017-12-18T04:11:33.962379Z",
     "start_time": "2017-12-18T04:11:33.931184Z"
    },
    "collapsed": true,
    "hidden": true
   },
   "outputs": [],
   "source": [
    "customer_table['名カナ'].values"
   ]
  },
  {
   "cell_type": "code",
   "execution_count": null,
   "metadata": {
    "ExecuteTime": {
     "end_time": "2017-12-18T04:11:40.948664Z",
     "start_time": "2017-12-18T04:11:40.917452Z"
    },
    "collapsed": true,
    "hidden": true
   },
   "outputs": [],
   "source": [
    "customer_table['得意先名2'].values"
   ]
  },
  {
   "cell_type": "markdown",
   "metadata": {},
   "source": [
    "# 整形処理"
   ]
  },
  {
   "cell_type": "code",
   "execution_count": null,
   "metadata": {
    "ExecuteTime": {
     "end_time": "2017-12-18T04:06:51.825556Z",
     "start_time": "2017-12-18T04:06:51.794335Z"
    },
    "collapsed": true
   },
   "outputs": [],
   "source": [
    "# str 型を明示\n",
    "customer_table = customer_table.astype({'担当者コード':str, '担当者名': str, '得意先': str, '名カナ': str, '得意先名1': str, '得意先名2': str, '郵便番号': str,\n",
    "                                        '住所1': str, '住所2': str, '住所3': str, '電話番号': str, 'FAX番号': str})"
   ]
  },
  {
   "cell_type": "raw",
   "metadata": {
    "ExecuteTime": {
     "end_time": "2017-12-18T03:18:50.169782Z",
     "start_time": "2017-12-18T03:18:49.810434Z"
    },
    "collapsed": true
   },
   "source": [
    "# 型の明示 (作業未到達)\n",
    "customer_table = customer_table.astype({'担当者コード':int, '担当者名': str, '得意先': int, '名カナ': str, '得意先名1': str, '得意先名2': str, '郵便番号': str,\n",
    "                                        '住所1': str, '住所2': str, '住所3': str, '電話番号': str, 'FAX番号': str})"
   ]
  },
  {
   "cell_type": "code",
   "execution_count": null,
   "metadata": {
    "ExecuteTime": {
     "end_time": "2017-12-18T06:15:55.412524Z",
     "start_time": "2017-12-18T06:15:55.396973Z"
    }
   },
   "outputs": [],
   "source": [
    "customer_table.dtypes"
   ]
  },
  {
   "cell_type": "code",
   "execution_count": null,
   "metadata": {
    "ExecuteTime": {
     "end_time": "2017-12-18T06:18:56.959896Z",
     "start_time": "2017-12-18T06:18:56.944258Z"
    }
   },
   "outputs": [],
   "source": [
    "type(customer_table.loc[1, '担当者コード'])"
   ]
  },
  {
   "cell_type": "code",
   "execution_count": null,
   "metadata": {
    "ExecuteTime": {
     "end_time": "2017-12-18T04:10:26.826644Z",
     "start_time": "2017-12-18T04:10:26.779626Z"
    },
    "scrolled": true
   },
   "outputs": [],
   "source": [
    "# 'x1f' (ユニット区切り) を除去\n",
    "customer_table = customer_table.applymap(lambda x: re.sub('\\x1f', '', x))"
   ]
  },
  {
   "cell_type": "code",
   "execution_count": null,
   "metadata": {
    "ExecuteTime": {
     "end_time": "2017-12-18T04:10:28.279734Z",
     "start_time": "2017-12-18T04:10:28.232858Z"
    },
    "collapsed": true
   },
   "outputs": [],
   "source": [
    "customer_table.applymap(lambda x: re.match('\\x1f', x)).any()"
   ]
  },
  {
   "cell_type": "code",
   "execution_count": null,
   "metadata": {
    "ExecuteTime": {
     "end_time": "2017-12-18T04:10:38.969358Z",
     "start_time": "2017-12-18T04:10:38.875558Z"
    },
    "collapsed": true
   },
   "outputs": [],
   "source": [
    "# 半角カナを全角カナに\n",
    "customer_table = customer_table.applymap(lambda x: jaconv.h2z(x, kana=True, ascii=False, digit=False))"
   ]
  },
  {
   "cell_type": "code",
   "execution_count": null,
   "metadata": {
    "ExecuteTime": {
     "end_time": "2017-12-18T04:10:40.047444Z",
     "start_time": "2017-12-18T04:10:40.016206Z"
    },
    "collapsed": true
   },
   "outputs": [],
   "source": [
    "# 全角英数を半角英数に\n",
    "customer_table = customer_table.applymap(lambda x: jaconv.z2h(x, kana=False, ascii=True, digit=True))"
   ]
  },
  {
   "cell_type": "code",
   "execution_count": null,
   "metadata": {
    "ExecuteTime": {
     "end_time": "2017-12-18T04:10:40.781878Z",
     "start_time": "2017-12-18T04:10:40.735008Z"
    },
    "collapsed": true
   },
   "outputs": [],
   "source": [
    "# 'nan' を除去\n",
    "customer_table = customer_table.applymap(lambda x: re.sub('nan', '', x))"
   ]
  },
  {
   "cell_type": "code",
   "execution_count": null,
   "metadata": {
    "ExecuteTime": {
     "end_time": "2017-12-18T04:00:57.359044Z",
     "start_time": "2017-12-18T04:00:57.312158Z"
    },
    "collapsed": true
   },
   "outputs": [],
   "source": [
    "customer_table.applymap(lambda x: re.match('nan', x)).any()"
   ]
  },
  {
   "cell_type": "code",
   "execution_count": null,
   "metadata": {
    "ExecuteTime": {
     "end_time": "2017-12-18T05:03:01.418616Z",
     "start_time": "2017-12-18T05:03:01.324907Z"
    },
    "collapsed": true
   },
   "outputs": [],
   "source": [
    "# 住所列結合\n",
    "customer_table['住所'] = customer_table['住所1'] + customer_table['住所2'] + customer_table['住所3']"
   ]
  },
  {
   "cell_type": "code",
   "execution_count": null,
   "metadata": {
    "ExecuteTime": {
     "end_time": "2017-12-18T05:03:23.023547Z",
     "start_time": "2017-12-18T05:03:23.007977Z"
    },
    "collapsed": true
   },
   "outputs": [],
   "source": [
    "# 結合済み住所列削除\n",
    "customer_table = customer_table[['担当者コード', '担当者名', '得意先', '名カナ', '得意先名1', '得意先名2', '郵便番号', '住所', '電話番号', 'FAX番号']]"
   ]
  },
  {
   "cell_type": "code",
   "execution_count": null,
   "metadata": {
    "ExecuteTime": {
     "end_time": "2017-12-18T06:15:21.900748Z",
     "start_time": "2017-12-18T06:15:21.885124Z"
    }
   },
   "outputs": [],
   "source": [
    "# 列名変更\n",
    "customer_table = customer_table.rename(columns={'得意先': '得意先コード'})"
   ]
  },
  {
   "cell_type": "code",
   "execution_count": null,
   "metadata": {
    "ExecuteTime": {
     "end_time": "2017-12-18T06:15:23.150992Z",
     "start_time": "2017-12-18T06:15:23.088491Z"
    },
    "collapsed": true
   },
   "outputs": [],
   "source": [
    "customer_table"
   ]
  },
  {
   "cell_type": "markdown",
   "metadata": {},
   "source": [
    "# CSV 保存、確認"
   ]
  },
  {
   "cell_type": "code",
   "execution_count": null,
   "metadata": {
    "ExecuteTime": {
     "end_time": "2017-12-18T06:20:01.885855Z",
     "start_time": "2017-12-18T06:20:01.854592Z"
    },
    "scrolled": true
   },
   "outputs": [],
   "source": [
    "# utf-8 で CSV 保存 (Excel で文字化けする)\n",
    "customer_table.to_csv(r'{0}\\customer_table_utf8.csv'.format(path), encoding='utf-8')"
   ]
  },
  {
   "cell_type": "code",
   "execution_count": null,
   "metadata": {
    "ExecuteTime": {
     "end_time": "2017-12-18T06:20:02.620231Z",
     "start_time": "2017-12-18T06:20:02.604601Z"
    },
    "collapsed": true,
    "scrolled": true
   },
   "outputs": [],
   "source": [
    "# エンコード指定なしで CSV 保存 (そのままでは pandas で読み込めなくなる)\n",
    "customer_table.to_csv(r'{0}\\customer_table.csv'.format(path))"
   ]
  },
  {
   "cell_type": "code",
   "execution_count": null,
   "metadata": {
    "ExecuteTime": {
     "end_time": "2017-12-18T06:20:05.323690Z",
     "start_time": "2017-12-18T06:20:05.292425Z"
    }
   },
   "outputs": [],
   "source": [
    "# customer_table_utf8.csv\n",
    "df = pd.read_csv(r'{0}\\customer_table_utf8.csv'.format(path), index_col=0)"
   ]
  },
  {
   "cell_type": "code",
   "execution_count": null,
   "metadata": {
    "ExecuteTime": {
     "end_time": "2017-12-18T06:08:02.948071Z",
     "start_time": "2017-12-18T06:08:02.932433Z"
    }
   },
   "outputs": [],
   "source": [
    "# customer_table.csv\n",
    "with codecs.open(r'{0}\\customer_table.csv'.format(path), mode=\"r\", encoding=\"Shift-JIS\", errors=\"ignore\") as file:\n",
    "    df = pd.read_table(file, delimiter=\",\", index_col=0)"
   ]
  },
  {
   "cell_type": "code",
   "execution_count": null,
   "metadata": {
    "ExecuteTime": {
     "end_time": "2017-12-18T06:20:09.183827Z",
     "start_time": "2017-12-18T06:20:09.121326Z"
    },
    "collapsed": true
   },
   "outputs": [],
   "source": [
    "df"
   ]
  },
  {
   "cell_type": "code",
   "execution_count": null,
   "metadata": {
    "ExecuteTime": {
     "end_time": "2017-12-18T06:20:18.529576Z",
     "start_time": "2017-12-18T06:20:18.498368Z"
    },
    "scrolled": true
   },
   "outputs": [],
   "source": [
    "df.dtypes"
   ]
  },
  {
   "cell_type": "code",
   "execution_count": null,
   "metadata": {
    "ExecuteTime": {
     "end_time": "2017-12-18T06:28:21.873455Z",
     "start_time": "2017-12-18T06:28:21.826624Z"
    }
   },
   "outputs": [],
   "source": [
    "help(jaconv)"
   ]
  },
  {
   "cell_type": "code",
   "execution_count": null,
   "metadata": {
    "collapsed": true
   },
   "outputs": [],
   "source": []
  }
 ],
 "metadata": {
  "kernelspec": {
   "display_name": "Python 3",
   "language": "python",
   "name": "python3"
  },
  "language_info": {
   "codemirror_mode": {
    "name": "ipython",
    "version": 3
   },
   "file_extension": ".py",
   "mimetype": "text/x-python",
   "name": "python",
   "nbconvert_exporter": "python",
   "pygments_lexer": "ipython3",
   "version": "3.6.1"
  },
  "toc": {
   "nav_menu": {},
   "number_sections": true,
   "sideBar": true,
   "skip_h1_title": false,
   "title_cell": "Table of Contents",
   "title_sidebar": "Contents",
   "toc_cell": false,
   "toc_position": {},
   "toc_section_display": true,
   "toc_window_display": false
  },
  "varInspector": {
   "cols": {
    "lenName": 16,
    "lenType": 16,
    "lenVar": 40
   },
   "kernels_config": {
    "python": {
     "delete_cmd_postfix": "",
     "delete_cmd_prefix": "del ",
     "library": "var_list.py",
     "varRefreshCmd": "print(var_dic_list())"
    },
    "r": {
     "delete_cmd_postfix": ") ",
     "delete_cmd_prefix": "rm(",
     "library": "var_list.r",
     "varRefreshCmd": "cat(var_dic_list()) "
    }
   },
   "types_to_exclude": [
    "module",
    "function",
    "builtin_function_or_method",
    "instance",
    "_Feature"
   ],
   "window_display": false
  }
 },
 "nbformat": 4,
 "nbformat_minor": 2
}
