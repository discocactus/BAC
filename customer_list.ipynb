{
 "cells": [
  {
   "cell_type": "markdown",
   "metadata": {},
   "source": [
    "# 準備"
   ]
  },
  {
   "cell_type": "code",
   "execution_count": null,
   "metadata": {
    "ExecuteTime": {
     "end_time": "2018-01-22T03:30:46.578620Z",
     "start_time": "2018-01-22T03:30:34.950009Z"
    },
    "collapsed": true
   },
   "outputs": [],
   "source": [
    "import sys\n",
    "import codecs\n",
    "import re\n",
    "import pandas as pd\n",
    "import numpy as np\n",
    "import jaconv"
   ]
  },
  {
   "cell_type": "code",
   "execution_count": null,
   "metadata": {
    "ExecuteTime": {
     "end_time": "2018-01-22T03:32:15.496987Z",
     "start_time": "2018-01-22T03:32:15.492984Z"
    },
    "collapsed": true
   },
   "outputs": [],
   "source": [
    "# pandas の最大表示列数を設定 (max_rows で表示行数の設定も可能)\n",
    "pd.set_option('display.max_columns', 30)"
   ]
  },
  {
   "cell_type": "code",
   "execution_count": null,
   "metadata": {
    "ExecuteTime": {
     "end_time": "2018-01-22T03:32:16.858719Z",
     "start_time": "2018-01-22T03:32:16.855717Z"
    },
    "collapsed": true,
    "scrolled": true
   },
   "outputs": [],
   "source": [
    "# ファイルパス\n",
    "path = r'C:\\Users\\BestecAudioTecHH\\Documents\\GitHub\\BAC\\DO_NOT_PUSH'"
   ]
  },
  {
   "cell_type": "markdown",
   "metadata": {},
   "source": [
    "# excel ファイルの読み込み、作業用テーブルの作成"
   ]
  },
  {
   "cell_type": "markdown",
   "metadata": {
    "heading_collapsed": true
   },
   "source": [
    "## データ削減版"
   ]
  },
  {
   "cell_type": "code",
   "execution_count": null,
   "metadata": {
    "ExecuteTime": {
     "end_time": "2017-12-20T04:48:41.404375Z",
     "start_time": "2017-12-20T04:48:40.347708Z"
    },
    "collapsed": true,
    "hidden": true
   },
   "outputs": [],
   "source": [
    "bestec_excel = pd.read_excel(r'{0}\\Bestecaudio得意先リスト20170728更新_local_171214.xlsx'.format(path))"
   ]
  },
  {
   "cell_type": "code",
   "execution_count": null,
   "metadata": {
    "ExecuteTime": {
     "end_time": "2017-12-20T04:48:49.182863Z",
     "start_time": "2017-12-20T04:48:49.165851Z"
    },
    "collapsed": true,
    "hidden": true
   },
   "outputs": [],
   "source": [
    "# 作業用テーブルの作成\n",
    "bestec_table = bestec_excel[['担当者コード', '担当者名', '得意先', '名カナ', '得意先名1', '得意先名2', '郵便番号', '住所1', '住所2',\n",
    "       '住所3', '電話番号', 'FAX番号']]"
   ]
  },
  {
   "cell_type": "code",
   "execution_count": null,
   "metadata": {
    "ExecuteTime": {
     "end_time": "2017-12-21T08:00:33.401530Z",
     "start_time": "2017-12-21T08:00:33.291465Z"
    },
    "collapsed": true,
    "hidden": true
   },
   "outputs": [],
   "source": [
    "# str 型を明示\n",
    "bestec_table = bestec_table.astype({'担当者コード':str, '担当者名': str, '得意先': str, '名カナ': str, '得意先名1': str, '得意先名2': str, '郵便番号': str,\n",
    "                                        '住所1': str, '住所2': str, '住所3': str, '電話番号': str, 'FAX番号': str})"
   ]
  },
  {
   "cell_type": "code",
   "execution_count": null,
   "metadata": {
    "ExecuteTime": {
     "end_time": "2017-12-20T04:49:24.040357Z",
     "start_time": "2017-12-20T04:49:24.027348Z"
    },
    "collapsed": true,
    "hidden": true
   },
   "outputs": [],
   "source": [
    "# 住所列結合\n",
    "bestec_table['住所'] = bestec_table['住所1'] + bestec_table['住所2'] + bestec_table['住所3']"
   ]
  },
  {
   "cell_type": "code",
   "execution_count": null,
   "metadata": {
    "ExecuteTime": {
     "end_time": "2017-12-20T04:49:28.232203Z",
     "start_time": "2017-12-20T04:49:28.226187Z"
    },
    "collapsed": true,
    "hidden": true
   },
   "outputs": [],
   "source": [
    "# 結合済み住所列削除\n",
    "bestec_table = bestec_table[['担当者コード', '担当者名', '得意先', '名カナ', '得意先名1', '得意先名2', '郵便番号', '住所', '電話番号', 'FAX番号']]"
   ]
  },
  {
   "cell_type": "markdown",
   "metadata": {},
   "source": [
    "## データ現状維持版"
   ]
  },
  {
   "cell_type": "code",
   "execution_count": null,
   "metadata": {
    "ExecuteTime": {
     "end_time": "2018-01-22T03:34:25.563859Z",
     "start_time": "2018-01-22T03:34:25.559869Z"
    },
    "collapsed": true
   },
   "outputs": [],
   "source": [
    "# version = 171221"
   ]
  },
  {
   "cell_type": "code",
   "execution_count": null,
   "metadata": {
    "ExecuteTime": {
     "end_time": "2018-01-22T03:50:04.365389Z",
     "start_time": "2018-01-22T03:50:04.362399Z"
    },
    "collapsed": true
   },
   "outputs": [],
   "source": [
    "version = 180111"
   ]
  },
  {
   "cell_type": "code",
   "execution_count": null,
   "metadata": {
    "ExecuteTime": {
     "end_time": "2018-01-22T03:34:38.985398Z",
     "start_time": "2018-01-22T03:34:38.981395Z"
    },
    "collapsed": true
   },
   "outputs": [],
   "source": [
    "# file_name = r'{0}\\Bestecaudio得意先リスト20170728更新_{1}.xlsx'.format(path, version)"
   ]
  },
  {
   "cell_type": "code",
   "execution_count": null,
   "metadata": {
    "ExecuteTime": {
     "end_time": "2018-01-22T03:50:13.685689Z",
     "start_time": "2018-01-22T03:50:13.682687Z"
    },
    "collapsed": true
   },
   "outputs": [],
   "source": [
    "file_name = r'{0}\\得意先リスト20180109更新_{1}.xlsx'.format(path, version)"
   ]
  },
  {
   "cell_type": "markdown",
   "metadata": {},
   "source": [
    "### bestec"
   ]
  },
  {
   "cell_type": "code",
   "execution_count": null,
   "metadata": {
    "ExecuteTime": {
     "end_time": "2018-01-22T03:50:27.470202Z",
     "start_time": "2018-01-22T03:50:27.466200Z"
    },
    "collapsed": true
   },
   "outputs": [],
   "source": [
    "sheet_1 = 'Bestec得意先リスト'"
   ]
  },
  {
   "cell_type": "code",
   "execution_count": null,
   "metadata": {
    "ExecuteTime": {
     "end_time": "2018-01-22T03:50:28.745118Z",
     "start_time": "2018-01-22T03:50:28.409831Z"
    },
    "collapsed": true
   },
   "outputs": [],
   "source": [
    "# 読み込み (列の追加や削減、列名の変更があった場合にはこのままでは対応できないので要注意)\n",
    "bestec_excel = pd.read_excel(file_name, sheet_1,\n",
    "                               keep_default_na=False,\n",
    "                               dtype={'FAX番号': str,\n",
    "                                        '住所1': str,\n",
    "                                        '住所2': str,\n",
    "                                        '住所3': str,\n",
    "                                        '削除区分': str,\n",
    "                                        '名カナ': str,\n",
    "                                        '回収支払日1': str,\n",
    "                                        '回収支払月1': str,\n",
    "                                        '得意先': str,\n",
    "                                        '得意先名1': str,\n",
    "                                        '得意先名2': str,\n",
    "                                        '担当者コード': str,\n",
    "                                        '担当者名': str,\n",
    "                                        '業種': str,\n",
    "                                        '業種名': str,\n",
    "                                        '締日グループ名1': str,\n",
    "                                        '郵便番号': str,\n",
    "                                        '都道府県': str,\n",
    "                                        '都道府県名': str,\n",
    "                                        '電話番号': str})"
   ]
  },
  {
   "cell_type": "code",
   "execution_count": null,
   "metadata": {
    "ExecuteTime": {
     "end_time": "2018-01-22T03:50:41.921758Z",
     "start_time": "2018-01-22T03:50:41.913754Z"
    }
   },
   "outputs": [],
   "source": [
    "# 列の並び替え (2017年の元ファイルに揃える)\n",
    "# (列の追加や削減、列名の変更があった場合にはこのままでは対応できないので要注意)\n",
    "bestec_excel = bestec_excel[['担当者コード',\n",
    "                              '担当者名',\n",
    "                              '得意先',\n",
    "                              '名カナ',\n",
    "                              '得意先名1',\n",
    "                              '得意先名2',\n",
    "                              '郵便番号',\n",
    "                              '住所1',\n",
    "                              '住所2',\n",
    "                              '住所3',\n",
    "                              '電話番号',\n",
    "                              'FAX番号',\n",
    "                              '締日グループ名1',\n",
    "                              '回収支払月1',\n",
    "                              '回収支払日1',\n",
    "                              '業種',\n",
    "                              '業種名',\n",
    "                              '都道府県',\n",
    "                              '都道府県名',\n",
    "                              '削除区分'\n",
    "                             ]]"
   ]
  },
  {
   "cell_type": "code",
   "execution_count": null,
   "metadata": {
    "ExecuteTime": {
     "end_time": "2017-12-26T08:39:31.979257Z",
     "start_time": "2017-12-26T08:39:31.967262Z"
    },
    "collapsed": true
   },
   "outputs": [],
   "source": [
    "bestec_excel.columns"
   ]
  },
  {
   "cell_type": "code",
   "execution_count": null,
   "metadata": {
    "ExecuteTime": {
     "end_time": "2017-12-26T09:33:21.980219Z",
     "start_time": "2017-12-26T09:33:21.898175Z"
    },
    "collapsed": true
   },
   "outputs": [],
   "source": [
    "bestec_excel"
   ]
  },
  {
   "cell_type": "code",
   "execution_count": null,
   "metadata": {
    "ExecuteTime": {
     "end_time": "2017-12-26T08:53:53.552354Z",
     "start_time": "2017-12-26T08:53:53.538347Z"
    },
    "collapsed": true
   },
   "outputs": [],
   "source": [
    "bestec_excel.dtypes"
   ]
  },
  {
   "cell_type": "code",
   "execution_count": null,
   "metadata": {
    "ExecuteTime": {
     "end_time": "2018-01-11T09:29:45.373419Z",
     "start_time": "2018-01-11T09:29:45.369430Z"
    },
    "collapsed": true
   },
   "outputs": [],
   "source": [
    "# 作業用テーブルの作成\n",
    "bestec_table = bestec_excel.copy()"
   ]
  },
  {
   "cell_type": "code",
   "execution_count": null,
   "metadata": {
    "ExecuteTime": {
     "end_time": "2017-12-26T08:40:25.386712Z",
     "start_time": "2017-12-26T08:40:25.087617Z"
    },
    "collapsed": true
   },
   "outputs": [],
   "source": [
    "bestec_table"
   ]
  },
  {
   "cell_type": "markdown",
   "metadata": {},
   "source": [
    "### beetech"
   ]
  },
  {
   "cell_type": "code",
   "execution_count": null,
   "metadata": {
    "ExecuteTime": {
     "end_time": "2018-01-22T03:36:13.536222Z",
     "start_time": "2018-01-22T03:36:13.533220Z"
    },
    "collapsed": true
   },
   "outputs": [],
   "source": [
    "sheet_2 = 'ビーテック得意先リスト'"
   ]
  },
  {
   "cell_type": "code",
   "execution_count": null,
   "metadata": {
    "ExecuteTime": {
     "end_time": "2018-01-22T03:36:15.526864Z",
     "start_time": "2018-01-22T03:36:15.189627Z"
    },
    "collapsed": true
   },
   "outputs": [],
   "source": [
    "# 読み込み (列の追加や削減、列名の変更があった場合にはこのままでは対応できないので要注意)\n",
    "beetech_excel = pd.read_excel(file_name, sheet_2,\n",
    "                               keep_default_na=False,\n",
    "                               dtype={'FAX番号': str,\n",
    "                                         '住所1': str,\n",
    "                                         '住所2': str,\n",
    "                                         '住所3': str,\n",
    "                                         '削除区分': str,\n",
    "                                         '名カナ': str,\n",
    "                                         '回収支払日1': str,\n",
    "                                         '回収支払月1': str,\n",
    "                                         '回収種別名': str,\n",
    "                                         '得意先': str,\n",
    "                                         '得意先備考1': str,\n",
    "                                         '得意先備考2': str,\n",
    "                                         '得意先備考3': str,\n",
    "                                         '得意先名1': str,\n",
    "                                         '得意先名2': str,\n",
    "                                         '担当者名': str,\n",
    "                                         '業種': str,\n",
    "                                         '業種名': str,\n",
    "                                         '締日グループ名1': str,\n",
    "                                         '請求先コード': str,\n",
    "                                         '請求先略称': str,\n",
    "                                         '郵便番号': str,\n",
    "                                         '都道府県': str,\n",
    "                                         '都道府県名': str,\n",
    "                                         '電話番号': str})"
   ]
  },
  {
   "cell_type": "code",
   "execution_count": null,
   "metadata": {
    "ExecuteTime": {
     "end_time": "2018-01-22T03:49:12.714928Z",
     "start_time": "2018-01-22T03:49:12.703921Z"
    },
    "collapsed": true
   },
   "outputs": [],
   "source": [
    "# 列の並び替え (2017年の元ファイルに揃える)\n",
    "# (列の追加や削減、列名の変更があった場合にはこのままでは対応できないので要注意)\n",
    "beetech_excel = beetech_excel[['名カナ',\n",
    "                               '得意先',\n",
    "                               '得意先名1',\n",
    "                               '得意先名2',\n",
    "                               '担当者名',\n",
    "                               '請求先コード',\n",
    "                               '請求先略称',\n",
    "                               '郵便番号',\n",
    "                               '住所1',\n",
    "                               '住所2',\n",
    "                               '住所3',\n",
    "                               '電話番号',\n",
    "                               'FAX番号',\n",
    "                               '締日グループ名1',\n",
    "                               '回収支払月1',\n",
    "                               '回収支払日1',\n",
    "                               '回収種別名',\n",
    "                               '業種',\n",
    "                               '業種名',\n",
    "                               '都道府県',\n",
    "                               '都道府県名',\n",
    "                               '得意先備考1',\n",
    "                               '得意先備考2',\n",
    "                               '得意先備考3',\n",
    "                               '削除区分'\n",
    "                              ]]"
   ]
  },
  {
   "cell_type": "code",
   "execution_count": null,
   "metadata": {
    "ExecuteTime": {
     "end_time": "2017-12-26T08:51:59.205540Z",
     "start_time": "2017-12-26T08:51:59.199523Z"
    },
    "collapsed": true
   },
   "outputs": [],
   "source": [
    "beetech_excel.columns"
   ]
  },
  {
   "cell_type": "code",
   "execution_count": null,
   "metadata": {
    "ExecuteTime": {
     "end_time": "2017-12-26T09:33:40.648511Z",
     "start_time": "2017-12-26T09:33:40.547440Z"
    },
    "collapsed": true
   },
   "outputs": [],
   "source": [
    "beetech_excel"
   ]
  },
  {
   "cell_type": "code",
   "execution_count": null,
   "metadata": {
    "ExecuteTime": {
     "end_time": "2017-12-26T08:52:35.664448Z",
     "start_time": "2017-12-26T08:52:35.656441Z"
    },
    "collapsed": true
   },
   "outputs": [],
   "source": [
    "beetech_table.dtypes"
   ]
  },
  {
   "cell_type": "code",
   "execution_count": null,
   "metadata": {
    "ExecuteTime": {
     "end_time": "2018-01-11T09:29:57.549203Z",
     "start_time": "2018-01-11T09:29:57.545187Z"
    },
    "collapsed": true
   },
   "outputs": [],
   "source": [
    "# 作業用テーブルの作成\n",
    "beetech_table = beetech_excel.copy()"
   ]
  },
  {
   "cell_type": "code",
   "execution_count": null,
   "metadata": {
    "ExecuteTime": {
     "end_time": "2017-12-26T08:52:47.329729Z",
     "start_time": "2017-12-26T08:52:47.228661Z"
    },
    "collapsed": true
   },
   "outputs": [],
   "source": [
    "beetech_table"
   ]
  },
  {
   "cell_type": "markdown",
   "metadata": {},
   "source": [
    "# 内容確認"
   ]
  },
  {
   "cell_type": "markdown",
   "metadata": {},
   "source": [
    "## bestec"
   ]
  },
  {
   "cell_type": "code",
   "execution_count": null,
   "metadata": {
    "ExecuteTime": {
     "end_time": "2018-01-11T09:30:34.046258Z",
     "start_time": "2018-01-11T09:30:34.041265Z"
    },
    "collapsed": true
   },
   "outputs": [],
   "source": [
    "bestec_table.loc[0, '名カナ']"
   ]
  },
  {
   "cell_type": "code",
   "execution_count": null,
   "metadata": {
    "ExecuteTime": {
     "end_time": "2018-01-11T09:30:22.894465Z",
     "start_time": "2018-01-11T09:30:22.856436Z"
    },
    "collapsed": true
   },
   "outputs": [],
   "source": [
    "bestec_table.loc[0, '得意先名2']"
   ]
  },
  {
   "cell_type": "code",
   "execution_count": null,
   "metadata": {
    "ExecuteTime": {
     "end_time": "2018-01-11T09:30:26.917789Z",
     "start_time": "2018-01-11T09:30:26.912785Z"
    },
    "collapsed": true
   },
   "outputs": [],
   "source": [
    "bestec_table.loc[0, '住所1']"
   ]
  },
  {
   "cell_type": "code",
   "execution_count": null,
   "metadata": {
    "ExecuteTime": {
     "end_time": "2018-01-11T09:30:37.304772Z",
     "start_time": "2018-01-11T09:30:37.297767Z"
    },
    "collapsed": true
   },
   "outputs": [],
   "source": [
    "bestec_table.loc[0, '得意先']"
   ]
  },
  {
   "cell_type": "code",
   "execution_count": null,
   "metadata": {
    "ExecuteTime": {
     "end_time": "2018-01-11T09:30:38.404545Z",
     "start_time": "2018-01-11T09:30:38.392537Z"
    },
    "collapsed": true
   },
   "outputs": [],
   "source": [
    "bestec_table['名カナ'].values"
   ]
  },
  {
   "cell_type": "code",
   "execution_count": null,
   "metadata": {
    "ExecuteTime": {
     "end_time": "2018-01-11T09:30:42.320257Z",
     "start_time": "2018-01-11T09:30:42.313252Z"
    },
    "collapsed": true
   },
   "outputs": [],
   "source": [
    "bestec_table['得意先名2'].values"
   ]
  },
  {
   "cell_type": "code",
   "execution_count": null,
   "metadata": {
    "ExecuteTime": {
     "end_time": "2018-01-11T09:30:46.630825Z",
     "start_time": "2018-01-11T09:30:46.624824Z"
    },
    "collapsed": true
   },
   "outputs": [],
   "source": [
    "len(bestec_table)"
   ]
  },
  {
   "cell_type": "markdown",
   "metadata": {},
   "source": [
    "## beetech"
   ]
  },
  {
   "cell_type": "code",
   "execution_count": null,
   "metadata": {
    "ExecuteTime": {
     "end_time": "2018-01-11T09:30:51.533893Z",
     "start_time": "2018-01-11T09:30:51.528889Z"
    },
    "collapsed": true
   },
   "outputs": [],
   "source": [
    "beetech_table.loc[0, '名カナ']"
   ]
  },
  {
   "cell_type": "code",
   "execution_count": null,
   "metadata": {
    "ExecuteTime": {
     "end_time": "2018-01-11T09:30:52.157437Z",
     "start_time": "2018-01-11T09:30:52.152436Z"
    },
    "collapsed": true
   },
   "outputs": [],
   "source": [
    "beetech_table.loc[0, '得意先名2']"
   ]
  },
  {
   "cell_type": "code",
   "execution_count": null,
   "metadata": {
    "ExecuteTime": {
     "end_time": "2018-01-11T09:30:52.747248Z",
     "start_time": "2018-01-11T09:30:52.742242Z"
    },
    "collapsed": true
   },
   "outputs": [],
   "source": [
    "beetech_table.loc[0, '住所1']"
   ]
  },
  {
   "cell_type": "code",
   "execution_count": null,
   "metadata": {
    "ExecuteTime": {
     "end_time": "2018-01-11T09:30:53.862351Z",
     "start_time": "2018-01-11T09:30:53.857361Z"
    },
    "collapsed": true
   },
   "outputs": [],
   "source": [
    "beetech_table.loc[0, '得意先']"
   ]
  },
  {
   "cell_type": "code",
   "execution_count": null,
   "metadata": {
    "ExecuteTime": {
     "end_time": "2018-01-11T09:30:55.248800Z",
     "start_time": "2018-01-11T09:30:55.239781Z"
    },
    "collapsed": true
   },
   "outputs": [],
   "source": [
    "beetech_table['名カナ'].values"
   ]
  },
  {
   "cell_type": "code",
   "execution_count": null,
   "metadata": {
    "ExecuteTime": {
     "end_time": "2018-01-11T09:30:57.915667Z",
     "start_time": "2018-01-11T09:30:57.907664Z"
    },
    "collapsed": true
   },
   "outputs": [],
   "source": [
    "beetech_table['得意先名2'].values"
   ]
  },
  {
   "cell_type": "code",
   "execution_count": null,
   "metadata": {
    "ExecuteTime": {
     "end_time": "2018-01-11T09:30:59.254231Z",
     "start_time": "2018-01-11T09:30:59.250229Z"
    },
    "collapsed": true
   },
   "outputs": [],
   "source": [
    "len(beetech_table)"
   ]
  },
  {
   "cell_type": "markdown",
   "metadata": {},
   "source": [
    "# 整形処理"
   ]
  },
  {
   "cell_type": "markdown",
   "metadata": {},
   "source": [
    "## bestec"
   ]
  },
  {
   "cell_type": "code",
   "execution_count": null,
   "metadata": {
    "ExecuteTime": {
     "end_time": "2018-01-11T09:31:08.727806Z",
     "start_time": "2018-01-11T09:31:08.664695Z"
    },
    "collapsed": true,
    "scrolled": true
   },
   "outputs": [],
   "source": [
    "# 'x1f' (ユニット区切り) を除去\n",
    "bestec_table = bestec_table.applymap(lambda x: re.sub('\\x1f', '', x))"
   ]
  },
  {
   "cell_type": "code",
   "execution_count": null,
   "metadata": {
    "ExecuteTime": {
     "end_time": "2018-01-11T09:31:09.626528Z",
     "start_time": "2018-01-11T09:31:09.497437Z"
    },
    "collapsed": true
   },
   "outputs": [],
   "source": [
    "# 半角カナを全角カナに\n",
    "bestec_table = bestec_table.applymap(lambda x: jaconv.h2z(x, kana=True, ascii=False, digit=False))"
   ]
  },
  {
   "cell_type": "code",
   "execution_count": null,
   "metadata": {
    "ExecuteTime": {
     "end_time": "2018-01-11T09:31:10.339938Z",
     "start_time": "2018-01-11T09:31:10.303915Z"
    },
    "collapsed": true
   },
   "outputs": [],
   "source": [
    "# 全角英数を半角英数に\n",
    "bestec_table = bestec_table.applymap(lambda x: jaconv.z2h(x, kana=False, ascii=True, digit=True))"
   ]
  },
  {
   "cell_type": "code",
   "execution_count": null,
   "metadata": {
    "ExecuteTime": {
     "end_time": "2018-01-11T09:31:11.100085Z",
     "start_time": "2018-01-11T09:31:11.065062Z"
    },
    "collapsed": true
   },
   "outputs": [],
   "source": [
    "# 'nan' を除去\n",
    "bestec_table = bestec_table.applymap(lambda x: re.sub('nan', '', x))"
   ]
  },
  {
   "cell_type": "code",
   "execution_count": null,
   "metadata": {
    "ExecuteTime": {
     "end_time": "2018-01-11T09:31:12.214693Z",
     "start_time": "2018-01-11T09:31:12.176666Z"
    },
    "collapsed": true
   },
   "outputs": [],
   "source": [
    "# 確認\n",
    "bestec_table.applymap(lambda x: re.match('\\x1f', x)).any()"
   ]
  },
  {
   "cell_type": "code",
   "execution_count": null,
   "metadata": {
    "ExecuteTime": {
     "end_time": "2018-01-11T09:31:19.036244Z",
     "start_time": "2018-01-11T09:31:19.000221Z"
    },
    "collapsed": true
   },
   "outputs": [],
   "source": [
    "# 確認\n",
    "bestec_table.applymap(lambda x: re.match('nan', x)).any()"
   ]
  },
  {
   "cell_type": "raw",
   "metadata": {
    "ExecuteTime": {
     "end_time": "2017-12-21T08:11:13.207560Z",
     "start_time": "2017-12-21T08:11:13.202559Z"
    },
    "collapsed": true
   },
   "source": [
    "# 列名変更\n",
    "bestec_table = bestec_table.rename(columns={'得意先': '得意先ID'})"
   ]
  },
  {
   "cell_type": "code",
   "execution_count": null,
   "metadata": {
    "ExecuteTime": {
     "end_time": "2018-01-11T09:31:28.559711Z",
     "start_time": "2018-01-11T09:31:28.480656Z"
    },
    "collapsed": true
   },
   "outputs": [],
   "source": [
    "bestec_table"
   ]
  },
  {
   "cell_type": "code",
   "execution_count": null,
   "metadata": {
    "ExecuteTime": {
     "end_time": "2018-01-11T09:31:40.816543Z",
     "start_time": "2018-01-11T09:31:40.809539Z"
    },
    "collapsed": true
   },
   "outputs": [],
   "source": [
    "# 得意先コードの重複を確認\n",
    "bestec_table['得意先'].duplicated().any()"
   ]
  },
  {
   "cell_type": "code",
   "execution_count": null,
   "metadata": {
    "ExecuteTime": {
     "end_time": "2018-01-11T09:31:41.987349Z",
     "start_time": "2018-01-11T09:31:41.969347Z"
    },
    "collapsed": true
   },
   "outputs": [],
   "source": [
    "# 得意先コードの桁数を確認\n",
    "bestec_table['得意先'].apply(lambda x: len(x)).min()"
   ]
  },
  {
   "cell_type": "code",
   "execution_count": null,
   "metadata": {
    "ExecuteTime": {
     "end_time": "2018-01-11T09:31:43.246202Z",
     "start_time": "2018-01-11T09:31:43.209156Z"
    },
    "collapsed": true
   },
   "outputs": [],
   "source": [
    "# 得意先コードの桁数を確認\n",
    "bestec_table['得意先'].apply(lambda x: len(x)).max()"
   ]
  },
  {
   "cell_type": "markdown",
   "metadata": {},
   "source": [
    "## beetech"
   ]
  },
  {
   "cell_type": "code",
   "execution_count": null,
   "metadata": {
    "ExecuteTime": {
     "end_time": "2018-01-11T09:31:58.297531Z",
     "start_time": "2018-01-11T09:31:58.256489Z"
    },
    "collapsed": true,
    "scrolled": true
   },
   "outputs": [],
   "source": [
    "# 'x1f' (ユニット区切り) を除去\n",
    "beetech_table = beetech_table.applymap(lambda x: re.sub('\\x1f', '', x))"
   ]
  },
  {
   "cell_type": "code",
   "execution_count": null,
   "metadata": {
    "ExecuteTime": {
     "end_time": "2018-01-11T09:31:59.081140Z",
     "start_time": "2018-01-11T09:31:58.960018Z"
    },
    "collapsed": true
   },
   "outputs": [],
   "source": [
    "# 半角カナを全角カナに\n",
    "beetech_table = beetech_table.applymap(lambda x: jaconv.h2z(x, kana=True, ascii=False, digit=False))"
   ]
  },
  {
   "cell_type": "code",
   "execution_count": null,
   "metadata": {
    "ExecuteTime": {
     "end_time": "2018-01-11T09:31:59.536090Z",
     "start_time": "2018-01-11T09:31:59.497063Z"
    },
    "collapsed": true
   },
   "outputs": [],
   "source": [
    "# 全角英数を半角英数に\n",
    "beetech_table = beetech_table.applymap(lambda x: jaconv.z2h(x, kana=False, ascii=True, digit=True))"
   ]
  },
  {
   "cell_type": "code",
   "execution_count": null,
   "metadata": {
    "ExecuteTime": {
     "end_time": "2018-01-11T09:32:00.211338Z",
     "start_time": "2018-01-11T09:32:00.176313Z"
    },
    "collapsed": true
   },
   "outputs": [],
   "source": [
    "# 'nan' を除去\n",
    "beetech_table = beetech_table.applymap(lambda x: re.sub('nan', '', x))"
   ]
  },
  {
   "cell_type": "code",
   "execution_count": null,
   "metadata": {
    "ExecuteTime": {
     "end_time": "2018-01-11T09:32:00.915355Z",
     "start_time": "2018-01-11T09:32:00.872323Z"
    },
    "collapsed": true
   },
   "outputs": [],
   "source": [
    "# 確認\n",
    "beetech_table.applymap(lambda x: re.match('\\x1f', x)).any()"
   ]
  },
  {
   "cell_type": "code",
   "execution_count": null,
   "metadata": {
    "ExecuteTime": {
     "end_time": "2018-01-11T09:32:04.695412Z",
     "start_time": "2018-01-11T09:32:04.656386Z"
    },
    "collapsed": true
   },
   "outputs": [],
   "source": [
    "# 確認\n",
    "beetech_table.applymap(lambda x: re.match('nan', x)).any()"
   ]
  },
  {
   "cell_type": "raw",
   "metadata": {
    "ExecuteTime": {
     "end_time": "2017-12-21T08:11:13.207560Z",
     "start_time": "2017-12-21T08:11:13.202559Z"
    },
    "collapsed": true
   },
   "source": [
    "# 列名変更\n",
    "beetech_table = beetech_table.rename(columns={'得意先': '得意先ID'})"
   ]
  },
  {
   "cell_type": "code",
   "execution_count": null,
   "metadata": {
    "ExecuteTime": {
     "end_time": "2017-12-21T09:18:45.597200Z",
     "start_time": "2017-12-21T09:18:45.505135Z"
    },
    "collapsed": true
   },
   "outputs": [],
   "source": [
    "beetech_table"
   ]
  },
  {
   "cell_type": "code",
   "execution_count": null,
   "metadata": {
    "ExecuteTime": {
     "end_time": "2018-01-11T09:32:09.953203Z",
     "start_time": "2018-01-11T09:32:09.945197Z"
    },
    "collapsed": true
   },
   "outputs": [],
   "source": [
    "# 得意先コードの重複を確認\n",
    "beetech_table['得意先'].duplicated().any()"
   ]
  },
  {
   "cell_type": "code",
   "execution_count": null,
   "metadata": {
    "ExecuteTime": {
     "end_time": "2018-01-11T09:32:10.784240Z",
     "start_time": "2018-01-11T09:32:10.776233Z"
    },
    "collapsed": true
   },
   "outputs": [],
   "source": [
    "# 得意先コードの桁数を確認\n",
    "beetech_table['得意先'].apply(lambda x: len(x)).min()"
   ]
  },
  {
   "cell_type": "code",
   "execution_count": null,
   "metadata": {
    "ExecuteTime": {
     "end_time": "2018-01-11T09:32:11.416131Z",
     "start_time": "2018-01-11T09:32:11.409127Z"
    },
    "collapsed": true
   },
   "outputs": [],
   "source": [
    "# 得意先コードの桁数を確認\n",
    "beetech_table['得意先'].apply(lambda x: len(x)).max()"
   ]
  },
  {
   "cell_type": "markdown",
   "metadata": {},
   "source": [
    "# Excel 保存、再読み込み"
   ]
  },
  {
   "cell_type": "code",
   "execution_count": null,
   "metadata": {
    "ExecuteTime": {
     "end_time": "2018-01-11T09:32:56.734711Z",
     "start_time": "2018-01-11T09:32:56.730711Z"
    },
    "collapsed": true
   },
   "outputs": [],
   "source": [
    "output_name = r'{0}\\Bestecaudio得意先リスト.xlsx'.format(path)"
   ]
  },
  {
   "cell_type": "code",
   "execution_count": null,
   "metadata": {
    "ExecuteTime": {
     "end_time": "2018-01-11T09:32:59.894886Z",
     "start_time": "2018-01-11T09:32:58.835541Z"
    },
    "collapsed": true
   },
   "outputs": [],
   "source": [
    "# エンコード指定なしで Excel 保存\n",
    "# 出力後に全セルの書式設定を文字列に変更しておいた方がよさそう\n",
    "writer = pd.ExcelWriter(output_name)\n",
    "bestec_table.to_excel(writer, sheet_name=sheet_1, index=False)\n",
    "beetech_table.to_excel(writer, sheet_name=sheet_2, index=False)\n",
    "writer.save()"
   ]
  },
  {
   "cell_type": "code",
   "execution_count": null,
   "metadata": {
    "ExecuteTime": {
     "end_time": "2018-01-11T09:34:08.662095Z",
     "start_time": "2018-01-11T09:34:08.361832Z"
    },
    "collapsed": true
   },
   "outputs": [],
   "source": [
    "# bestec 確認\n",
    "df = pd.read_excel(output_name, sheet_1, keep_default_na=False,\n",
    "                   dtype={'FAX番号': str,\n",
    "                            '住所1': str,\n",
    "                            '住所2': str,\n",
    "                            '住所3': str,\n",
    "                            '削除区分': str,\n",
    "                            '名カナ': str,\n",
    "                            '回収支払日1': str,\n",
    "                            '回収支払月1': str,\n",
    "                            '得意先': str,\n",
    "                            '得意先名1': str,\n",
    "                            '得意先名2': str,\n",
    "                            '担当者コード': str,\n",
    "                            '担当者名': str,\n",
    "                            '業種': str,\n",
    "                            '業種名': str,\n",
    "                            '締日グループ名1': str,\n",
    "                            '郵便番号': str,\n",
    "                            '都道府県': str,\n",
    "                            '都道府県名': str,\n",
    "                            '電話番号': str})"
   ]
  },
  {
   "cell_type": "code",
   "execution_count": null,
   "metadata": {
    "ExecuteTime": {
     "end_time": "2018-01-11T09:34:47.356955Z",
     "start_time": "2018-01-11T09:34:47.268905Z"
    },
    "collapsed": true,
    "scrolled": true
   },
   "outputs": [],
   "source": [
    "df"
   ]
  },
  {
   "cell_type": "code",
   "execution_count": null,
   "metadata": {
    "ExecuteTime": {
     "end_time": "2018-01-11T09:34:48.683691Z",
     "start_time": "2018-01-11T09:34:48.675688Z"
    },
    "collapsed": true
   },
   "outputs": [],
   "source": [
    "df.dtypes"
   ]
  },
  {
   "cell_type": "code",
   "execution_count": null,
   "metadata": {
    "ExecuteTime": {
     "end_time": "2018-01-11T09:34:53.364079Z",
     "start_time": "2018-01-11T09:34:53.331055Z"
    },
    "collapsed": true
   },
   "outputs": [],
   "source": [
    "df.applymap(lambda x: re.match('\\x1f', x)).any()"
   ]
  },
  {
   "cell_type": "code",
   "execution_count": null,
   "metadata": {
    "ExecuteTime": {
     "end_time": "2018-01-11T09:34:54.276399Z",
     "start_time": "2018-01-11T09:34:54.240373Z"
    },
    "collapsed": true
   },
   "outputs": [],
   "source": [
    "df.applymap(lambda x: re.match('nan', x)).any()"
   ]
  },
  {
   "cell_type": "code",
   "execution_count": null,
   "metadata": {
    "ExecuteTime": {
     "end_time": "2018-01-11T09:34:56.848004Z",
     "start_time": "2018-01-11T09:34:56.840999Z"
    },
    "collapsed": true
   },
   "outputs": [],
   "source": [
    "df['電話番号'].values"
   ]
  },
  {
   "cell_type": "code",
   "execution_count": null,
   "metadata": {
    "ExecuteTime": {
     "end_time": "2018-01-11T09:34:58.551611Z",
     "start_time": "2018-01-11T09:34:58.543605Z"
    },
    "collapsed": true
   },
   "outputs": [],
   "source": [
    "df['名カナ'].values"
   ]
  },
  {
   "cell_type": "code",
   "execution_count": null,
   "metadata": {
    "ExecuteTime": {
     "end_time": "2018-01-11T09:35:01.424583Z",
     "start_time": "2018-01-11T09:35:01.414574Z"
    },
    "collapsed": true,
    "scrolled": true
   },
   "outputs": [],
   "source": [
    "df['得意先名2'].values"
   ]
  },
  {
   "cell_type": "code",
   "execution_count": null,
   "metadata": {
    "ExecuteTime": {
     "end_time": "2018-01-11T09:34:43.393238Z",
     "start_time": "2018-01-11T09:34:43.091024Z"
    },
    "collapsed": true
   },
   "outputs": [],
   "source": [
    "# beetech 確認\n",
    "df = pd.read_excel(output_name, sheet_2, keep_default_na=False,\n",
    "                   dtype={'FAX番号': str,\n",
    "                             '住所1': str,\n",
    "                             '住所2': str,\n",
    "                             '住所3': str,\n",
    "                             '削除区分': str,\n",
    "                             '名カナ': str,\n",
    "                             '回収支払日1': str,\n",
    "                             '回収支払月1': str,\n",
    "                             '回収種別名': str,\n",
    "                             '得意先': str,\n",
    "                             '得意先備考1': str,\n",
    "                             '得意先備考2': str,\n",
    "                             '得意先備考3': str,\n",
    "                             '得意先名1': str,\n",
    "                             '得意先名2': str,\n",
    "                             '担当者名': str,\n",
    "                             '業種': str,\n",
    "                             '業種名': str,\n",
    "                             '締日グループ名1': str,\n",
    "                             '請求先コード': str,\n",
    "                             '請求先略称': str,\n",
    "                             '郵便番号': str,\n",
    "                             '都道府県': str,\n",
    "                             '都道府県名': str,\n",
    "                             '電話番号': str})"
   ]
  },
  {
   "cell_type": "markdown",
   "metadata": {},
   "source": [
    "# CSV 保存、確認"
   ]
  },
  {
   "cell_type": "code",
   "execution_count": null,
   "metadata": {
    "ExecuteTime": {
     "end_time": "2017-12-18T06:20:01.885855Z",
     "start_time": "2017-12-18T06:20:01.854592Z"
    },
    "collapsed": true,
    "scrolled": true
   },
   "outputs": [],
   "source": [
    "# utf-8 で CSV 保存 (Excel で文字化けする)\n",
    "bestec_table.to_csv(r'{0}\\bestec_table_utf8.csv'.format(path), encoding='utf-8')"
   ]
  },
  {
   "cell_type": "code",
   "execution_count": null,
   "metadata": {
    "ExecuteTime": {
     "end_time": "2017-12-18T06:20:02.620231Z",
     "start_time": "2017-12-18T06:20:02.604601Z"
    },
    "collapsed": true,
    "scrolled": true
   },
   "outputs": [],
   "source": [
    "# エンコード指定なしで CSV 保存 (そのままでは pandas で読み込めなくなる)\n",
    "bestec_table.to_csv(r'{0}\\bestec_table.csv'.format(path))"
   ]
  },
  {
   "cell_type": "code",
   "execution_count": null,
   "metadata": {
    "ExecuteTime": {
     "end_time": "2017-12-18T06:20:05.323690Z",
     "start_time": "2017-12-18T06:20:05.292425Z"
    },
    "collapsed": true
   },
   "outputs": [],
   "source": [
    "# bestec_table_utf8.csv\n",
    "df = pd.read_csv(r'{0}\\bestec_table_utf8.csv'.format(path), index_col=0)"
   ]
  },
  {
   "cell_type": "code",
   "execution_count": null,
   "metadata": {
    "ExecuteTime": {
     "end_time": "2017-12-18T06:08:02.948071Z",
     "start_time": "2017-12-18T06:08:02.932433Z"
    },
    "collapsed": true
   },
   "outputs": [],
   "source": [
    "# bestec_table.csv\n",
    "with codecs.open(r'{0}\\bestec_table.csv'.format(path), mode=\"r\", encoding=\"Shift-JIS\", errors=\"ignore\") as file:\n",
    "    df = pd.read_table(file, delimiter=\",\", index_col=0)"
   ]
  },
  {
   "cell_type": "code",
   "execution_count": null,
   "metadata": {
    "ExecuteTime": {
     "end_time": "2017-12-18T06:20:09.183827Z",
     "start_time": "2017-12-18T06:20:09.121326Z"
    },
    "collapsed": true
   },
   "outputs": [],
   "source": [
    "df"
   ]
  },
  {
   "cell_type": "code",
   "execution_count": null,
   "metadata": {
    "ExecuteTime": {
     "end_time": "2017-12-18T06:20:18.529576Z",
     "start_time": "2017-12-18T06:20:18.498368Z"
    },
    "collapsed": true,
    "scrolled": true
   },
   "outputs": [],
   "source": [
    "df.dtypes"
   ]
  },
  {
   "cell_type": "code",
   "execution_count": null,
   "metadata": {
    "collapsed": true
   },
   "outputs": [],
   "source": []
  }
 ],
 "metadata": {
  "kernelspec": {
   "display_name": "Python 3",
   "language": "python",
   "name": "python3"
  },
  "language_info": {
   "codemirror_mode": {
    "name": "ipython",
    "version": 3
   },
   "file_extension": ".py",
   "mimetype": "text/x-python",
   "name": "python",
   "nbconvert_exporter": "python",
   "pygments_lexer": "ipython3",
   "version": "3.6.1"
  },
  "toc": {
   "nav_menu": {},
   "number_sections": true,
   "sideBar": true,
   "skip_h1_title": false,
   "title_cell": "Table of Contents",
   "title_sidebar": "Contents",
   "toc_cell": false,
   "toc_position": {},
   "toc_section_display": true,
   "toc_window_display": false
  },
  "varInspector": {
   "cols": {
    "lenName": 16,
    "lenType": 16,
    "lenVar": 40
   },
   "kernels_config": {
    "python": {
     "delete_cmd_postfix": "",
     "delete_cmd_prefix": "del ",
     "library": "var_list.py",
     "varRefreshCmd": "print(var_dic_list())"
    },
    "r": {
     "delete_cmd_postfix": ") ",
     "delete_cmd_prefix": "rm(",
     "library": "var_list.r",
     "varRefreshCmd": "cat(var_dic_list()) "
    }
   },
   "types_to_exclude": [
    "module",
    "function",
    "builtin_function_or_method",
    "instance",
    "_Feature"
   ],
   "window_display": false
  }
 },
 "nbformat": 4,
 "nbformat_minor": 2
}
